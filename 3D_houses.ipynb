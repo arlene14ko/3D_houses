{
 "cells": [
  {
   "cell_type": "markdown",
   "id": "competent-outside",
   "metadata": {},
   "source": [
    "# 3D Houses Project\n",
    "\n",
    "##### A jupyter notebook where you can search for a Belgium address and it will create a 3D House model.\n"
   ]
  },
  {
   "cell_type": "markdown",
   "id": "provincial-insider",
   "metadata": {},
   "source": [
    "### Importing The Necessary Libraries\n"
   ]
  },
  {
   "cell_type": "markdown",
   "id": "processed-boulder",
   "metadata": {},
   "source": [
    "First we need to import all the necessary libraries for this project."
   ]
  },
  {
   "cell_type": "code",
   "execution_count": 1,
   "id": "moved-loading",
   "metadata": {},
   "outputs": [],
   "source": [
    "import requests\n",
    "import json\n",
    "import numpy as np\n",
    "import pandas as pd\n",
    "\n",
    "from io import BytesIO\n",
    "from urllib.request import urlopen\n",
    "from zipfile import ZipFile\n",
    "\n",
    "import rasterio as rt\n",
    "from rasterio.mask import mask\n",
    "\n",
    "%matplotlib inline\n",
    "import matplotlib.pyplot as plt\n",
    "\n",
    "import plotly.graph_objects as go"
   ]
  },
  {
   "cell_type": "markdown",
   "id": "outstanding-plain",
   "metadata": {},
   "source": [
    "### Enter Belgium Address"
   ]
  },
  {
   "cell_type": "markdown",
   "id": "incorporated-inspiration",
   "metadata": {},
   "source": [
    "First you need to enter the Belgium address you wanted to search.\n",
    "\n",
    "Please follow the following format:\n",
    "\n",
    "        Bolivarplaats 20, 2000 Antwerpen \n",
    "        {streetname} {house number}, {postcode} {municipality}"
   ]
  },
  {
   "cell_type": "code",
   "execution_count": 2,
   "id": "incident-seeker",
   "metadata": {},
   "outputs": [
    {
     "name": "stdout",
     "output_type": "stream",
     "text": [
      "Enter the Belgium address: Bolivarplaats 20, 2000 Antwerpen\n"
     ]
    }
   ],
   "source": [
    "address = input(\"Enter the Belgium address: \") "
   ]
  },
  {
   "cell_type": "markdown",
   "id": "recreational-lewis",
   "metadata": {},
   "source": [
    "### Get the details of the address (coordinates, polygon) by using an API"
   ]
  },
  {
   "cell_type": "markdown",
   "id": "elegant-pavilion",
   "metadata": {},
   "source": [
    "Now that we got the address, we are going to check the address in the www.geopunt.be website to check if the input address is a valid address in Vlaanderen and to get the coordinates. "
   ]
  },
  {
   "cell_type": "markdown",
   "id": "greek-narrative",
   "metadata": {},
   "source": [
    "Then, we have to look for the address in the Basisregisters Vlaanderen API and get the polygon of that address.\n",
    "\n",
    "Here is the link to the API: https://docs.basisregisters.dev-vlaanderen.be/docs/api-documentation.html#operation/GetAddress"
   ]
  },
  {
   "cell_type": "code",
   "execution_count": 3,
   "id": "headed-maldives",
   "metadata": {},
   "outputs": [],
   "source": [
    "def get_details(address: str):\n",
    "    req = requests.get(f\"https://loc.geopunt.be/v4/Location?q={address}\").json()\n",
    "    info = {'address' : address, \n",
    "                'x_value' : req['LocationResult'][0]['Location']['X_Lambert72'],\n",
    "                'y_value' : req['LocationResult'][0]['Location']['Y_Lambert72'],\n",
    "                'street' : req['LocationResult'][0]['Thoroughfarename'],\n",
    "                'house_number' : req['LocationResult'][0]['Housenumber'], \n",
    "                'postcode': req['LocationResult'][0]['Zipcode'], \n",
    "                'municipality' : req['LocationResult'][0]['Municipality']}\n",
    "    \n",
    "    detail = requests.get(\"https://api.basisregisters.vlaanderen.be/v1/adresmatch\", \n",
    "                          params={\"postcode\": info['postcode'], \n",
    "                                  \"straatnaam\": info['street'],\n",
    "                                  \"huisnummer\": info['house_number']}).json()\n",
    "    building = requests.get(detail['adresMatches'][0]['adresseerbareObjecten'][0]['detail']).json()\n",
    "    build = requests.get(building['gebouw']['detail']).json()\n",
    "    info['polygon'] = [build['geometriePolygoon']['polygon']]\n",
    "    \n",
    "    return info"
   ]
  },
  {
   "cell_type": "code",
   "execution_count": 4,
   "id": "subjective-brighton",
   "metadata": {
    "scrolled": false
   },
   "outputs": [
    {
     "data": {
      "text/plain": [
       "{'address': 'Bolivarplaats 20, 2000 Antwerpen',\n",
       " 'x_value': 151310.86,\n",
       " 'y_value': 210425.85,\n",
       " 'street': 'Bolivarplaats',\n",
       " 'house_number': '20',\n",
       " 'postcode': '2000',\n",
       " 'municipality': 'Antwerpen',\n",
       " 'polygon': [{'coordinates': [[[151290.9148921445, 210548.07995613664],\n",
       "     [151286.9813241437, 210555.69122014195],\n",
       "     [151275.0793081373, 210549.45320414007],\n",
       "     [151296.962188147, 210506.94818010926],\n",
       "     [151294.24314814806, 210505.55118810758],\n",
       "     [151292.06017214805, 210509.80219611153],\n",
       "     [151289.05921214074, 210508.2212041095],\n",
       "     [151292.0021881461, 210502.4901961051],\n",
       "     [151291.83918014914, 210502.39816410467],\n",
       "     [151293.72417214513, 210498.72418010235],\n",
       "     [151297.5501561463, 210500.6871881038],\n",
       "     [151296.65518014878, 210502.43118810654],\n",
       "     [151298.74618814886, 210503.5042121075],\n",
       "     [151303.9821561575, 210493.3402440995],\n",
       "     [151298.93262015283, 210490.58216409758],\n",
       "     [151293.97774014622, 210487.65742809698],\n",
       "     [151289.1231481433, 210484.5691720955],\n",
       "     [151254.37127611786, 210537.43016412854],\n",
       "     [151243.07924411446, 210530.0021321252],\n",
       "     [151269.3831161335, 210490.0061000958],\n",
       "     [151266.79514812678, 210488.29915609583],\n",
       "     [151264.21914812922, 210492.3021641001],\n",
       "     [151261.36417212337, 210490.46408409625],\n",
       "     [151264.92014012486, 210485.05314009264],\n",
       "     [151264.75316412747, 210484.94312409312],\n",
       "     [151267.0621561259, 210481.43310809135],\n",
       "     [151270.65415613353, 210483.7961160913],\n",
       "     [151269.57716412842, 210485.43413209543],\n",
       "     [151271.54017212987, 210486.72514009476],\n",
       "     [151277.8101241365, 210477.19112408906],\n",
       "     [151273.0727161318, 210473.91714008525],\n",
       "     [151268.44244413078, 210470.49333208427],\n",
       "     [151263.92410812527, 210466.92309208214],\n",
       "     [151223.83924409747, 210515.8420681171],\n",
       "     [151213.48321209103, 210507.22203610837],\n",
       "     [151243.76807611436, 210470.18907608464],\n",
       "     [151241.3801081106, 210468.33006808162],\n",
       "     [151238.3401081115, 210471.9850440845],\n",
       "     [151235.75713210553, 210469.83701208234],\n",
       "     [151239.82106810808, 210464.85307608172],\n",
       "     [151239.66708411276, 210464.72603607923],\n",
       "     [151242.3061241135, 210461.51202007756],\n",
       "     [151245.6181241125, 210464.21902807802],\n",
       "     [151244.35207611322, 210465.76808407903],\n",
       "     [151246.16007611156, 210467.2820680812],\n",
       "     [151256.93006011844, 210454.15310807154],\n",
       "     [151257.48705212027, 210454.61006807163],\n",
       "     [151264.83002812415, 210445.67406806722],\n",
       "     [151263.7130361274, 210445.10210006684],\n",
       "     [151264.40404412895, 210443.75810006633],\n",
       "     [151266.02241212875, 210440.6116040647],\n",
       "     [151276.0019961372, 210421.2087240517],\n",
       "     [151278.55495613813, 210416.24514004588],\n",
       "     [151279.2459641397, 210414.90210004523],\n",
       "     [151280.44500413537, 210415.51912404597],\n",
       "     [151283.32692413777, 210404.86510803923],\n",
       "     [151282.87297213823, 210404.73608404025],\n",
       "     [151283.02798014134, 210404.1891400367],\n",
       "     [151282.7869561389, 210404.1230920367],\n",
       "     [151286.4499321431, 210390.75810002908],\n",
       "     [151283.50190013647, 210389.95010002702],\n",
       "     [151282.3199481368, 210394.45307603106],\n",
       "     [151279.06990014017, 210393.59912402928],\n",
       "     [151280.68692413718, 210387.44507602602],\n",
       "     [151280.49793213606, 210387.39406802505],\n",
       "     [151281.6019321382, 210383.32206802443],\n",
       "     [151285.72890814394, 210384.48110802472],\n",
       "     [151285.2268921435, 210386.31611602753],\n",
       "     [151287.54593214393, 210386.95112402737],\n",
       "     [151299.76980414987, 210342.15009999648],\n",
       "     [151296.8338041529, 210341.3561159931],\n",
       "     [151295.5958521515, 210345.93307599798],\n",
       "     [151292.31380414963, 210345.0450759977],\n",
       "     [151293.99681214988, 210338.8251079917],\n",
       "     [151293.8048121482, 210338.77013199404],\n",
       "     [151294.4028281495, 210336.67707599327],\n",
       "     [151301.04378814995, 210338.4691399932],\n",
       "     [151301.8988281563, 210335.65409998968],\n",
       "     [151301.65780415386, 210335.58811599016],\n",
       "     [151312.07169216126, 210297.40315596387],\n",
       "     [151325.0377081707, 210300.9661639668],\n",
       "     [151297.2429561466, 210402.44213203713],\n",
       "     [151301.39943615347, 210403.6236360371],\n",
       "     [151305.52129215747, 210404.92098003998],\n",
       "     [151309.6051961556, 210406.33320403844],\n",
       "     [151313.64794816077, 210407.8592200391],\n",
       "     [151316.70094016194, 210400.04718803614],\n",
       "     [151313.86894015968, 210398.9412040338],\n",
       "     [151312.137932159, 210403.37518803775],\n",
       "     [151308.95194815844, 210402.1311560385],\n",
       "     [151311.29991615564, 210396.11918803304],\n",
       "     [151311.11393216252, 210396.0452040322],\n",
       "     [151312.64794816077, 210392.15918802842],\n",
       "     [151316.6339321658, 210393.70018003136],\n",
       "     [151315.91194815934, 210395.56520403177],\n",
       "     [151318.1019641608, 210396.41518803313],\n",
       "     [151335.02983617783, 210353.0652360022],\n",
       "     [151332.20583617687, 210351.96520400047],\n",
       "     [151330.47182017565, 210356.4201800041],\n",
       "     [151327.3028601706, 210355.1861960031],\n",
       "     [151329.63982017338, 210349.18721999973],\n",
       "     [151329.45281217247, 210349.1152199991],\n",
       "     [151330.24679617584, 210347.0491719991],\n",
       "     [151336.46081217378, 210349.4192200005],\n",
       "     [151354.9937401861, 210302.05121996626],\n",
       "     [151367.5647481978, 210306.93326796964],\n",
       "     [151326.24295616895, 210412.7832520455],\n",
       "     [151330.25614017248, 210414.40021204576],\n",
       "     [151334.22074817866, 210416.13288404793],\n",
       "     [151338.13345217705, 210417.97973204777],\n",
       "     [151341.99098818004, 210419.93928404897],\n",
       "     [151345.89895617962, 210412.37026004493],\n",
       "     [151343.19495618343, 210410.95925204456],\n",
       "     [151340.93594817817, 210415.2882760465],\n",
       "     [151337.90394818038, 210413.70523604378],\n",
       "     [151340.8849401772, 210407.99323604256],\n",
       "     [151340.70695617795, 210407.90222804248],\n",
       "     [151342.62894017994, 210404.15624403954],\n",
       "     [151346.44398018718, 210406.12827603891],\n",
       "     [151345.53895618021, 210407.87829203904],\n",
       "     [151347.91297218204, 210409.07726804167],\n",
       "     [151368.97185219824, 210367.6743240133],\n",
       "     [151366.24583619833, 210366.2613320127],\n",
       "     [151364.04583619535, 210370.50427601486],\n",
       "     [151361.02689219266, 210368.9382600151],\n",
       "     [151363.99284419417, 210363.22030800954],\n",
       "     [151363.81588419527, 210363.12731600925],\n",
       "     [151365.86484419554, 210359.21026000753],\n",
       "     [151369.65985219926, 210361.2043080069],\n",
       "     [151368.63687619567, 210363.15131600946],\n",
       "     [151370.9808761999, 210364.29429201037],\n",
       "     [151373.0418682024, 210360.29429200664],\n",
       "     [151372.81985220313, 210360.17928400636],\n",
       "     [151401.86874822527, 210304.0583239682],\n",
       "     [151413.84570822865, 210310.21237197146],\n",
       "     [151379.79322820902, 210376.10286802053],\n",
       "     [151374.33082820475, 210386.67240402475],\n",
       "     [151374.21626820415, 210386.8941000253],\n",
       "     [151342.13505218178, 210448.97026006877],\n",
       "     [151338.96750018, 210455.09986007214],\n",
       "     [151338.3703161776, 210456.2554440759],\n",
       "     [151331.59278017282, 210469.37077208236],\n",
       "     [151328.89582017064, 210474.58965208754],\n",
       "     [151327.88212417066, 210476.55125208944],\n",
       "     [151295.96801214665, 210538.30299613252],\n",
       "     [151290.9148921445, 210548.07995613664]]],\n",
       "   'type': 'Polygon'}]}"
      ]
     },
     "execution_count": 4,
     "metadata": {},
     "output_type": "execute_result"
    }
   ],
   "source": [
    "address_info = get_details(address)\n",
    "address_info"
   ]
  },
  {
   "cell_type": "markdown",
   "id": "lesbian-amount",
   "metadata": {},
   "source": [
    "Alright! Now we have all the data that we need, we have to figure out in which tiff file the building is located. "
   ]
  },
  {
   "cell_type": "markdown",
   "id": "excited-thanks",
   "metadata": {},
   "source": [
    "### Figure out which tiff file to open depending on the coordinates"
   ]
  },
  {
   "cell_type": "markdown",
   "id": "demographic-pakistan",
   "metadata": {},
   "source": [
    "To check which tiff file to open, we need to get the boundingbox of the tiff file and then compare if the X and Y of the address is inside the bounding box.\n",
    "\n",
    "I was able to create a csv file containing the bounding box for all the DSM files. SO we just need to open it and check which tiff file should we use."
   ]
  },
  {
   "cell_type": "code",
   "execution_count": 23,
   "id": "animated-habitat",
   "metadata": {},
   "outputs": [],
   "source": [
    "def check_tiff(x, y):\n",
    "    bbox = pd.read_csv('data/bounding-box.csv')\n",
    "    \n",
    "    for i in range(bbox.shape[0]):\n",
    "        if bbox['Left (X)'][i] <= x:\n",
    "            if bbox['Right (X)'][i] >= x:\n",
    "                if bbox['Bottom (Y)'][i] <= y:\n",
    "                    if bbox['Top (Y)'][i] >= y:\n",
    "                        i = i\n",
    "                        break  \n",
    "    \n",
    "    if i < 9 :\n",
    "        num = f'k0{i+1}'\n",
    "    else:\n",
    "        num = f'k{i+1}'\n",
    " \n",
    "    return num"
   ]
  },
  {
   "cell_type": "code",
   "execution_count": 24,
   "id": "desperate-hello",
   "metadata": {},
   "outputs": [
    {
     "data": {
      "text/plain": [
       "'k15'"
      ]
     },
     "execution_count": 24,
     "metadata": {},
     "output_type": "execute_result"
    }
   ],
   "source": [
    "num = check_tiff(address_info['x_value'], address_info['y_value'])\n",
    "num"
   ]
  },
  {
   "cell_type": "code",
   "execution_count": 25,
   "id": "loose-filling",
   "metadata": {},
   "outputs": [],
   "source": [
    "def get_tiff(num):\n",
    "    files = {'DSM': f\"https://downloadagiv.blob.core.windows.net/dhm-vlaanderen-ii-dsm-raster-1m/DHMVIIDSMRAS1m_{num}.zip\", \n",
    "             'DTM': f\"https://downloadagiv.blob.core.windows.net/dhm-vlaanderen-ii-dtm-raster-1m/DHMVIIDTMRAS1m_{num}.zip\"}\n",
    "    for key, value in files.items():\n",
    "        with urlopen(value) as zipresp:\n",
    "            print(f\"Downloading the {key} zip file......\")\n",
    "            with ZipFile(BytesIO(zipresp.read())) as zfile:\n",
    "                print(f\"Extracting the {key} zip file .......\")\n",
    "                zfile.extractall(f'data/temp-raster/{key}')\n",
    "                print(f\"Done extracting the {key} zip file to temp-raster/{key} folder! :)\")\n",
    "    \n",
    "    print(\"Successfully downloaded all the tiff files!\")"
   ]
  },
  {
   "cell_type": "code",
   "execution_count": 26,
   "id": "pointed-protocol",
   "metadata": {},
   "outputs": [
    {
     "name": "stdout",
     "output_type": "stream",
     "text": [
      "Downloading the DSM zip file......\n",
      "Extracting the DSM zip file .......\n",
      "Done extracting the DSM zip file to temp-raster/DSM folder! :)\n",
      "Downloading the DTM zip file......\n",
      "Extracting the DTM zip file .......\n",
      "Done extracting the DTM zip file to temp-raster/DTM folder! :)\n",
      "Successfully downloaded all the tiff files!\n"
     ]
    }
   ],
   "source": [
    "get_tiff(num)"
   ]
  },
  {
   "cell_type": "markdown",
   "id": "hybrid-forth",
   "metadata": {},
   "source": [
    "### Creating the Canopy Height Model"
   ]
  },
  {
   "cell_type": "markdown",
   "id": "perceived-potter",
   "metadata": {},
   "source": [
    "Alright! Now the DSM and DTM files are already saved and extracted to the `raster-files` folder.\n",
    "We can now proceed in creating the `Canopy Height Model`.\n",
    "\n",
    "\n",
    "          Canopy Height Model = Digital Surface Model - Digital Terrain Model\n",
    "    \n",
    "\n",
    "First, we have to open the tiff file from the extracted files and we need to use the mask option to only show the polygon inside the tiff file."
   ]
  },
  {
   "cell_type": "markdown",
   "id": "caroline-hopkins",
   "metadata": {},
   "source": [
    "We need to only open the part in the tiff file where the house/property lies, so to do that we need to do clipping or masking."
   ]
  },
  {
   "cell_type": "code",
   "execution_count": 41,
   "id": "technical-ticket",
   "metadata": {},
   "outputs": [],
   "source": [
    "import shutil\n",
    "\n",
    "def get_chm(num, polygon):\n",
    "    raster_files = {'DSM' : f\"data/temp-raster/DSM/GeoTiff/DHMVIIDSMRAS1m_{num}.tif\",\n",
    "                    'DTM' : f\"data/temp-raster/DTM/GeoTiff/DHMVIIDTMRAS1m_{num}.tif\"}\n",
    "    for name, file in raster_files.items():\n",
    "        data = rt.open(file)\n",
    "        out_img, out_transform = mask(dataset=data, shapes=address_info['polygon'], crop=True)\n",
    "        out_meta = data.meta.copy()\n",
    "        epsg_code = int(data.crs.data['init'][5:])\n",
    "        out_meta.update({\"driver\": \"GTiff\",\n",
    "                     \"height\": out_img.shape[1],\n",
    "                     \"width\": out_img.shape[2],\n",
    "                     \"transform\": out_transform,\n",
    "                     \"crs\": epsg_code,\n",
    "                     \"developer\" : \"Arlene Postrado\"\n",
    "                    })\n",
    "        with rt.open(f\"data/masked-files/{name}_masked.tif\", \"w\", **out_meta) as dest:\n",
    "            dest.write(out_img)\n",
    "            shutil.rmtree(f\"./data/temp-raster/{name}/\", ignore_errors=True)\n",
    "    \n",
    "    dsm_tiff = rt.open(\"data/masked-files/DSM_masked.tif\")\n",
    "    dsm_array = dsm_tiff.read(1) \n",
    "        \n",
    "    dtm_tiff = rt.open(\"data/masked-files/DTM_masked.tif\")\n",
    "    dtm_array = dtm_tiff.read(1) \n",
    "    \n",
    "    CHM = dsm_array - dtm_array\n",
    "        \n",
    "    return CHM\n",
    "    "
   ]
  },
  {
   "cell_type": "code",
   "execution_count": 42,
   "id": "expected-nickel",
   "metadata": {},
   "outputs": [],
   "source": [
    "CHM = get_chm(num, address_info['polygon'])"
   ]
  },
  {
   "cell_type": "code",
   "execution_count": 43,
   "id": "insured-mileage",
   "metadata": {},
   "outputs": [
    {
     "data": {
      "image/png": "[encoded data removed]",
      "text/plain": [
       "<Figure size 432x288 with 1 Axes>"
      ]
     },
     "metadata": {
      "needs_background": "light"
     },
     "output_type": "display_data"
    }
   ],
   "source": [
    "plt.imshow(CHM, cmap='ocean')\n",
    "plt.show()"
   ]
  },
  {
   "cell_type": "markdown",
   "id": "isolated-organizer",
   "metadata": {},
   "source": [
    "Great! We got the CHM file. Now we can plot it in 3D using the plotly library."
   ]
  },
  {
   "cell_type": "markdown",
   "id": "political-cruise",
   "metadata": {},
   "source": [
    "### Creating the 3D House "
   ]
  },
  {
   "cell_type": "markdown",
   "id": "cross-smooth",
   "metadata": {},
   "source": [
    "Since we were able to get the CHM file, we just need to plot it to get the 3D representation. To do that, we will use the plotly library. \n",
    "\n",
    "It will then plot a 3D representation of the CHM for the address that you wanted.\n"
   ]
  },
  {
   "cell_type": "code",
   "execution_count": 5,
   "id": "fundamental-istanbul",
   "metadata": {},
   "outputs": [
    {
     "ename": "OSError",
     "evalue": "[WinError 127] The specified procedure could not be found",
     "output_type": "error",
     "traceback": [
      "\u001b[1;31m---------------------------------------------------------------------------\u001b[0m",
      "\u001b[1;31mOSError\u001b[0m                                   Traceback (most recent call last)",
      "\u001b[1;32m<ipython-input-5-5c9ebb99225e>\u001b[0m in \u001b[0;36m<module>\u001b[1;34m\u001b[0m\n\u001b[1;32m----> 1\u001b[1;33m \u001b[1;32mfrom\u001b[0m \u001b[0mshapely\u001b[0m\u001b[1;33m.\u001b[0m\u001b[0mgeometry\u001b[0m \u001b[1;32mimport\u001b[0m \u001b[0mPolygon\u001b[0m\u001b[1;33m\u001b[0m\u001b[1;33m\u001b[0m\u001b[0m\n\u001b[0m\u001b[0;32m      2\u001b[0m \u001b[0mpoly\u001b[0m \u001b[1;33m=\u001b[0m \u001b[0mPolygon\u001b[0m\u001b[1;33m(\u001b[0m\u001b[0maddress_info\u001b[0m\u001b[1;33m[\u001b[0m\u001b[1;34m'polygon'\u001b[0m\u001b[1;33m]\u001b[0m\u001b[1;33m[\u001b[0m\u001b[1;36m0\u001b[0m\u001b[1;33m]\u001b[0m\u001b[1;33m)\u001b[0m\u001b[1;33m\u001b[0m\u001b[1;33m\u001b[0m\u001b[0m\n",
      "\u001b[1;32m~\\anaconda3\\lib\\site-packages\\shapely\\geometry\\__init__.py\u001b[0m in \u001b[0;36m<module>\u001b[1;34m\u001b[0m\n\u001b[0;32m      2\u001b[0m \"\"\"\n\u001b[0;32m      3\u001b[0m \u001b[1;33m\u001b[0m\u001b[0m\n\u001b[1;32m----> 4\u001b[1;33m \u001b[1;32mfrom\u001b[0m \u001b[1;33m.\u001b[0m\u001b[0mbase\u001b[0m \u001b[1;32mimport\u001b[0m \u001b[0mCAP_STYLE\u001b[0m\u001b[1;33m,\u001b[0m \u001b[0mJOIN_STYLE\u001b[0m\u001b[1;33m\u001b[0m\u001b[1;33m\u001b[0m\u001b[0m\n\u001b[0m\u001b[0;32m      5\u001b[0m \u001b[1;32mfrom\u001b[0m \u001b[1;33m.\u001b[0m\u001b[0mgeo\u001b[0m \u001b[1;32mimport\u001b[0m \u001b[0mbox\u001b[0m\u001b[1;33m,\u001b[0m \u001b[0mshape\u001b[0m\u001b[1;33m,\u001b[0m \u001b[0masShape\u001b[0m\u001b[1;33m,\u001b[0m \u001b[0mmapping\u001b[0m\u001b[1;33m\u001b[0m\u001b[1;33m\u001b[0m\u001b[0m\n\u001b[0;32m      6\u001b[0m \u001b[1;32mfrom\u001b[0m \u001b[1;33m.\u001b[0m\u001b[0mpoint\u001b[0m \u001b[1;32mimport\u001b[0m \u001b[0mPoint\u001b[0m\u001b[1;33m,\u001b[0m \u001b[0masPoint\u001b[0m\u001b[1;33m\u001b[0m\u001b[1;33m\u001b[0m\u001b[0m\n",
      "\u001b[1;32m~\\anaconda3\\lib\\site-packages\\shapely\\geometry\\base.py\u001b[0m in \u001b[0;36m<module>\u001b[1;34m\u001b[0m\n\u001b[0;32m     16\u001b[0m \u001b[1;33m\u001b[0m\u001b[0m\n\u001b[0;32m     17\u001b[0m \u001b[1;32mfrom\u001b[0m \u001b[0mshapely\u001b[0m\u001b[1;33m.\u001b[0m\u001b[0maffinity\u001b[0m \u001b[1;32mimport\u001b[0m \u001b[0maffine_transform\u001b[0m\u001b[1;33m\u001b[0m\u001b[1;33m\u001b[0m\u001b[0m\n\u001b[1;32m---> 18\u001b[1;33m \u001b[1;32mfrom\u001b[0m \u001b[0mshapely\u001b[0m\u001b[1;33m.\u001b[0m\u001b[0mcoords\u001b[0m \u001b[1;32mimport\u001b[0m \u001b[0mCoordinateSequence\u001b[0m\u001b[1;33m\u001b[0m\u001b[1;33m\u001b[0m\u001b[0m\n\u001b[0m\u001b[0;32m     19\u001b[0m \u001b[1;32mfrom\u001b[0m \u001b[0mshapely\u001b[0m\u001b[1;33m.\u001b[0m\u001b[0merrors\u001b[0m \u001b[1;32mimport\u001b[0m \u001b[0mWKBReadingError\u001b[0m\u001b[1;33m,\u001b[0m \u001b[0mWKTReadingError\u001b[0m\u001b[1;33m\u001b[0m\u001b[1;33m\u001b[0m\u001b[0m\n\u001b[0;32m     20\u001b[0m \u001b[1;32mfrom\u001b[0m \u001b[0mshapely\u001b[0m\u001b[1;33m.\u001b[0m\u001b[0mgeos\u001b[0m \u001b[1;32mimport\u001b[0m \u001b[0mWKBWriter\u001b[0m\u001b[1;33m,\u001b[0m \u001b[0mWKTWriter\u001b[0m\u001b[1;33m\u001b[0m\u001b[1;33m\u001b[0m\u001b[0m\n",
      "\u001b[1;32m~\\anaconda3\\lib\\site-packages\\shapely\\coords.py\u001b[0m in \u001b[0;36m<module>\u001b[1;34m\u001b[0m\n\u001b[0;32m      6\u001b[0m \u001b[1;32mfrom\u001b[0m \u001b[0mctypes\u001b[0m \u001b[1;32mimport\u001b[0m \u001b[0mbyref\u001b[0m\u001b[1;33m,\u001b[0m \u001b[0mc_double\u001b[0m\u001b[1;33m,\u001b[0m \u001b[0mc_uint\u001b[0m\u001b[1;33m\u001b[0m\u001b[1;33m\u001b[0m\u001b[0m\n\u001b[0;32m      7\u001b[0m \u001b[1;33m\u001b[0m\u001b[0m\n\u001b[1;32m----> 8\u001b[1;33m \u001b[1;32mfrom\u001b[0m \u001b[0mshapely\u001b[0m\u001b[1;33m.\u001b[0m\u001b[0mgeos\u001b[0m \u001b[1;32mimport\u001b[0m \u001b[0mlgeos\u001b[0m\u001b[1;33m\u001b[0m\u001b[1;33m\u001b[0m\u001b[0m\n\u001b[0m\u001b[0;32m      9\u001b[0m \u001b[1;32mfrom\u001b[0m \u001b[0mshapely\u001b[0m\u001b[1;33m.\u001b[0m\u001b[0mtopology\u001b[0m \u001b[1;32mimport\u001b[0m \u001b[0mValidating\u001b[0m\u001b[1;33m\u001b[0m\u001b[1;33m\u001b[0m\u001b[0m\n\u001b[0;32m     10\u001b[0m \u001b[1;33m\u001b[0m\u001b[0m\n",
      "\u001b[1;32m~\\anaconda3\\lib\\site-packages\\shapely\\geos.py\u001b[0m in \u001b[0;36m<module>\u001b[1;34m\u001b[0m\n\u001b[0;32m    143\u001b[0m     \u001b[1;32mif\u001b[0m \u001b[0mos\u001b[0m\u001b[1;33m.\u001b[0m\u001b[0mgetenv\u001b[0m\u001b[1;33m(\u001b[0m\u001b[1;34m'CONDA_PREFIX'\u001b[0m\u001b[1;33m,\u001b[0m \u001b[1;34m''\u001b[0m\u001b[1;33m)\u001b[0m\u001b[1;33m:\u001b[0m\u001b[1;33m\u001b[0m\u001b[1;33m\u001b[0m\u001b[0m\n\u001b[0;32m    144\u001b[0m         \u001b[1;31m# conda package.\u001b[0m\u001b[1;33m\u001b[0m\u001b[1;33m\u001b[0m\u001b[1;33m\u001b[0m\u001b[0m\n\u001b[1;32m--> 145\u001b[1;33m         \u001b[0m_lgeos\u001b[0m \u001b[1;33m=\u001b[0m \u001b[0mCDLL\u001b[0m\u001b[1;33m(\u001b[0m\u001b[0mos\u001b[0m\u001b[1;33m.\u001b[0m\u001b[0mpath\u001b[0m\u001b[1;33m.\u001b[0m\u001b[0mjoin\u001b[0m\u001b[1;33m(\u001b[0m\u001b[0msys\u001b[0m\u001b[1;33m.\u001b[0m\u001b[0mprefix\u001b[0m\u001b[1;33m,\u001b[0m \u001b[1;34m'Library'\u001b[0m\u001b[1;33m,\u001b[0m \u001b[1;34m'bin'\u001b[0m\u001b[1;33m,\u001b[0m \u001b[1;34m'geos_c.dll'\u001b[0m\u001b[1;33m)\u001b[0m\u001b[1;33m)\u001b[0m\u001b[1;33m\u001b[0m\u001b[1;33m\u001b[0m\u001b[0m\n\u001b[0m\u001b[0;32m    146\u001b[0m     \u001b[1;32melse\u001b[0m\u001b[1;33m:\u001b[0m\u001b[1;33m\u001b[0m\u001b[1;33m\u001b[0m\u001b[0m\n\u001b[0;32m    147\u001b[0m         \u001b[1;32mtry\u001b[0m\u001b[1;33m:\u001b[0m\u001b[1;33m\u001b[0m\u001b[1;33m\u001b[0m\u001b[0m\n",
      "\u001b[1;32m~\\anaconda3\\lib\\ctypes\\__init__.py\u001b[0m in \u001b[0;36m__init__\u001b[1;34m(self, name, mode, handle, use_errno, use_last_error, winmode)\u001b[0m\n\u001b[0;32m    379\u001b[0m \u001b[1;33m\u001b[0m\u001b[0m\n\u001b[0;32m    380\u001b[0m         \u001b[1;32mif\u001b[0m \u001b[0mhandle\u001b[0m \u001b[1;32mis\u001b[0m \u001b[1;32mNone\u001b[0m\u001b[1;33m:\u001b[0m\u001b[1;33m\u001b[0m\u001b[1;33m\u001b[0m\u001b[0m\n\u001b[1;32m--> 381\u001b[1;33m             \u001b[0mself\u001b[0m\u001b[1;33m.\u001b[0m\u001b[0m_handle\u001b[0m \u001b[1;33m=\u001b[0m \u001b[0m_dlopen\u001b[0m\u001b[1;33m(\u001b[0m\u001b[0mself\u001b[0m\u001b[1;33m.\u001b[0m\u001b[0m_name\u001b[0m\u001b[1;33m,\u001b[0m \u001b[0mmode\u001b[0m\u001b[1;33m)\u001b[0m\u001b[1;33m\u001b[0m\u001b[1;33m\u001b[0m\u001b[0m\n\u001b[0m\u001b[0;32m    382\u001b[0m         \u001b[1;32melse\u001b[0m\u001b[1;33m:\u001b[0m\u001b[1;33m\u001b[0m\u001b[1;33m\u001b[0m\u001b[0m\n\u001b[0;32m    383\u001b[0m             \u001b[0mself\u001b[0m\u001b[1;33m.\u001b[0m\u001b[0m_handle\u001b[0m \u001b[1;33m=\u001b[0m \u001b[0mhandle\u001b[0m\u001b[1;33m\u001b[0m\u001b[1;33m\u001b[0m\u001b[0m\n",
      "\u001b[1;31mOSError\u001b[0m: [WinError 127] The specified procedure could not be found"
     ]
    }
   ],
   "source": [
    "\n",
    "from shapely.geometry import Polygon\n",
    "poly = Polygon(address_info['polygon'][0])"
   ]
  },
  {
   "cell_type": "code",
   "execution_count": 50,
   "id": "direct-assembly",
   "metadata": {},
   "outputs": [
    {
     "ename": "AttributeError",
     "evalue": "'dict' object has no attribute 'area'",
     "output_type": "error",
     "traceback": [
      "\u001b[1;31m---------------------------------------------------------------------------\u001b[0m",
      "\u001b[1;31mAttributeError\u001b[0m                            Traceback (most recent call last)",
      "\u001b[1;32m<ipython-input-50-d8ea2e3c82fe>\u001b[0m in \u001b[0;36m<module>\u001b[1;34m\u001b[0m\n\u001b[1;32m----> 1\u001b[1;33m \u001b[0marea\u001b[0m \u001b[1;33m=\u001b[0m \u001b[0mround\u001b[0m\u001b[1;33m(\u001b[0m\u001b[0mpoly\u001b[0m\u001b[1;33m.\u001b[0m\u001b[0marea\u001b[0m\u001b[1;33m,\u001b[0m \u001b[1;36m1\u001b[0m\u001b[1;33m)\u001b[0m\u001b[1;33m\u001b[0m\u001b[1;33m\u001b[0m\u001b[0m\n\u001b[0m\u001b[0;32m      2\u001b[0m \u001b[0marea\u001b[0m\u001b[1;33m\u001b[0m\u001b[1;33m\u001b[0m\u001b[0m\n",
      "\u001b[1;31mAttributeError\u001b[0m: 'dict' object has no attribute 'area'"
     ]
    }
   ],
   "source": [
    "area = round(poly.area, 1)\n",
    "area"
   ]
  },
  {
   "cell_type": "code",
   "execution_count": null,
   "id": "refined-impossible",
   "metadata": {},
   "outputs": [],
   "source": [
    "fig = go.Figure(data=go.Surface(z=CHM))\n",
    "fig.update_layout(title=f\"This is a 3D representation of {address}\")\n",
    "fig.show()\n",
    "fig.write_image(f\"data/3D-images/{address}.png\")"
   ]
  },
  {
   "cell_type": "markdown",
   "id": "celtic-manchester",
   "metadata": {},
   "source": [
    "##### Congratulations! You just plotted a 3D represenatation of an address! Hope you had fun!"
   ]
  }
 ],
 "metadata": {
  "kernelspec": {
   "display_name": "Python 3",
   "language": "python",
   "name": "python3"
  },
  "language_info": {
   "codemirror_mode": {
    "name": "ipython",
    "version": 3
   },
   "file_extension": ".py",
   "mimetype": "text/x-python",
   "name": "python",
   "nbconvert_exporter": "python",
   "pygments_lexer": "ipython3",
   "version": "3.8.5"
  }
 },
 "nbformat": 4,
 "nbformat_minor": 5
}
