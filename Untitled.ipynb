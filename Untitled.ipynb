{
 "cells": [
  {
   "cell_type": "code",
   "execution_count": 3,
   "id": "several-medicine",
   "metadata": {},
   "outputs": [],
   "source": [
    "import os\n",
    "import pandas as pd\n",
    "import matplotlib.pyplot as plt\n",
    "import numpy as np\n",
    "import geopandas as gpd\n",
    "from shapely.geometry import Polygon\n",
    "import plotly.graph_objects as go\n",
    "\n",
    "from io import BytesIO\n",
    "from urllib.request import urlopen\n",
    "from zipfile import ZipFile\n",
    "import requests\n",
    "import json\n",
    "\n",
    "# set this so the graphs open internally\n",
    "%matplotlib inline\n",
    "\n",
    "import rioxarray as rxr\n",
    "import rasterio as rt\n",
    "from rasterio.plot import show\n",
    "from rasterio.mask import mask\n",
    "from shapely.geometry import box"
   ]
  },
  {
   "cell_type": "code",
   "execution_count": 13,
   "id": "serial-cycle",
   "metadata": {},
   "outputs": [],
   "source": [
    "address = \"Sint-Hubertusstraat 89, 2600 Antwerpen\""
   ]
  },
  {
   "cell_type": "code",
   "execution_count": 14,
   "id": "organic-spoke",
   "metadata": {},
   "outputs": [],
   "source": [
    "address = address.split(\" \")"
   ]
  },
  {
   "cell_type": "code",
   "execution_count": 12,
   "id": "bizarre-algorithm",
   "metadata": {},
   "outputs": [
    {
     "data": {
      "text/plain": [
       "['Sint-Hubertusstraat', '89', '2600', 'Antwerpen']"
      ]
     },
     "execution_count": 12,
     "metadata": {},
     "output_type": "execute_result"
    }
   ],
   "source": [
    "address"
   ]
  },
  {
   "cell_type": "code",
   "execution_count": 22,
   "id": "conceptual-orbit",
   "metadata": {},
   "outputs": [
    {
     "data": {
      "text/plain": [
       "'89'"
      ]
     },
     "execution_count": 22,
     "metadata": {},
     "output_type": "execute_result"
    }
   ],
   "source": [
    "address[1][:-1]"
   ]
  },
  {
   "cell_type": "code",
   "execution_count": null,
   "id": "tamil-walker",
   "metadata": {},
   "outputs": [],
   "source": []
  },
  {
   "cell_type": "code",
   "execution_count": null,
   "id": "changed-circuit",
   "metadata": {},
   "outputs": [],
   "source": []
  },
  {
   "cell_type": "code",
   "execution_count": null,
   "id": "reliable-sullivan",
   "metadata": {},
   "outputs": [],
   "source": []
  },
  {
   "cell_type": "code",
   "execution_count": 4,
   "id": "unavailable-rebound",
   "metadata": {
    "collapsed": true
   },
   "outputs": [
    {
     "data": {
      "text/plain": [
       "array([[-9999.  , -9999.  , -9999.  , -9999.  , -9999.  , -9999.  ,\n",
       "           21.39, -9999.  , -9999.  , -9999.  , -9999.  , -9999.  ,\n",
       "        -9999.  ],\n",
       "       [-9999.  , -9999.  , -9999.  ,    14.68,    13.35,    14.97,\n",
       "           21.38, -9999.  , -9999.  , -9999.  , -9999.  , -9999.  ,\n",
       "        -9999.  ],\n",
       "       [-9999.  ,    14.98,    15.07,    15.21,    15.35,    15.49,\n",
       "           22.07,    22.09, -9999.  , -9999.  , -9999.  , -9999.  ,\n",
       "        -9999.  ],\n",
       "       [-9999.  ,    15.95,    15.92,    15.93,    16.08,    22.02,\n",
       "           22.22,    22.14, -9999.  , -9999.  , -9999.  , -9999.  ,\n",
       "        -9999.  ],\n",
       "       [-9999.  ,    16.04,    15.98,    16.  ,    15.98,    22.03,\n",
       "           22.2 ,    22.28, -9999.  , -9999.  , -9999.  , -9999.  ,\n",
       "        -9999.  ],\n",
       "       [-9999.  ,    21.73,    16.  ,    15.98,    16.04,    18.99,\n",
       "           22.19,    22.09, -9999.  , -9999.  , -9999.  , -9999.  ,\n",
       "        -9999.  ],\n",
       "       [-9999.  , -9999.  ,    16.02,    15.92,    15.9 ,    15.94,\n",
       "           22.  ,    22.06,    22.38, -9999.  , -9999.  , -9999.  ,\n",
       "        -9999.  ],\n",
       "       [-9999.  , -9999.  ,    15.94,    16.04,    16.01,    16.01,\n",
       "           22.35,    22.31,    22.43, -9999.  , -9999.  , -9999.  ,\n",
       "        -9999.  ],\n",
       "       [-9999.  , -9999.  ,    16.14,    15.99,    16.33,    16.08,\n",
       "           22.46,    22.35,    22.36, -9999.  , -9999.  , -9999.  ,\n",
       "        -9999.  ],\n",
       "       [-9999.  , -9999.  ,    20.4 ,    16.08,    16.52,    15.99,\n",
       "           21.12,    22.34,    22.35, -9999.  , -9999.  , -9999.  ,\n",
       "        -9999.  ],\n",
       "       [-9999.  , -9999.  , -9999.  ,    16.08,    16.07,    15.98,\n",
       "           16.17,    22.38,    23.33,    24.95, -9999.  , -9999.  ,\n",
       "        -9999.  ],\n",
       "       [-9999.  , -9999.  , -9999.  ,    16.07,    17.18,    20.28,\n",
       "           24.13,    26.21,    26.34,    26.5 , -9999.  , -9999.  ,\n",
       "        -9999.  ],\n",
       "       [-9999.  , -9999.  , -9999.  ,    26.27,    26.41,    24.77,\n",
       "           26.73,    26.91,    27.05,    27.19, -9999.  , -9999.  ,\n",
       "        -9999.  ],\n",
       "       [-9999.  , -9999.  , -9999.  ,    26.91,    27.07,    27.25,\n",
       "           27.4 ,    27.52,    27.67,    27.88, -9999.  , -9999.  ,\n",
       "        -9999.  ],\n",
       "       [-9999.  , -9999.  , -9999.  , -9999.  ,    27.73,    27.87,\n",
       "           28.02,    28.18,    28.36,    28.54,    28.72, -9999.  ,\n",
       "        -9999.  ],\n",
       "       [-9999.  , -9999.  , -9999.  , -9999.  ,    29.27,    28.51,\n",
       "           28.64,    28.78,    28.97,    29.18,    29.36, -9999.  ,\n",
       "        -9999.  ],\n",
       "       [-9999.  , -9999.  , -9999.  , -9999.  ,    29.06,    29.13,\n",
       "           29.3 ,    29.48,    29.67,    29.83,    30.04, -9999.  ,\n",
       "        -9999.  ],\n",
       "       [-9999.  , -9999.  , -9999.  , -9999.  ,    28.77,    29.84,\n",
       "           29.94,    29.81,    29.66,    29.5 ,    29.36, -9999.  ,\n",
       "        -9999.  ],\n",
       "       [-9999.  , -9999.  , -9999.  , -9999.  , -9999.  ,    29.51,\n",
       "           29.33,    29.16,    28.95,    28.83,    28.69,    28.62,\n",
       "        -9999.  ],\n",
       "       [-9999.  , -9999.  , -9999.  , -9999.  , -9999.  ,    28.84,\n",
       "           28.65,    28.46,    28.29,    28.14,    28.02,    27.93,\n",
       "        -9999.  ],\n",
       "       [-9999.  , -9999.  , -9999.  , -9999.  , -9999.  ,    28.73,\n",
       "           27.97,    27.79,    27.62,    27.48,    27.33,    27.21,\n",
       "        -9999.  ],\n",
       "       [-9999.  , -9999.  , -9999.  , -9999.  , -9999.  ,    29.51,\n",
       "           27.37,    26.64,    26.98,    26.83,    26.69,    26.56,\n",
       "        -9999.  ],\n",
       "       [-9999.  , -9999.  , -9999.  , -9999.  , -9999.  , -9999.  ,\n",
       "           26.7 ,    22.  ,    26.4 ,    23.77,    26.01, -9999.  ,\n",
       "        -9999.  ],\n",
       "       [-9999.  , -9999.  , -9999.  , -9999.  , -9999.  , -9999.  ,\n",
       "           16.99, -9999.  , -9999.  , -9999.  , -9999.  , -9999.  ,\n",
       "        -9999.  ]], dtype=float32)"
      ]
     },
     "execution_count": 4,
     "metadata": {},
     "output_type": "execute_result"
    }
   ],
   "source": [
    "dsm_tiff = rt.open(\"data/DSM_masked.tif\")\n",
    "dsm_array = dsm_tiff.read(1) #reading the 1st band\n",
    "dsm_array"
   ]
  },
  {
   "cell_type": "code",
   "execution_count": 5,
   "id": "taken-administrator",
   "metadata": {
    "collapsed": true
   },
   "outputs": [
    {
     "data": {
      "text/plain": [
       "array([[-9999.       , -9999.       , -9999.       , -9999.       ,\n",
       "        -9999.       , -9999.       ,    11.88     , -9999.       ,\n",
       "        -9999.       , -9999.       , -9999.       , -9999.       ,\n",
       "        -9999.       ],\n",
       "       [-9999.       , -9999.       , -9999.       ,    11.879514 ,\n",
       "           11.875604 ,    11.876141 ,    11.876488 , -9999.       ,\n",
       "        -9999.       , -9999.       , -9999.       , -9999.       ,\n",
       "        -9999.       ],\n",
       "       [-9999.       ,    11.85002  ,    11.860737 ,    11.85795  ,\n",
       "           11.854791 ,    11.855257 ,    11.855593 ,    11.851808 ,\n",
       "        -9999.       , -9999.       , -9999.       , -9999.       ,\n",
       "        -9999.       ],\n",
       "       [-9999.       ,    11.855274 ,    11.8687   ,    11.868029 ,\n",
       "           11.86491  ,    11.862969 ,    11.8616295,    11.856451 ,\n",
       "        -9999.       , -9999.       , -9999.       , -9999.       ,\n",
       "        -9999.       ],\n",
       "       [-9999.       ,    11.839546 ,    11.836151 ,    11.843951 ,\n",
       "           11.848371 ,    11.846012 ,    11.845115 ,    11.8404455,\n",
       "        -9999.       , -9999.       , -9999.       , -9999.       ,\n",
       "        -9999.       ],\n",
       "       [-9999.       ,    11.826072 ,    11.822583 ,    11.828816 ,\n",
       "           11.835694 ,    11.832801 ,    11.831935 ,    11.827438 ,\n",
       "        -9999.       , -9999.       , -9999.       , -9999.       ,\n",
       "        -9999.       ],\n",
       "       [-9999.       , -9999.       ,    11.813075 ,    11.806673 ,\n",
       "           11.8153715,    11.824187 ,    11.822429 ,    11.817804 ,\n",
       "           11.817823 , -9999.       , -9999.       , -9999.       ,\n",
       "        -9999.       ],\n",
       "       [-9999.       , -9999.       ,    11.8047905,    11.798287 ,\n",
       "           11.805704 ,    11.8167305,    11.814159 ,    11.809278 ,\n",
       "           11.736822 , -9999.       , -9999.       , -9999.       ,\n",
       "        -9999.       ],\n",
       "       [-9999.       , -9999.       ,    11.795939 ,    11.789226 ,\n",
       "           11.785303 ,    11.808821 ,    11.7213955,    11.717199 ,\n",
       "           11.717365 , -9999.       , -9999.       , -9999.       ,\n",
       "        -9999.       ],\n",
       "       [-9999.       , -9999.       ,    11.776409 ,    11.779926 ,\n",
       "           11.683436 ,    11.685064 ,    11.702281 ,    11.701509 ,\n",
       "           11.697719 , -9999.       , -9999.       , -9999.       ,\n",
       "        -9999.       ],\n",
       "       [-9999.       , -9999.       , -9999.       ,    11.671196 ,\n",
       "           11.6632595,    11.654747 ,    11.683425 ,    11.682408 ,\n",
       "           11.677958 ,    11.67343  , -9999.       , -9999.       ,\n",
       "        -9999.       ],\n",
       "       [-9999.       , -9999.       , -9999.       ,    11.642185 ,\n",
       "           11.642894 ,    11.63418  ,    11.664497 ,    11.663227 ,\n",
       "           11.6581335,    11.6536   , -9999.       , -9999.       ,\n",
       "        -9999.       ],\n",
       "       [-9999.       , -9999.       , -9999.       ,    11.623226 ,\n",
       "           11.62242  ,    11.613413 ,    11.638243 ,    11.644021 ,\n",
       "           11.6382885,    11.633782 , -9999.       , -9999.       ,\n",
       "        -9999.       ],\n",
       "       [-9999.       , -9999.       , -9999.       ,    11.604172 ,\n",
       "           11.594542 ,    11.592512 ,    11.591666 ,    11.6248455,\n",
       "           11.618456 ,    11.614    , -9999.       , -9999.       ,\n",
       "        -9999.       ],\n",
       "       [-9999.       , -9999.       , -9999.       , -9999.       ,\n",
       "           11.575042 ,    11.571536 ,    11.571222 ,    11.600132 ,\n",
       "           11.59867  ,    11.594274 ,    11.586419 , -9999.       ,\n",
       "        -9999.       ],\n",
       "       [-9999.       , -9999.       , -9999.       , -9999.       ,\n",
       "           11.55553  ,    11.544809 ,    11.550573 ,    11.548778 ,\n",
       "           11.578962 ,    11.574631 ,    11.5673895, -9999.       ,\n",
       "        -9999.       ],\n",
       "       [-9999.       , -9999.       , -9999.       , -9999.       ,\n",
       "           11.529348 ,    11.524733 ,    11.529789 ,    11.527751 ,\n",
       "           11.559368 ,    11.555107 ,    11.548476 , -9999.       ,\n",
       "        -9999.       ],\n",
       "       [-9999.       , -9999.       , -9999.       , -9999.       ,\n",
       "           11.508598 ,    11.504705 ,    11.504637 ,    11.506568 ,\n",
       "           11.539912 ,    11.53575  ,    11.52973  , -9999.       ,\n",
       "        -9999.       ],\n",
       "       [-9999.       , -9999.       , -9999.       , -9999.       ,\n",
       "        -9999.       ,    11.484838 ,    11.484591 ,    11.485274 ,\n",
       "           11.518641 ,    11.516623 ,    11.511244 ,    11.515794 ,\n",
       "        -9999.       ],\n",
       "       [-9999.       , -9999.       , -9999.       , -9999.       ,\n",
       "        -9999.       ,    11.465391 ,    11.464656 ,    11.416853 ,\n",
       "           11.418166 ,    11.458144 ,    11.455568 ,    11.462843 ,\n",
       "        -9999.       ],\n",
       "       [-9999.       , -9999.       , -9999.       , -9999.       ,\n",
       "        -9999.       ,    11.396703 ,    11.401805 ,    11.398952 ,\n",
       "           11.400032 ,    11.440605 ,    11.440627 ,    11.4462185,\n",
       "        -9999.       ],\n",
       "       [-9999.       , -9999.       , -9999.       , -9999.       ,\n",
       "        -9999.       ,    11.393879 ,    11.398068 ,    11.394934 ,\n",
       "           11.39396  ,    11.4344225,    11.439178 ,    11.445439 ,\n",
       "        -9999.       ],\n",
       "       [-9999.       , -9999.       , -9999.       , -9999.       ,\n",
       "        -9999.       , -9999.       ,    11.402511 ,    11.397517 ,\n",
       "           11.396014 ,    11.401911 ,    11.416164 , -9999.       ,\n",
       "        -9999.       ],\n",
       "       [-9999.       , -9999.       , -9999.       , -9999.       ,\n",
       "        -9999.       , -9999.       ,    11.372674 , -9999.       ,\n",
       "        -9999.       , -9999.       , -9999.       , -9999.       ,\n",
       "        -9999.       ]], dtype=float32)"
      ]
     },
     "execution_count": 5,
     "metadata": {},
     "output_type": "execute_result"
    }
   ],
   "source": [
    "dtm_tiff = rt.open(\"data/DTM_masked.tif\")\n",
    "dtm_array = dtm_tiff.read(1) #reading the 1st band\n",
    "dtm_array"
   ]
  },
  {
   "cell_type": "code",
   "execution_count": 6,
   "id": "theoretical-vienna",
   "metadata": {
    "collapsed": true
   },
   "outputs": [
    {
     "data": {
      "text/plain": [
       "array([[ 0.       ,  0.       ,  0.       ,  0.       ,  0.       ,\n",
       "         0.       ,  9.509999 ,  0.       ,  0.       ,  0.       ,\n",
       "         0.       ,  0.       ,  0.       ],\n",
       "       [ 0.       ,  0.       ,  0.       ,  2.8004866,  1.4743967,\n",
       "         3.0938597,  9.503511 ,  0.       ,  0.       ,  0.       ,\n",
       "         0.       ,  0.       ,  0.       ],\n",
       "       [ 0.       ,  3.1299791,  3.2092628,  3.3520498,  3.4952097,\n",
       "         3.6347427, 10.214407 , 10.238193 ,  0.       ,  0.       ,\n",
       "         0.       ,  0.       ,  0.       ],\n",
       "       [ 0.       ,  4.0947256,  4.0513   ,  4.0619717,  4.21509  ,\n",
       "        10.157031 , 10.35837  , 10.283548 ,  0.       ,  0.       ,\n",
       "         0.       ,  0.       ,  0.       ],\n",
       "       [ 0.       ,  4.2004547,  4.1438484,  4.156049 ,  4.131629 ,\n",
       "        10.183989 , 10.354886 , 10.439555 ,  0.       ,  0.       ,\n",
       "         0.       ,  0.       ,  0.       ],\n",
       "       [ 0.       ,  9.903928 ,  4.177417 ,  4.151183 ,  4.2043066,\n",
       "         7.157199 , 10.358066 , 10.262562 ,  0.       ,  0.       ,\n",
       "         0.       ,  0.       ,  0.       ],\n",
       "       [ 0.       ,  0.       ,  4.2069254,  4.113327 ,  4.084628 ,\n",
       "         4.1158123, 10.177571 , 10.242195 , 10.562176 ,  0.       ,\n",
       "         0.       ,  0.       ,  0.       ],\n",
       "       [ 0.       ,  0.       ,  4.135209 ,  4.2417135,  4.204296 ,\n",
       "         4.1932697, 10.535841 , 10.500722 , 10.693178 ,  0.       ,\n",
       "         0.       ,  0.       ,  0.       ],\n",
       "       [ 0.       ,  0.       ,  4.34406  ,  4.200774 ,  4.544697 ,\n",
       "         4.271179 , 10.738604 , 10.632801 , 10.642635 ,  0.       ,\n",
       "         0.       ,  0.       ,  0.       ],\n",
       "       [ 0.       ,  0.       ,  8.62359  ,  4.3000736,  4.836564 ,\n",
       "         4.3049355,  9.41772  , 10.638491 , 10.652282 ,  0.       ,\n",
       "         0.       ,  0.       ,  0.       ],\n",
       "       [ 0.       ,  0.       ,  0.       ,  4.408804 ,  4.40674  ,\n",
       "         4.3252525,  4.486575 , 10.697591 , 11.652042 , 13.27657  ,\n",
       "         0.       ,  0.       ,  0.       ],\n",
       "       [ 0.       ,  0.       ,  0.       ,  4.4278145,  5.5371065,\n",
       "         8.645821 , 12.465502 , 14.546772 , 14.681867 , 14.8464   ,\n",
       "         0.       ,  0.       ,  0.       ],\n",
       "       [ 0.       ,  0.       ,  0.       , 14.646774 , 14.78758  ,\n",
       "        13.156588 , 15.091757 , 15.265979 , 15.411711 , 15.556218 ,\n",
       "         0.       ,  0.       ,  0.       ],\n",
       "       [ 0.       ,  0.       ,  0.       , 15.305828 , 15.475458 ,\n",
       "        15.657488 , 15.808333 , 15.895155 , 16.051544 , 16.265999 ,\n",
       "         0.       ,  0.       ,  0.       ],\n",
       "       [ 0.       ,  0.       ,  0.       ,  0.       , 16.154957 ,\n",
       "        16.298466 , 16.448778 , 16.579868 , 16.76133  , 16.945728 ,\n",
       "        17.13358  ,  0.       ,  0.       ],\n",
       "       [ 0.       ,  0.       ,  0.       ,  0.       , 17.71447  ,\n",
       "        16.96519  , 17.089426 , 17.231224 , 17.391037 , 17.60537  ,\n",
       "        17.79261  ,  0.       ,  0.       ],\n",
       "       [ 0.       ,  0.       ,  0.       ,  0.       , 17.530651 ,\n",
       "        17.605267 , 17.77021  , 17.952248 , 18.110632 , 18.274893 ,\n",
       "        18.491524 ,  0.       ,  0.       ],\n",
       "       [ 0.       ,  0.       ,  0.       ,  0.       , 17.261402 ,\n",
       "        18.335295 , 18.435364 , 18.303432 , 18.120087 , 17.964249 ,\n",
       "        17.83027  ,  0.       ,  0.       ],\n",
       "       [ 0.       ,  0.       ,  0.       ,  0.       ,  0.       ,\n",
       "        18.025162 , 17.84541  , 17.674725 , 17.431358 , 17.313377 ,\n",
       "        17.178757 , 17.104206 ,  0.       ],\n",
       "       [ 0.       ,  0.       ,  0.       ,  0.       ,  0.       ,\n",
       "        17.374609 , 17.185345 , 17.043146 , 16.871834 , 16.681854 ,\n",
       "        16.564432 , 16.467157 ,  0.       ],\n",
       "       [ 0.       ,  0.       ,  0.       ,  0.       ,  0.       ,\n",
       "        17.333298 , 16.568195 , 16.391048 , 16.219969 , 16.039394 ,\n",
       "        15.889373 , 15.763781 ,  0.       ],\n",
       "       [ 0.       ,  0.       ,  0.       ,  0.       ,  0.       ,\n",
       "        18.116121 , 15.971932 , 15.245066 , 15.58604  , 15.395577 ,\n",
       "        15.250822 , 15.11456  ,  0.       ],\n",
       "       [ 0.       ,  0.       ,  0.       ,  0.       ,  0.       ,\n",
       "         0.       , 15.29749  , 10.602483 , 15.003985 , 12.36809  ,\n",
       "        14.593836 ,  0.       ,  0.       ],\n",
       "       [ 0.       ,  0.       ,  0.       ,  0.       ,  0.       ,\n",
       "         0.       ,  5.617326 ,  0.       ,  0.       ,  0.       ,\n",
       "         0.       ,  0.       ,  0.       ]], dtype=float32)"
      ]
     },
     "execution_count": 6,
     "metadata": {},
     "output_type": "execute_result"
    }
   ],
   "source": [
    "CHM = dsm_array - dtm_array\n",
    "CHM"
   ]
  },
  {
   "cell_type": "code",
   "execution_count": 7,
   "id": "communist-harassment",
   "metadata": {},
   "outputs": [
    {
     "data": {
      "image/png": "[encoded data removed]",
      "text/plain": [
       "<Figure size 432x288 with 1 Axes>"
      ]
     },
     "metadata": {
      "needs_background": "light"
     },
     "output_type": "display_data"
    }
   ],
   "source": [
    "plt.imshow(CHM, cmap='ocean')\n",
    "plt.show()"
   ]
  },
  {
   "cell_type": "code",
   "execution_count": 8,
   "id": "accepted-steal",
   "metadata": {},
   "outputs": [
    {
     "data": {
      "application/vnd.plotly.v1+json": {
       "config": {
        "plotlyServerURL": "https://plot.ly"
       },
       "data": [
        {
         "type": "surface",
         "z": [
          [
           0,
           0,
           0,
           0,
           0,
           0,
           9.50999927520752,
           0,
           0,
           0,
           0,
           0,
           0
          ],
          [
           0,
           0,
           0,
           2.8004865646362305,
           1.4743967056274414,
           3.0938596725463867,
           9.503511428833008,
           0,
           0,
           0,
           0,
           0,
           0
          ],
          [
           0,
           3.129979133605957,
           3.2092628479003906,
           3.3520498275756836,
           3.4952096939086914,
           3.6347427368164062,
           10.214406967163086,
           10.238192558288574,
           0,
           0,
           0,
           0,
           0
          ],
          [
           0,
           4.094725608825684,
           4.051300048828125,
           4.061971664428711,
           4.215089797973633,
           10.157031059265137,
           10.358369827270508,
           10.283548355102539,
           0,
           0,
           0,
           0,
           0
          ],
          [
           0,
           4.2004547119140625,
           4.143848419189453,
           4.156048774719238,
           4.13162899017334,
           10.183988571166992,
           10.354886054992676,
           10.439555168151855,
           0,
           0,
           0,
           0,
           0
          ],
          [
           0,
           9.90392780303955,
           4.177416801452637,
           4.151183128356934,
           4.204306602478027,
           7.157198905944824,
           10.358065605163574,
           10.262561798095703,
           0,
           0,
           0,
           0,
           0
          ],
          [
           0,
           0,
           4.206925392150879,
           4.1133270263671875,
           4.084628105163574,
           4.115812301635742,
           10.177571296691895,
           10.242195129394531,
           10.562175750732422,
           0,
           0,
           0,
           0
          ],
          [
           0,
           0,
           4.135209083557129,
           4.241713523864746,
           4.204296112060547,
           4.193269729614258,
           10.53584098815918,
           10.50072193145752,
           10.693178176879883,
           0,
           0,
           0,
           0
          ],
          [
           0,
           0,
           4.344059944152832,
           4.200774192810059,
           4.544696807861328,
           4.27117919921875,
           10.738603591918945,
           10.632801055908203,
           10.642635345458984,
           0,
           0,
           0,
           0
          ],
          [
           0,
           0,
           8.623590469360352,
           4.300073623657227,
           4.836564064025879,
           4.304935455322266,
           9.417719841003418,
           10.638490676879883,
           10.652281761169434,
           0,
           0,
           0,
           0
          ],
          [
           0,
           0,
           0,
           4.408803939819336,
           4.406740188598633,
           4.325252532958984,
           4.486575126647949,
           10.697590827941895,
           11.652042388916016,
           13.276570320129395,
           0,
           0,
           0
          ],
          [
           0,
           0,
           0,
           4.427814483642578,
           5.537106513977051,
           8.645820617675781,
           12.46550178527832,
           14.546772003173828,
           14.681866645812988,
           14.846400260925293,
           0,
           0,
           0
          ],
          [
           0,
           0,
           0,
           14.646774291992188,
           14.787579536437988,
           13.156587600708008,
           15.091756820678711,
           15.265978813171387,
           15.411710739135742,
           15.556218147277832,
           0,
           0,
           0
          ],
          [
           0,
           0,
           0,
           15.305828094482422,
           15.475458145141602,
           15.657487869262695,
           15.808333396911621,
           15.89515495300293,
           16.051544189453125,
           16.26599884033203,
           0,
           0,
           0
          ],
          [
           0,
           0,
           0,
           0,
           16.154956817626953,
           16.298465728759766,
           16.44877815246582,
           16.57986831665039,
           16.761329650878906,
           16.945728302001953,
           17.13357925415039,
           0,
           0
          ],
          [
           0,
           0,
           0,
           0,
           17.71446990966797,
           16.965190887451172,
           17.089426040649414,
           17.231224060058594,
           17.391036987304688,
           17.605369567871094,
           17.79261016845703,
           0,
           0
          ],
          [
           0,
           0,
           0,
           0,
           17.530651092529297,
           17.605266571044922,
           17.77021026611328,
           17.952247619628906,
           18.110631942749023,
           18.274892807006836,
           18.49152374267578,
           0,
           0
          ],
          [
           0,
           0,
           0,
           0,
           17.261402130126953,
           18.335294723510742,
           18.43536376953125,
           18.30343246459961,
           18.120086669921875,
           17.964248657226562,
           17.830270767211914,
           0,
           0
          ],
          [
           0,
           0,
           0,
           0,
           0,
           18.025161743164062,
           17.845409393310547,
           17.674724578857422,
           17.431358337402344,
           17.313377380371094,
           17.178756713867188,
           17.104206085205078,
           0
          ],
          [
           0,
           0,
           0,
           0,
           0,
           17.374608993530273,
           17.185344696044922,
           17.04314613342285,
           16.87183380126953,
           16.681854248046875,
           16.56443214416504,
           16.4671573638916,
           0
          ],
          [
           0,
           0,
           0,
           0,
           0,
           17.333297729492188,
           16.568195343017578,
           16.391048431396484,
           16.219968795776367,
           16.03939437866211,
           15.889372825622559,
           15.76378059387207,
           0
          ],
          [
           0,
           0,
           0,
           0,
           0,
           18.116121292114258,
           15.971932411193848,
           15.245065689086914,
           15.586039543151855,
           15.395577430725098,
           15.250822067260742,
           15.1145601272583,
           0
          ],
          [
           0,
           0,
           0,
           0,
           0,
           0,
           15.297490119934082,
           10.602482795715332,
           15.003985404968262,
           12.36808967590332,
           14.593835830688477,
           0,
           0
          ],
          [
           0,
           0,
           0,
           0,
           0,
           0,
           5.617325782775879,
           0,
           0,
           0,
           0,
           0,
           0
          ]
         ]
        }
       ],
       "layout": {
        "template": {
         "data": {
          "bar": [
           {
            "error_x": {
             "color": "#2a3f5f"
            },
            "error_y": {
             "color": "#2a3f5f"
            },
            "marker": {
             "line": {
              "color": "#E5ECF6",
              "width": 0.5
             }
            },
            "type": "bar"
           }
          ],
          "barpolar": [
           {
            "marker": {
             "line": {
              "color": "#E5ECF6",
              "width": 0.5
             }
            },
            "type": "barpolar"
           }
          ],
          "carpet": [
           {
            "aaxis": {
             "endlinecolor": "#2a3f5f",
             "gridcolor": "white",
             "linecolor": "white",
             "minorgridcolor": "white",
             "startlinecolor": "#2a3f5f"
            },
            "baxis": {
             "endlinecolor": "#2a3f5f",
             "gridcolor": "white",
             "linecolor": "white",
             "minorgridcolor": "white",
             "startlinecolor": "#2a3f5f"
            },
            "type": "carpet"
           }
          ],
          "choropleth": [
           {
            "colorbar": {
             "outlinewidth": 0,
             "ticks": ""
            },
            "type": "choropleth"
           }
          ],
          "contour": [
           {
            "colorbar": {
             "outlinewidth": 0,
             "ticks": ""
            },
            "colorscale": [
             [
              0,
              "#0d0887"
             ],
             [
              0.1111111111111111,
              "#46039f"
             ],
             [
              0.2222222222222222,
              "#7201a8"
             ],
             [
              0.3333333333333333,
              "#9c179e"
             ],
             [
              0.4444444444444444,
              "#bd3786"
             ],
             [
              0.5555555555555556,
              "#d8576b"
             ],
             [
              0.6666666666666666,
              "#ed7953"
             ],
             [
              0.7777777777777778,
              "#fb9f3a"
             ],
             [
              0.8888888888888888,
              "#fdca26"
             ],
             [
              1,
              "#f0f921"
             ]
            ],
            "type": "contour"
           }
          ],
          "contourcarpet": [
           {
            "colorbar": {
             "outlinewidth": 0,
             "ticks": ""
            },
            "type": "contourcarpet"
           }
          ],
          "heatmap": [
           {
            "colorbar": {
             "outlinewidth": 0,
             "ticks": ""
            },
            "colorscale": [
             [
              0,
              "#0d0887"
             ],
             [
              0.1111111111111111,
              "#46039f"
             ],
             [
              0.2222222222222222,
              "#7201a8"
             ],
             [
              0.3333333333333333,
              "#9c179e"
             ],
             [
              0.4444444444444444,
              "#bd3786"
             ],
             [
              0.5555555555555556,
              "#d8576b"
             ],
             [
              0.6666666666666666,
              "#ed7953"
             ],
             [
              0.7777777777777778,
              "#fb9f3a"
             ],
             [
              0.8888888888888888,
              "#fdca26"
             ],
             [
              1,
              "#f0f921"
             ]
            ],
            "type": "heatmap"
           }
          ],
          "heatmapgl": [
           {
            "colorbar": {
             "outlinewidth": 0,
             "ticks": ""
            },
            "colorscale": [
             [
              0,
              "#0d0887"
             ],
             [
              0.1111111111111111,
              "#46039f"
             ],
             [
              0.2222222222222222,
              "#7201a8"
             ],
             [
              0.3333333333333333,
              "#9c179e"
             ],
             [
              0.4444444444444444,
              "#bd3786"
             ],
             [
              0.5555555555555556,
              "#d8576b"
             ],
             [
              0.6666666666666666,
              "#ed7953"
             ],
             [
              0.7777777777777778,
              "#fb9f3a"
             ],
             [
              0.8888888888888888,
              "#fdca26"
             ],
             [
              1,
              "#f0f921"
             ]
            ],
            "type": "heatmapgl"
           }
          ],
          "histogram": [
           {
            "marker": {
             "colorbar": {
              "outlinewidth": 0,
              "ticks": ""
             }
            },
            "type": "histogram"
           }
          ],
          "histogram2d": [
           {
            "colorbar": {
             "outlinewidth": 0,
             "ticks": ""
            },
            "colorscale": [
             [
              0,
              "#0d0887"
             ],
             [
              0.1111111111111111,
              "#46039f"
             ],
             [
              0.2222222222222222,
              "#7201a8"
             ],
             [
              0.3333333333333333,
              "#9c179e"
             ],
             [
              0.4444444444444444,
              "#bd3786"
             ],
             [
              0.5555555555555556,
              "#d8576b"
             ],
             [
              0.6666666666666666,
              "#ed7953"
             ],
             [
              0.7777777777777778,
              "#fb9f3a"
             ],
             [
              0.8888888888888888,
              "#fdca26"
             ],
             [
              1,
              "#f0f921"
             ]
            ],
            "type": "histogram2d"
           }
          ],
          "histogram2dcontour": [
           {
            "colorbar": {
             "outlinewidth": 0,
             "ticks": ""
            },
            "colorscale": [
             [
              0,
              "#0d0887"
             ],
             [
              0.1111111111111111,
              "#46039f"
             ],
             [
              0.2222222222222222,
              "#7201a8"
             ],
             [
              0.3333333333333333,
              "#9c179e"
             ],
             [
              0.4444444444444444,
              "#bd3786"
             ],
             [
              0.5555555555555556,
              "#d8576b"
             ],
             [
              0.6666666666666666,
              "#ed7953"
             ],
             [
              0.7777777777777778,
              "#fb9f3a"
             ],
             [
              0.8888888888888888,
              "#fdca26"
             ],
             [
              1,
              "#f0f921"
             ]
            ],
            "type": "histogram2dcontour"
           }
          ],
          "mesh3d": [
           {
            "colorbar": {
             "outlinewidth": 0,
             "ticks": ""
            },
            "type": "mesh3d"
           }
          ],
          "parcoords": [
           {
            "line": {
             "colorbar": {
              "outlinewidth": 0,
              "ticks": ""
             }
            },
            "type": "parcoords"
           }
          ],
          "pie": [
           {
            "automargin": true,
            "type": "pie"
           }
          ],
          "scatter": [
           {
            "marker": {
             "colorbar": {
              "outlinewidth": 0,
              "ticks": ""
             }
            },
            "type": "scatter"
           }
          ],
          "scatter3d": [
           {
            "line": {
             "colorbar": {
              "outlinewidth": 0,
              "ticks": ""
             }
            },
            "marker": {
             "colorbar": {
              "outlinewidth": 0,
              "ticks": ""
             }
            },
            "type": "scatter3d"
           }
          ],
          "scattercarpet": [
           {
            "marker": {
             "colorbar": {
              "outlinewidth": 0,
              "ticks": ""
             }
            },
            "type": "scattercarpet"
           }
          ],
          "scattergeo": [
           {
            "marker": {
             "colorbar": {
              "outlinewidth": 0,
              "ticks": ""
             }
            },
            "type": "scattergeo"
           }
          ],
          "scattergl": [
           {
            "marker": {
             "colorbar": {
              "outlinewidth": 0,
              "ticks": ""
             }
            },
            "type": "scattergl"
           }
          ],
          "scattermapbox": [
           {
            "marker": {
             "colorbar": {
              "outlinewidth": 0,
              "ticks": ""
             }
            },
            "type": "scattermapbox"
           }
          ],
          "scatterpolar": [
           {
            "marker": {
             "colorbar": {
              "outlinewidth": 0,
              "ticks": ""
             }
            },
            "type": "scatterpolar"
           }
          ],
          "scatterpolargl": [
           {
            "marker": {
             "colorbar": {
              "outlinewidth": 0,
              "ticks": ""
             }
            },
            "type": "scatterpolargl"
           }
          ],
          "scatterternary": [
           {
            "marker": {
             "colorbar": {
              "outlinewidth": 0,
              "ticks": ""
             }
            },
            "type": "scatterternary"
           }
          ],
          "surface": [
           {
            "colorbar": {
             "outlinewidth": 0,
             "ticks": ""
            },
            "colorscale": [
             [
              0,
              "#0d0887"
             ],
             [
              0.1111111111111111,
              "#46039f"
             ],
             [
              0.2222222222222222,
              "#7201a8"
             ],
             [
              0.3333333333333333,
              "#9c179e"
             ],
             [
              0.4444444444444444,
              "#bd3786"
             ],
             [
              0.5555555555555556,
              "#d8576b"
             ],
             [
              0.6666666666666666,
              "#ed7953"
             ],
             [
              0.7777777777777778,
              "#fb9f3a"
             ],
             [
              0.8888888888888888,
              "#fdca26"
             ],
             [
              1,
              "#f0f921"
             ]
            ],
            "type": "surface"
           }
          ],
          "table": [
           {
            "cells": {
             "fill": {
              "color": "#EBF0F8"
             },
             "line": {
              "color": "white"
             }
            },
            "header": {
             "fill": {
              "color": "#C8D4E3"
             },
             "line": {
              "color": "white"
             }
            },
            "type": "table"
           }
          ]
         },
         "layout": {
          "annotationdefaults": {
           "arrowcolor": "#2a3f5f",
           "arrowhead": 0,
           "arrowwidth": 1
          },
          "autotypenumbers": "strict",
          "coloraxis": {
           "colorbar": {
            "outlinewidth": 0,
            "ticks": ""
           }
          },
          "colorscale": {
           "diverging": [
            [
             0,
             "#8e0152"
            ],
            [
             0.1,
             "#c51b7d"
            ],
            [
             0.2,
             "#de77ae"
            ],
            [
             0.3,
             "#f1b6da"
            ],
            [
             0.4,
             "#fde0ef"
            ],
            [
             0.5,
             "#f7f7f7"
            ],
            [
             0.6,
             "#e6f5d0"
            ],
            [
             0.7,
             "#b8e186"
            ],
            [
             0.8,
             "#7fbc41"
            ],
            [
             0.9,
             "#4d9221"
            ],
            [
             1,
             "#276419"
            ]
           ],
           "sequential": [
            [
             0,
             "#0d0887"
            ],
            [
             0.1111111111111111,
             "#46039f"
            ],
            [
             0.2222222222222222,
             "#7201a8"
            ],
            [
             0.3333333333333333,
             "#9c179e"
            ],
            [
             0.4444444444444444,
             "#bd3786"
            ],
            [
             0.5555555555555556,
             "#d8576b"
            ],
            [
             0.6666666666666666,
             "#ed7953"
            ],
            [
             0.7777777777777778,
             "#fb9f3a"
            ],
            [
             0.8888888888888888,
             "#fdca26"
            ],
            [
             1,
             "#f0f921"
            ]
           ],
           "sequentialminus": [
            [
             0,
             "#0d0887"
            ],
            [
             0.1111111111111111,
             "#46039f"
            ],
            [
             0.2222222222222222,
             "#7201a8"
            ],
            [
             0.3333333333333333,
             "#9c179e"
            ],
            [
             0.4444444444444444,
             "#bd3786"
            ],
            [
             0.5555555555555556,
             "#d8576b"
            ],
            [
             0.6666666666666666,
             "#ed7953"
            ],
            [
             0.7777777777777778,
             "#fb9f3a"
            ],
            [
             0.8888888888888888,
             "#fdca26"
            ],
            [
             1,
             "#f0f921"
            ]
           ]
          },
          "colorway": [
           "#636efa",
           "#EF553B",
           "#00cc96",
           "#ab63fa",
           "#FFA15A",
           "#19d3f3",
           "#FF6692",
           "#B6E880",
           "#FF97FF",
           "#FECB52"
          ],
          "font": {
           "color": "#2a3f5f"
          },
          "geo": {
           "bgcolor": "white",
           "lakecolor": "white",
           "landcolor": "#E5ECF6",
           "showlakes": true,
           "showland": true,
           "subunitcolor": "white"
          },
          "hoverlabel": {
           "align": "left"
          },
          "hovermode": "closest",
          "mapbox": {
           "style": "light"
          },
          "paper_bgcolor": "white",
          "plot_bgcolor": "#E5ECF6",
          "polar": {
           "angularaxis": {
            "gridcolor": "white",
            "linecolor": "white",
            "ticks": ""
           },
           "bgcolor": "#E5ECF6",
           "radialaxis": {
            "gridcolor": "white",
            "linecolor": "white",
            "ticks": ""
           }
          },
          "scene": {
           "xaxis": {
            "backgroundcolor": "#E5ECF6",
            "gridcolor": "white",
            "gridwidth": 2,
            "linecolor": "white",
            "showbackground": true,
            "ticks": "",
            "zerolinecolor": "white"
           },
           "yaxis": {
            "backgroundcolor": "#E5ECF6",
            "gridcolor": "white",
            "gridwidth": 2,
            "linecolor": "white",
            "showbackground": true,
            "ticks": "",
            "zerolinecolor": "white"
           },
           "zaxis": {
            "backgroundcolor": "#E5ECF6",
            "gridcolor": "white",
            "gridwidth": 2,
            "linecolor": "white",
            "showbackground": true,
            "ticks": "",
            "zerolinecolor": "white"
           }
          },
          "shapedefaults": {
           "line": {
            "color": "#2a3f5f"
           }
          },
          "ternary": {
           "aaxis": {
            "gridcolor": "white",
            "linecolor": "white",
            "ticks": ""
           },
           "baxis": {
            "gridcolor": "white",
            "linecolor": "white",
            "ticks": ""
           },
           "bgcolor": "#E5ECF6",
           "caxis": {
            "gridcolor": "white",
            "linecolor": "white",
            "ticks": ""
           }
          },
          "title": {
           "x": 0.05
          },
          "xaxis": {
           "automargin": true,
           "gridcolor": "white",
           "linecolor": "white",
           "ticks": "",
           "title": {
            "standoff": 15
           },
           "zerolinecolor": "white",
           "zerolinewidth": 2
          },
          "yaxis": {
           "automargin": true,
           "gridcolor": "white",
           "linecolor": "white",
           "ticks": "",
           "title": {
            "standoff": 15
           },
           "zerolinecolor": "white",
           "zerolinewidth": 2
          }
         }
        }
       }
      },
      "text/html": [
       "<div>                            <div id=\"81e78184-d4dd-451c-a738-f9ee2fe8e7e5\" class=\"plotly-graph-div\" style=\"height:525px; width:100%;\"></div>            <script type=\"text/javascript\">                require([\"plotly\"], function(Plotly) {                    window.PLOTLYENV=window.PLOTLYENV || {};                                    if (document.getElementById(\"81e78184-d4dd-451c-a738-f9ee2fe8e7e5\")) {                    Plotly.newPlot(                        \"81e78184-d4dd-451c-a738-f9ee2fe8e7e5\",                        [{\"type\": \"surface\", \"z\": [[0.0, 0.0, 0.0, 0.0, 0.0, 0.0, 9.50999927520752, 0.0, 0.0, 0.0, 0.0, 0.0, 0.0], [0.0, 0.0, 0.0, 2.8004865646362305, 1.4743967056274414, 3.0938596725463867, 9.503511428833008, 0.0, 0.0, 0.0, 0.0, 0.0, 0.0], [0.0, 3.129979133605957, 3.2092628479003906, 3.3520498275756836, 3.4952096939086914, 3.6347427368164062, 10.214406967163086, 10.238192558288574, 0.0, 0.0, 0.0, 0.0, 0.0], [0.0, 4.094725608825684, 4.051300048828125, 4.061971664428711, 4.215089797973633, 10.157031059265137, 10.358369827270508, 10.283548355102539, 0.0, 0.0, 0.0, 0.0, 0.0], [0.0, 4.2004547119140625, 4.143848419189453, 4.156048774719238, 4.13162899017334, 10.183988571166992, 10.354886054992676, 10.439555168151855, 0.0, 0.0, 0.0, 0.0, 0.0], [0.0, 9.90392780303955, 4.177416801452637, 4.151183128356934, 4.204306602478027, 7.157198905944824, 10.358065605163574, 10.262561798095703, 0.0, 0.0, 0.0, 0.0, 0.0], [0.0, 0.0, 4.206925392150879, 4.1133270263671875, 4.084628105163574, 4.115812301635742, 10.177571296691895, 10.242195129394531, 10.562175750732422, 0.0, 0.0, 0.0, 0.0], [0.0, 0.0, 4.135209083557129, 4.241713523864746, 4.204296112060547, 4.193269729614258, 10.53584098815918, 10.50072193145752, 10.693178176879883, 0.0, 0.0, 0.0, 0.0], [0.0, 0.0, 4.344059944152832, 4.200774192810059, 4.544696807861328, 4.27117919921875, 10.738603591918945, 10.632801055908203, 10.642635345458984, 0.0, 0.0, 0.0, 0.0], [0.0, 0.0, 8.623590469360352, 4.300073623657227, 4.836564064025879, 4.304935455322266, 9.417719841003418, 10.638490676879883, 10.652281761169434, 0.0, 0.0, 0.0, 0.0], [0.0, 0.0, 0.0, 4.408803939819336, 4.406740188598633, 4.325252532958984, 4.486575126647949, 10.697590827941895, 11.652042388916016, 13.276570320129395, 0.0, 0.0, 0.0], [0.0, 0.0, 0.0, 4.427814483642578, 5.537106513977051, 8.645820617675781, 12.46550178527832, 14.546772003173828, 14.681866645812988, 14.846400260925293, 0.0, 0.0, 0.0], [0.0, 0.0, 0.0, 14.646774291992188, 14.787579536437988, 13.156587600708008, 15.091756820678711, 15.265978813171387, 15.411710739135742, 15.556218147277832, 0.0, 0.0, 0.0], [0.0, 0.0, 0.0, 15.305828094482422, 15.475458145141602, 15.657487869262695, 15.808333396911621, 15.89515495300293, 16.051544189453125, 16.26599884033203, 0.0, 0.0, 0.0], [0.0, 0.0, 0.0, 0.0, 16.154956817626953, 16.298465728759766, 16.44877815246582, 16.57986831665039, 16.761329650878906, 16.945728302001953, 17.13357925415039, 0.0, 0.0], [0.0, 0.0, 0.0, 0.0, 17.71446990966797, 16.965190887451172, 17.089426040649414, 17.231224060058594, 17.391036987304688, 17.605369567871094, 17.79261016845703, 0.0, 0.0], [0.0, 0.0, 0.0, 0.0, 17.530651092529297, 17.605266571044922, 17.77021026611328, 17.952247619628906, 18.110631942749023, 18.274892807006836, 18.49152374267578, 0.0, 0.0], [0.0, 0.0, 0.0, 0.0, 17.261402130126953, 18.335294723510742, 18.43536376953125, 18.30343246459961, 18.120086669921875, 17.964248657226562, 17.830270767211914, 0.0, 0.0], [0.0, 0.0, 0.0, 0.0, 0.0, 18.025161743164062, 17.845409393310547, 17.674724578857422, 17.431358337402344, 17.313377380371094, 17.178756713867188, 17.104206085205078, 0.0], [0.0, 0.0, 0.0, 0.0, 0.0, 17.374608993530273, 17.185344696044922, 17.04314613342285, 16.87183380126953, 16.681854248046875, 16.56443214416504, 16.4671573638916, 0.0], [0.0, 0.0, 0.0, 0.0, 0.0, 17.333297729492188, 16.568195343017578, 16.391048431396484, 16.219968795776367, 16.03939437866211, 15.889372825622559, 15.76378059387207, 0.0], [0.0, 0.0, 0.0, 0.0, 0.0, 18.116121292114258, 15.971932411193848, 15.245065689086914, 15.586039543151855, 15.395577430725098, 15.250822067260742, 15.1145601272583, 0.0], [0.0, 0.0, 0.0, 0.0, 0.0, 0.0, 15.297490119934082, 10.602482795715332, 15.003985404968262, 12.36808967590332, 14.593835830688477, 0.0, 0.0], [0.0, 0.0, 0.0, 0.0, 0.0, 0.0, 5.617325782775879, 0.0, 0.0, 0.0, 0.0, 0.0, 0.0]]}],                        {\"template\": {\"data\": {\"bar\": [{\"error_x\": {\"color\": \"#2a3f5f\"}, \"error_y\": {\"color\": \"#2a3f5f\"}, \"marker\": {\"line\": {\"color\": \"#E5ECF6\", \"width\": 0.5}}, \"type\": \"bar\"}], \"barpolar\": [{\"marker\": {\"line\": {\"color\": \"#E5ECF6\", \"width\": 0.5}}, \"type\": \"barpolar\"}], \"carpet\": [{\"aaxis\": {\"endlinecolor\": \"#2a3f5f\", \"gridcolor\": \"white\", \"linecolor\": \"white\", \"minorgridcolor\": \"white\", \"startlinecolor\": \"#2a3f5f\"}, \"baxis\": {\"endlinecolor\": \"#2a3f5f\", \"gridcolor\": \"white\", \"linecolor\": \"white\", \"minorgridcolor\": \"white\", \"startlinecolor\": \"#2a3f5f\"}, \"type\": \"carpet\"}], \"choropleth\": [{\"colorbar\": {\"outlinewidth\": 0, \"ticks\": \"\"}, \"type\": \"choropleth\"}], \"contour\": [{\"colorbar\": {\"outlinewidth\": 0, \"ticks\": \"\"}, \"colorscale\": [[0.0, \"#0d0887\"], [0.1111111111111111, \"#46039f\"], [0.2222222222222222, \"#7201a8\"], [0.3333333333333333, \"#9c179e\"], [0.4444444444444444, \"#bd3786\"], [0.5555555555555556, \"#d8576b\"], [0.6666666666666666, \"#ed7953\"], [0.7777777777777778, \"#fb9f3a\"], [0.8888888888888888, \"#fdca26\"], [1.0, \"#f0f921\"]], \"type\": \"contour\"}], \"contourcarpet\": [{\"colorbar\": {\"outlinewidth\": 0, \"ticks\": \"\"}, \"type\": \"contourcarpet\"}], \"heatmap\": [{\"colorbar\": {\"outlinewidth\": 0, \"ticks\": \"\"}, \"colorscale\": [[0.0, \"#0d0887\"], [0.1111111111111111, \"#46039f\"], [0.2222222222222222, \"#7201a8\"], [0.3333333333333333, \"#9c179e\"], [0.4444444444444444, \"#bd3786\"], [0.5555555555555556, \"#d8576b\"], [0.6666666666666666, \"#ed7953\"], [0.7777777777777778, \"#fb9f3a\"], [0.8888888888888888, \"#fdca26\"], [1.0, \"#f0f921\"]], \"type\": \"heatmap\"}], \"heatmapgl\": [{\"colorbar\": {\"outlinewidth\": 0, \"ticks\": \"\"}, \"colorscale\": [[0.0, \"#0d0887\"], [0.1111111111111111, \"#46039f\"], [0.2222222222222222, \"#7201a8\"], [0.3333333333333333, \"#9c179e\"], [0.4444444444444444, \"#bd3786\"], [0.5555555555555556, \"#d8576b\"], [0.6666666666666666, \"#ed7953\"], [0.7777777777777778, \"#fb9f3a\"], [0.8888888888888888, \"#fdca26\"], [1.0, \"#f0f921\"]], \"type\": \"heatmapgl\"}], \"histogram\": [{\"marker\": {\"colorbar\": {\"outlinewidth\": 0, \"ticks\": \"\"}}, \"type\": \"histogram\"}], \"histogram2d\": [{\"colorbar\": {\"outlinewidth\": 0, \"ticks\": \"\"}, \"colorscale\": [[0.0, \"#0d0887\"], [0.1111111111111111, \"#46039f\"], [0.2222222222222222, \"#7201a8\"], [0.3333333333333333, \"#9c179e\"], [0.4444444444444444, \"#bd3786\"], [0.5555555555555556, \"#d8576b\"], [0.6666666666666666, \"#ed7953\"], [0.7777777777777778, \"#fb9f3a\"], [0.8888888888888888, \"#fdca26\"], [1.0, \"#f0f921\"]], \"type\": \"histogram2d\"}], \"histogram2dcontour\": [{\"colorbar\": {\"outlinewidth\": 0, \"ticks\": \"\"}, \"colorscale\": [[0.0, \"#0d0887\"], [0.1111111111111111, \"#46039f\"], [0.2222222222222222, \"#7201a8\"], [0.3333333333333333, \"#9c179e\"], [0.4444444444444444, \"#bd3786\"], [0.5555555555555556, \"#d8576b\"], [0.6666666666666666, \"#ed7953\"], [0.7777777777777778, \"#fb9f3a\"], [0.8888888888888888, \"#fdca26\"], [1.0, \"#f0f921\"]], \"type\": \"histogram2dcontour\"}], \"mesh3d\": [{\"colorbar\": {\"outlinewidth\": 0, \"ticks\": \"\"}, \"type\": \"mesh3d\"}], \"parcoords\": [{\"line\": {\"colorbar\": {\"outlinewidth\": 0, \"ticks\": \"\"}}, \"type\": \"parcoords\"}], \"pie\": [{\"automargin\": true, \"type\": \"pie\"}], \"scatter\": [{\"marker\": {\"colorbar\": {\"outlinewidth\": 0, \"ticks\": \"\"}}, \"type\": \"scatter\"}], \"scatter3d\": [{\"line\": {\"colorbar\": {\"outlinewidth\": 0, \"ticks\": \"\"}}, \"marker\": {\"colorbar\": {\"outlinewidth\": 0, \"ticks\": \"\"}}, \"type\": \"scatter3d\"}], \"scattercarpet\": [{\"marker\": {\"colorbar\": {\"outlinewidth\": 0, \"ticks\": \"\"}}, \"type\": \"scattercarpet\"}], \"scattergeo\": [{\"marker\": {\"colorbar\": {\"outlinewidth\": 0, \"ticks\": \"\"}}, \"type\": \"scattergeo\"}], \"scattergl\": [{\"marker\": {\"colorbar\": {\"outlinewidth\": 0, \"ticks\": \"\"}}, \"type\": \"scattergl\"}], \"scattermapbox\": [{\"marker\": {\"colorbar\": {\"outlinewidth\": 0, \"ticks\": \"\"}}, \"type\": \"scattermapbox\"}], \"scatterpolar\": [{\"marker\": {\"colorbar\": {\"outlinewidth\": 0, \"ticks\": \"\"}}, \"type\": \"scatterpolar\"}], \"scatterpolargl\": [{\"marker\": {\"colorbar\": {\"outlinewidth\": 0, \"ticks\": \"\"}}, \"type\": \"scatterpolargl\"}], \"scatterternary\": [{\"marker\": {\"colorbar\": {\"outlinewidth\": 0, \"ticks\": \"\"}}, \"type\": \"scatterternary\"}], \"surface\": [{\"colorbar\": {\"outlinewidth\": 0, \"ticks\": \"\"}, \"colorscale\": [[0.0, \"#0d0887\"], [0.1111111111111111, \"#46039f\"], [0.2222222222222222, \"#7201a8\"], [0.3333333333333333, \"#9c179e\"], [0.4444444444444444, \"#bd3786\"], [0.5555555555555556, \"#d8576b\"], [0.6666666666666666, \"#ed7953\"], [0.7777777777777778, \"#fb9f3a\"], [0.8888888888888888, \"#fdca26\"], [1.0, \"#f0f921\"]], \"type\": \"surface\"}], \"table\": [{\"cells\": {\"fill\": {\"color\": \"#EBF0F8\"}, \"line\": {\"color\": \"white\"}}, \"header\": {\"fill\": {\"color\": \"#C8D4E3\"}, \"line\": {\"color\": \"white\"}}, \"type\": \"table\"}]}, \"layout\": {\"annotationdefaults\": {\"arrowcolor\": \"#2a3f5f\", \"arrowhead\": 0, \"arrowwidth\": 1}, \"autotypenumbers\": \"strict\", \"coloraxis\": {\"colorbar\": {\"outlinewidth\": 0, \"ticks\": \"\"}}, \"colorscale\": {\"diverging\": [[0, \"#8e0152\"], [0.1, \"#c51b7d\"], [0.2, \"#de77ae\"], [0.3, \"#f1b6da\"], [0.4, \"#fde0ef\"], [0.5, \"#f7f7f7\"], [0.6, \"#e6f5d0\"], [0.7, \"#b8e186\"], [0.8, \"#7fbc41\"], [0.9, \"#4d9221\"], [1, \"#276419\"]], \"sequential\": [[0.0, \"#0d0887\"], [0.1111111111111111, \"#46039f\"], [0.2222222222222222, \"#7201a8\"], [0.3333333333333333, \"#9c179e\"], [0.4444444444444444, \"#bd3786\"], [0.5555555555555556, \"#d8576b\"], [0.6666666666666666, \"#ed7953\"], [0.7777777777777778, \"#fb9f3a\"], [0.8888888888888888, \"#fdca26\"], [1.0, \"#f0f921\"]], \"sequentialminus\": [[0.0, \"#0d0887\"], [0.1111111111111111, \"#46039f\"], [0.2222222222222222, \"#7201a8\"], [0.3333333333333333, \"#9c179e\"], [0.4444444444444444, \"#bd3786\"], [0.5555555555555556, \"#d8576b\"], [0.6666666666666666, \"#ed7953\"], [0.7777777777777778, \"#fb9f3a\"], [0.8888888888888888, \"#fdca26\"], [1.0, \"#f0f921\"]]}, \"colorway\": [\"#636efa\", \"#EF553B\", \"#00cc96\", \"#ab63fa\", \"#FFA15A\", \"#19d3f3\", \"#FF6692\", \"#B6E880\", \"#FF97FF\", \"#FECB52\"], \"font\": {\"color\": \"#2a3f5f\"}, \"geo\": {\"bgcolor\": \"white\", \"lakecolor\": \"white\", \"landcolor\": \"#E5ECF6\", \"showlakes\": true, \"showland\": true, \"subunitcolor\": \"white\"}, \"hoverlabel\": {\"align\": \"left\"}, \"hovermode\": \"closest\", \"mapbox\": {\"style\": \"light\"}, \"paper_bgcolor\": \"white\", \"plot_bgcolor\": \"#E5ECF6\", \"polar\": {\"angularaxis\": {\"gridcolor\": \"white\", \"linecolor\": \"white\", \"ticks\": \"\"}, \"bgcolor\": \"#E5ECF6\", \"radialaxis\": {\"gridcolor\": \"white\", \"linecolor\": \"white\", \"ticks\": \"\"}}, \"scene\": {\"xaxis\": {\"backgroundcolor\": \"#E5ECF6\", \"gridcolor\": \"white\", \"gridwidth\": 2, \"linecolor\": \"white\", \"showbackground\": true, \"ticks\": \"\", \"zerolinecolor\": \"white\"}, \"yaxis\": {\"backgroundcolor\": \"#E5ECF6\", \"gridcolor\": \"white\", \"gridwidth\": 2, \"linecolor\": \"white\", \"showbackground\": true, \"ticks\": \"\", \"zerolinecolor\": \"white\"}, \"zaxis\": {\"backgroundcolor\": \"#E5ECF6\", \"gridcolor\": \"white\", \"gridwidth\": 2, \"linecolor\": \"white\", \"showbackground\": true, \"ticks\": \"\", \"zerolinecolor\": \"white\"}}, \"shapedefaults\": {\"line\": {\"color\": \"#2a3f5f\"}}, \"ternary\": {\"aaxis\": {\"gridcolor\": \"white\", \"linecolor\": \"white\", \"ticks\": \"\"}, \"baxis\": {\"gridcolor\": \"white\", \"linecolor\": \"white\", \"ticks\": \"\"}, \"bgcolor\": \"#E5ECF6\", \"caxis\": {\"gridcolor\": \"white\", \"linecolor\": \"white\", \"ticks\": \"\"}}, \"title\": {\"x\": 0.05}, \"xaxis\": {\"automargin\": true, \"gridcolor\": \"white\", \"linecolor\": \"white\", \"ticks\": \"\", \"title\": {\"standoff\": 15}, \"zerolinecolor\": \"white\", \"zerolinewidth\": 2}, \"yaxis\": {\"automargin\": true, \"gridcolor\": \"white\", \"linecolor\": \"white\", \"ticks\": \"\", \"title\": {\"standoff\": 15}, \"zerolinecolor\": \"white\", \"zerolinewidth\": 2}}}},                        {\"responsive\": true}                    ).then(function(){\n",
       "                            \n",
       "var gd = document.getElementById('81e78184-d4dd-451c-a738-f9ee2fe8e7e5');\n",
       "var x = new MutationObserver(function (mutations, observer) {{\n",
       "        var display = window.getComputedStyle(gd).display;\n",
       "        if (!display || display === 'none') {{\n",
       "            console.log([gd, 'removed!']);\n",
       "            Plotly.purge(gd);\n",
       "            observer.disconnect();\n",
       "        }}\n",
       "}});\n",
       "\n",
       "// Listen for the removal of the full notebook cells\n",
       "var notebookContainer = gd.closest('#notebook-container');\n",
       "if (notebookContainer) {{\n",
       "    x.observe(notebookContainer, {childList: true});\n",
       "}}\n",
       "\n",
       "// Listen for the clearing of the current output cell\n",
       "var outputEl = gd.closest('.output');\n",
       "if (outputEl) {{\n",
       "    x.observe(outputEl, {childList: true});\n",
       "}}\n",
       "\n",
       "                        })                };                });            </script>        </div>"
      ]
     },
     "metadata": {},
     "output_type": "display_data"
    }
   ],
   "source": [
    "fig = go.Figure(data=go.Surface(z=CHM))\n",
    "fig.show()"
   ]
  },
  {
   "cell_type": "code",
   "execution_count": null,
   "id": "destroyed-fashion",
   "metadata": {},
   "outputs": [],
   "source": []
  }
 ],
 "metadata": {
  "kernelspec": {
   "display_name": "Python 3",
   "language": "python",
   "name": "python3"
  },
  "language_info": {
   "codemirror_mode": {
    "name": "ipython",
    "version": 3
   },
   "file_extension": ".py",
   "mimetype": "text/x-python",
   "name": "python",
   "nbconvert_exporter": "python",
   "pygments_lexer": "ipython3",
   "version": "3.8.5"
  }
 },
 "nbformat": 4,
 "nbformat_minor": 5
}
