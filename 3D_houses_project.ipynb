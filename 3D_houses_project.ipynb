{
 "cells": [
  {
   "cell_type": "markdown",
   "id": "disciplinary-bahrain",
   "metadata": {},
   "source": [
    "# 3D Houses Project\n",
    "\n",
    "##### A jupyter notebook where you can search for a Belgium address and it will create a 3D House model using Lidar."
   ]
  },
  {
   "cell_type": "markdown",
   "id": "presidential-generation",
   "metadata": {},
   "source": [
    "### Enter Belgium Address"
   ]
  },
  {
   "cell_type": "markdown",
   "id": "affiliated-demand",
   "metadata": {},
   "source": [
    "First you need to enter the Belgium address you wanted to search."
   ]
  },
  {
   "cell_type": "code",
   "execution_count": 173,
   "id": "constant-duncan",
   "metadata": {},
   "outputs": [
    {
     "name": "stdout",
     "output_type": "stream",
     "text": [
      "Enter the Belgium address: Distelstraat 42, 9000 Gent\n"
     ]
    }
   ],
   "source": [
    "address = input(\"Enter the Belgium address: \") "
   ]
  },
  {
   "cell_type": "markdown",
   "id": "renewable-julian",
   "metadata": {},
   "source": [
    "### Importing The Necessary Libraries"
   ]
  },
  {
   "cell_type": "code",
   "execution_count": 248,
   "id": "straight-bahamas",
   "metadata": {},
   "outputs": [],
   "source": [
    "import os\n",
    "from osgeo import gdal\n",
    "import pandas as pd\n",
    "import matplotlib.pyplot as plt\n",
    "from collections import Counter\n",
    "import numpy as np\n",
    "\n",
    "from io import BytesIO\n",
    "from urllib.request import urlopen\n",
    "from zipfile import ZipFile\n",
    "\n",
    "# set this so the graphs open internally\n",
    "%matplotlib inline\n",
    "import seaborn as sns\n",
    "\n",
    "import rioxarray as rxr\n",
    "import earthpy as et\n",
    "import rasterio as rt"
   ]
  },
  {
   "cell_type": "markdown",
   "id": "extreme-projection",
   "metadata": {},
   "source": [
    "### Opening The Belgium Address API"
   ]
  },
  {
   "cell_type": "markdown",
   "id": "embedded-closure",
   "metadata": {},
   "source": [
    "Then it will search the coordinates of the address in the OpenAddress Belgium api. To do that, we need to open the api first and convert it to a dataframe. "
   ]
  },
  {
   "cell_type": "code",
   "execution_count": 3,
   "id": "spare-certificate",
   "metadata": {},
   "outputs": [],
   "source": [
    "file = 'https://opendata.bosa.be/download/best/openaddress-bevlg.zip'"
   ]
  },
  {
   "cell_type": "code",
   "execution_count": 6,
   "id": "flying-expense",
   "metadata": {
    "collapsed": true
   },
   "outputs": [
    {
     "name": "stderr",
     "output_type": "stream",
     "text": [
      "C:\\Users\\Arlene\\anaconda3\\lib\\site-packages\\IPython\\core\\interactiveshell.py:3155: DtypeWarning: Columns (5,8,9,12,16) have mixed types.Specify dtype option on import or set low_memory=False.\n",
      "  has_raised = await self.run_ast_nodes(code_ast.body, cell_name,\n"
     ]
    }
   ],
   "source": [
    "api = pd.read_csv(file)"
   ]
  },
  {
   "cell_type": "markdown",
   "id": "vulnerable-profit",
   "metadata": {},
   "source": [
    "Creating a new dataframe with only the address and coordinates"
   ]
  },
  {
   "cell_type": "code",
   "execution_count": 7,
   "id": "formed-helena",
   "metadata": {},
   "outputs": [],
   "source": [
    "belgium = api[['EPSG:31370_x', 'EPSG:31370_y', 'EPSG:4326_lat', 'EPSG:4326_lon']].copy()"
   ]
  },
  {
   "cell_type": "markdown",
   "id": "rocky-advancement",
   "metadata": {},
   "source": [
    "Creating an address column which will concatenate the address value to only 1 column"
   ]
  },
  {
   "cell_type": "code",
   "execution_count": 8,
   "id": "compound-walnut",
   "metadata": {},
   "outputs": [],
   "source": [
    "belgium['address'] = api['streetname_nl'] + \" \" + api['house_number'] + \", \" + api['postcode'].apply(str) + \" \" + api['municipality_name_nl']"
   ]
  },
  {
   "cell_type": "code",
   "execution_count": 13,
   "id": "rural-briefing",
   "metadata": {
    "collapsed": true
   },
   "outputs": [
    {
     "data": {
      "text/html": [
       "<div>\n",
       "<style scoped>\n",
       "    .dataframe tbody tr th:only-of-type {\n",
       "        vertical-align: middle;\n",
       "    }\n",
       "\n",
       "    .dataframe tbody tr th {\n",
       "        vertical-align: top;\n",
       "    }\n",
       "\n",
       "    .dataframe thead th {\n",
       "        text-align: right;\n",
       "    }\n",
       "</style>\n",
       "<table border=\"1\" class=\"dataframe\">\n",
       "  <thead>\n",
       "    <tr style=\"text-align: right;\">\n",
       "      <th></th>\n",
       "      <th>EPSG:31370_x</th>\n",
       "      <th>EPSG:31370_y</th>\n",
       "      <th>EPSG:4326_lat</th>\n",
       "      <th>EPSG:4326_lon</th>\n",
       "      <th>address</th>\n",
       "    </tr>\n",
       "  </thead>\n",
       "  <tbody>\n",
       "    <tr>\n",
       "      <th>0</th>\n",
       "      <td>190710.56</td>\n",
       "      <td>224659.47</td>\n",
       "      <td>51.330292</td>\n",
       "      <td>4.952837</td>\n",
       "      <td>Steenweg op Oosthoven 51, 2300 Turnhout</td>\n",
       "    </tr>\n",
       "    <tr>\n",
       "      <th>1</th>\n",
       "      <td>158832.72</td>\n",
       "      <td>192858.98</td>\n",
       "      <td>51.045828</td>\n",
       "      <td>4.494708</td>\n",
       "      <td>Duivenstraat 102, 2800 Mechelen</td>\n",
       "    </tr>\n",
       "    <tr>\n",
       "      <th>2</th>\n",
       "      <td>114333.83</td>\n",
       "      <td>206615.16</td>\n",
       "      <td>51.168450</td>\n",
       "      <td>3.858827</td>\n",
       "      <td>Meersstraat 7, 9185 Wachtebeke</td>\n",
       "    </tr>\n",
       "    <tr>\n",
       "      <th>3</th>\n",
       "      <td>101669.12</td>\n",
       "      <td>179169.21</td>\n",
       "      <td>50.920830</td>\n",
       "      <td>3.681393</td>\n",
       "      <td>Nijverheidsstraat 67, 9890 Gavere</td>\n",
       "    </tr>\n",
       "    <tr>\n",
       "      <th>4</th>\n",
       "      <td>103887.16</td>\n",
       "      <td>195997.07</td>\n",
       "      <td>51.072272</td>\n",
       "      <td>3.710818</td>\n",
       "      <td>Klaverstraat 1A, 9000 Gent</td>\n",
       "    </tr>\n",
       "    <tr>\n",
       "      <th>...</th>\n",
       "      <td>...</td>\n",
       "      <td>...</td>\n",
       "      <td>...</td>\n",
       "      <td>...</td>\n",
       "      <td>...</td>\n",
       "    </tr>\n",
       "    <tr>\n",
       "      <th>3867218</th>\n",
       "      <td>111243.39</td>\n",
       "      <td>173887.03</td>\n",
       "      <td>50.874065</td>\n",
       "      <td>3.818109</td>\n",
       "      <td>Arthur Gevaertlaan 15, 9620 Zottegem</td>\n",
       "    </tr>\n",
       "    <tr>\n",
       "      <th>3867219</th>\n",
       "      <td>165129.96</td>\n",
       "      <td>204954.27</td>\n",
       "      <td>51.154419</td>\n",
       "      <td>4.585008</td>\n",
       "      <td>Liersesteenweg 87A, 2520 Ranst</td>\n",
       "    </tr>\n",
       "    <tr>\n",
       "      <th>3867220</th>\n",
       "      <td>165129.96</td>\n",
       "      <td>204954.27</td>\n",
       "      <td>51.154419</td>\n",
       "      <td>4.585008</td>\n",
       "      <td>Liersesteenweg 87A, 2520 Ranst</td>\n",
       "    </tr>\n",
       "    <tr>\n",
       "      <th>3867221</th>\n",
       "      <td>165129.96</td>\n",
       "      <td>204954.27</td>\n",
       "      <td>51.154419</td>\n",
       "      <td>4.585008</td>\n",
       "      <td>Liersesteenweg 87A, 2520 Ranst</td>\n",
       "    </tr>\n",
       "    <tr>\n",
       "      <th>3867222</th>\n",
       "      <td>165129.96</td>\n",
       "      <td>204954.27</td>\n",
       "      <td>51.154419</td>\n",
       "      <td>4.585008</td>\n",
       "      <td>Liersesteenweg 87A, 2520 Ranst</td>\n",
       "    </tr>\n",
       "  </tbody>\n",
       "</table>\n",
       "<p>3867223 rows × 5 columns</p>\n",
       "</div>"
      ],
      "text/plain": [
       "         EPSG:31370_x  EPSG:31370_y  EPSG:4326_lat  EPSG:4326_lon  \\\n",
       "0           190710.56     224659.47      51.330292       4.952837   \n",
       "1           158832.72     192858.98      51.045828       4.494708   \n",
       "2           114333.83     206615.16      51.168450       3.858827   \n",
       "3           101669.12     179169.21      50.920830       3.681393   \n",
       "4           103887.16     195997.07      51.072272       3.710818   \n",
       "...               ...           ...            ...            ...   \n",
       "3867218     111243.39     173887.03      50.874065       3.818109   \n",
       "3867219     165129.96     204954.27      51.154419       4.585008   \n",
       "3867220     165129.96     204954.27      51.154419       4.585008   \n",
       "3867221     165129.96     204954.27      51.154419       4.585008   \n",
       "3867222     165129.96     204954.27      51.154419       4.585008   \n",
       "\n",
       "                                         address  \n",
       "0        Steenweg op Oosthoven 51, 2300 Turnhout  \n",
       "1                Duivenstraat 102, 2800 Mechelen  \n",
       "2                 Meersstraat 7, 9185 Wachtebeke  \n",
       "3              Nijverheidsstraat 67, 9890 Gavere  \n",
       "4                     Klaverstraat 1A, 9000 Gent  \n",
       "...                                          ...  \n",
       "3867218     Arthur Gevaertlaan 15, 9620 Zottegem  \n",
       "3867219           Liersesteenweg 87A, 2520 Ranst  \n",
       "3867220           Liersesteenweg 87A, 2520 Ranst  \n",
       "3867221           Liersesteenweg 87A, 2520 Ranst  \n",
       "3867222           Liersesteenweg 87A, 2520 Ranst  \n",
       "\n",
       "[3867223 rows x 5 columns]"
      ]
     },
     "execution_count": 13,
     "metadata": {},
     "output_type": "execute_result"
    }
   ],
   "source": [
    "belgium"
   ]
  },
  {
   "cell_type": "markdown",
   "id": "suspended-invite",
   "metadata": {},
   "source": [
    "### Getting The Coordinates Of The Address"
   ]
  },
  {
   "cell_type": "markdown",
   "id": "hollywood-embassy",
   "metadata": {},
   "source": [
    "Now that we got the belgium address API, we are going to loop over the address to check if the address is there and to get the coordinates. "
   ]
  },
  {
   "cell_type": "code",
   "execution_count": 174,
   "id": "separate-transaction",
   "metadata": {},
   "outputs": [],
   "source": [
    "for i in range(belgium.shape[0]):\n",
    "    if address == belgium['address'][i]:\n",
    "        index = i\n",
    "        break"
   ]
  },
  {
   "cell_type": "code",
   "execution_count": 175,
   "id": "excited-device",
   "metadata": {},
   "outputs": [
    {
     "data": {
      "text/plain": [
       "1213045"
      ]
     },
     "execution_count": 175,
     "metadata": {},
     "output_type": "execute_result"
    }
   ],
   "source": [
    "index"
   ]
  },
  {
   "cell_type": "code",
   "execution_count": 176,
   "id": "duplicate-murder",
   "metadata": {},
   "outputs": [
    {
     "data": {
      "text/plain": [
       "EPSG:31370_x                      103589.46\n",
       "EPSG:31370_y                      192316.68\n",
       "EPSG:4326_lat                     51.039167\n",
       "EPSG:4326_lon                      3.707038\n",
       "address          Distelstraat 42, 9000 Gent\n",
       "Name: 1213045, dtype: object"
      ]
     },
     "execution_count": 176,
     "metadata": {},
     "output_type": "execute_result"
    }
   ],
   "source": [
    "belgium.loc[index]"
   ]
  },
  {
   "cell_type": "code",
   "execution_count": 177,
   "id": "engaged-transformation",
   "metadata": {},
   "outputs": [],
   "source": [
    "x_value = belgium['EPSG:31370_x'][index]\n",
    "y_value = belgium['EPSG:31370_y'][index]\n",
    "latitude = belgium['EPSG:4326_lat'][index]\n",
    "longitude = belgium['EPSG:4326_lon'][index]"
   ]
  },
  {
   "cell_type": "code",
   "execution_count": 263,
   "id": "traditional-bundle",
   "metadata": {},
   "outputs": [],
   "source": [
    "coordinates = {'address' : address,\n",
    "        'x_value' : x_value, \n",
    "        'y_value' : y_value,\n",
    "        'latitude' : latitude,\n",
    "        'longitude' : longitude}"
   ]
  },
  {
   "cell_type": "code",
   "execution_count": 264,
   "id": "muslim-cedar",
   "metadata": {},
   "outputs": [
    {
     "data": {
      "text/plain": [
       "{'address': 'Distelstraat 42, 9000 Gent',\n",
       " 'x_value': 103589.46,\n",
       " 'y_value': 192316.68,\n",
       " 'latitude': 51.03916669644181,\n",
       " 'longitude': 3.707038194679286}"
      ]
     },
     "execution_count": 264,
     "metadata": {},
     "output_type": "execute_result"
    }
   ],
   "source": [
    "coordinates"
   ]
  },
  {
   "cell_type": "markdown",
   "id": "imperial-robin",
   "metadata": {},
   "source": [
    "### Figure out which tiff file to open depending on the coordinates"
   ]
  },
  {
   "cell_type": "markdown",
   "id": "infectious-field",
   "metadata": {},
   "source": [
    "To check which tiff file to open, we need to get the boundingbox of the tiff file and then compare if the X and Y of the address is inside the bounding box."
   ]
  },
  {
   "cell_type": "markdown",
   "id": "announced-production",
   "metadata": {},
   "source": [
    "I was able to create a csv file containing the bounding box for all the DSM files. SO we just need to open it and check which tiff file should we use."
   ]
  },
  {
   "cell_type": "code",
   "execution_count": 191,
   "id": "blond-scale",
   "metadata": {},
   "outputs": [],
   "source": [
    "bbox = pd.read_csv('data/bounding-box.csv')"
   ]
  },
  {
   "cell_type": "code",
   "execution_count": 192,
   "id": "infinite-continuity",
   "metadata": {
    "collapsed": true
   },
   "outputs": [
    {
     "data": {
      "text/html": [
       "<div>\n",
       "<style scoped>\n",
       "    .dataframe tbody tr th:only-of-type {\n",
       "        vertical-align: middle;\n",
       "    }\n",
       "\n",
       "    .dataframe tbody tr th {\n",
       "        vertical-align: top;\n",
       "    }\n",
       "\n",
       "    .dataframe thead th {\n",
       "        text-align: right;\n",
       "    }\n",
       "</style>\n",
       "<table border=\"1\" class=\"dataframe\">\n",
       "  <thead>\n",
       "    <tr style=\"text-align: right;\">\n",
       "      <th></th>\n",
       "      <th>DSM Files</th>\n",
       "      <th>Left (X)</th>\n",
       "      <th>Bottom (Y)</th>\n",
       "      <th>Right (X)</th>\n",
       "      <th>Top (Y)</th>\n",
       "    </tr>\n",
       "  </thead>\n",
       "  <tbody>\n",
       "    <tr>\n",
       "      <th>0</th>\n",
       "      <td>DSM_1</td>\n",
       "      <td>145000.0</td>\n",
       "      <td>238000.0</td>\n",
       "      <td>162000.0</td>\n",
       "      <td>247000.0</td>\n",
       "    </tr>\n",
       "    <tr>\n",
       "      <th>1</th>\n",
       "      <td>DSM_2</td>\n",
       "      <td>162000.0</td>\n",
       "      <td>238000.0</td>\n",
       "      <td>194000.0</td>\n",
       "      <td>250000.0</td>\n",
       "    </tr>\n",
       "    <tr>\n",
       "      <th>2</th>\n",
       "      <td>DSM_3</td>\n",
       "      <td>194000.0</td>\n",
       "      <td>238000.0</td>\n",
       "      <td>206000.0</td>\n",
       "      <td>248000.0</td>\n",
       "    </tr>\n",
       "    <tr>\n",
       "      <th>3</th>\n",
       "      <td>DSM_4</td>\n",
       "      <td>53000.0</td>\n",
       "      <td>218000.0</td>\n",
       "      <td>66000.0</td>\n",
       "      <td>225500.0</td>\n",
       "    </tr>\n",
       "    <tr>\n",
       "      <th>4</th>\n",
       "      <td>DSM_5</td>\n",
       "      <td>66000.0</td>\n",
       "      <td>218000.0</td>\n",
       "      <td>98000.0</td>\n",
       "      <td>232000.0</td>\n",
       "    </tr>\n",
       "  </tbody>\n",
       "</table>\n",
       "</div>"
      ],
      "text/plain": [
       "  DSM Files  Left (X)  Bottom (Y)  Right (X)   Top (Y)\n",
       "0     DSM_1  145000.0    238000.0   162000.0  247000.0\n",
       "1     DSM_2  162000.0    238000.0   194000.0  250000.0\n",
       "2     DSM_3  194000.0    238000.0   206000.0  248000.0\n",
       "3     DSM_4   53000.0    218000.0    66000.0  225500.0\n",
       "4     DSM_5   66000.0    218000.0    98000.0  232000.0"
      ]
     },
     "execution_count": 192,
     "metadata": {},
     "output_type": "execute_result"
    }
   ],
   "source": [
    "bbox.head()"
   ]
  },
  {
   "cell_type": "code",
   "execution_count": 193,
   "id": "induced-substance",
   "metadata": {},
   "outputs": [],
   "source": [
    "for i in range(bbox.shape[0]):\n",
    "    if bbox['Left (X)'][i] <= coordinates['x_value']:\n",
    "        if bbox['Right (X)'][i] >= coordinates['x_value']:\n",
    "            if bbox['Bottom (Y)'][i] <= coordinates['y_value']:\n",
    "                if bbox['Top (Y)'][i] >= coordinates['y_value']:\n",
    "                    num = i\n",
    "                    break"
   ]
  },
  {
   "cell_type": "code",
   "execution_count": 194,
   "id": "compound-potential",
   "metadata": {},
   "outputs": [
    {
     "data": {
      "text/plain": [
       "DSM Files       DSM_22\n",
       "Left (X)       98000.0\n",
       "Bottom (Y)    178000.0\n",
       "Right (X)     130000.0\n",
       "Top (Y)       198000.0\n",
       "Name: 21, dtype: object"
      ]
     },
     "execution_count": 194,
     "metadata": {},
     "output_type": "execute_result"
    }
   ],
   "source": [
    "bbox.iloc[num]"
   ]
  },
  {
   "cell_type": "code",
   "execution_count": 249,
   "id": "filled-privacy",
   "metadata": {},
   "outputs": [],
   "source": [
    "num = 42"
   ]
  },
  {
   "cell_type": "markdown",
   "id": "vanilla-chick",
   "metadata": {},
   "source": [
    "### Downloading the DSM and DTM files"
   ]
  },
  {
   "cell_type": "markdown",
   "id": "partial-president",
   "metadata": {},
   "source": [
    "Now that we're able to locate from which tiff file the coordinates is located, we can now start using only this specific tiff files."
   ]
  },
  {
   "cell_type": "code",
   "execution_count": 250,
   "id": "elegant-refund",
   "metadata": {},
   "outputs": [],
   "source": [
    "# Getting the DSM link\n",
    "if num < 9:\n",
    "    DSM = f\"https://downloadagiv.blob.core.windows.net/dhm-vlaanderen-ii-dsm-raster-1m/DHMVIIDSMRAS1m_k0{num+1}.zip\"\n",
    "else:\n",
    "    DSM = f\"https://downloadagiv.blob.core.windows.net/dhm-vlaanderen-ii-dsm-raster-1m/DHMVIIDSMRAS1m_k{num+1}.zip\"\n"
   ]
  },
  {
   "cell_type": "code",
   "execution_count": 251,
   "id": "fabulous-execution",
   "metadata": {},
   "outputs": [],
   "source": [
    "# Getting the DTM link\n",
    "if num < 9:\n",
    "    DTM = f\"https://downloadagiv.blob.core.windows.net/dhm-vlaanderen-ii-dtm-raster-1m/DHMVIIDTMRAS1m_k0{num+1}.zip\"\n",
    "else:\n",
    "    DTM = f\"https://downloadagiv.blob.core.windows.net/dhm-vlaanderen-ii-dtm-raster-1m/DHMVIIDTMRAS1m_k{num+1}.zip\""
   ]
  },
  {
   "cell_type": "code",
   "execution_count": 258,
   "id": "pressed-trash",
   "metadata": {},
   "outputs": [
    {
     "data": {
      "text/plain": [
       "{'DSM': 'https://downloadagiv.blob.core.windows.net/dhm-vlaanderen-ii-dsm-raster-1m/DHMVIIDSMRAS1m_k43.zip',\n",
       " 'DTM': 'https://downloadagiv.blob.core.windows.net/dhm-vlaanderen-ii-dtm-raster-1m/DHMVIIDTMRAS1m_k43.zip'}"
      ]
     },
     "execution_count": 258,
     "metadata": {},
     "output_type": "execute_result"
    }
   ],
   "source": [
    "files = {'DSM': DSM, 'DTM': DTM}\n",
    "files"
   ]
  },
  {
   "cell_type": "code",
   "execution_count": 268,
   "id": "closed-decimal",
   "metadata": {},
   "outputs": [
    {
     "name": "stdout",
     "output_type": "stream",
     "text": [
      "Downloading the DSM zip file......\n",
      "Extracting the DSM zip file .......\n",
      "Done extracting the DSM zip file to raster-files/DSM folder! :)\n",
      "Downloading the DTM zip file......\n",
      "Extracting the DTM zip file .......\n",
      "Done extracting the DTM zip file to raster-files/DTM folder! :)\n"
     ]
    }
   ],
   "source": [
    "for key, value in files.items():\n",
    "    with urlopen(value) as zipresp:\n",
    "        print(f\"Downloading the {key} zip file......\")\n",
    "        with ZipFile(BytesIO(zipresp.read())) as zfile:\n",
    "            print(f\"Extracting the {key} zip file .......\")\n",
    "            zfile.extractall(f'data/raster-files/{key}')\n",
    "            print(f\"Done extracting the {key} zip file to raster-files/{key} folder! :)\")"
   ]
  },
  {
   "cell_type": "markdown",
   "id": "outside-closure",
   "metadata": {},
   "source": [
    "### Creating the Canopy Height Model"
   ]
  },
  {
   "cell_type": "markdown",
   "id": "comparative-civilization",
   "metadata": {},
   "source": [
    "Alright! Now the DSM and DTM files are already saved and extracted to the `raster-files` folder.\n",
    "We can now proceed in creating the <b>Canopy Height Model<b>."
   ]
  },
  {
   "cell_type": "markdown",
   "id": "hearing-bronze",
   "metadata": {},
   "source": [
    "`Canopy Height Model = DSM - DTM`"
   ]
  },
  {
   "cell_type": "code",
   "execution_count": null,
   "id": "express-dryer",
   "metadata": {},
   "outputs": [],
   "source": []
  },
  {
   "cell_type": "code",
   "execution_count": null,
   "id": "premium-monthly",
   "metadata": {},
   "outputs": [],
   "source": []
  },
  {
   "cell_type": "code",
   "execution_count": null,
   "id": "essential-capture",
   "metadata": {},
   "outputs": [],
   "source": []
  },
  {
   "cell_type": "code",
   "execution_count": null,
   "id": "sweet-wrist",
   "metadata": {},
   "outputs": [],
   "source": []
  },
  {
   "cell_type": "code",
   "execution_count": null,
   "id": "adult-position",
   "metadata": {},
   "outputs": [],
   "source": []
  },
  {
   "cell_type": "code",
   "execution_count": null,
   "id": "initial-healthcare",
   "metadata": {},
   "outputs": [],
   "source": []
  },
  {
   "cell_type": "code",
   "execution_count": null,
   "id": "meaning-closure",
   "metadata": {},
   "outputs": [],
   "source": []
  },
  {
   "cell_type": "code",
   "execution_count": null,
   "id": "secure-neighborhood",
   "metadata": {},
   "outputs": [],
   "source": []
  },
  {
   "cell_type": "code",
   "execution_count": null,
   "id": "architectural-glance",
   "metadata": {},
   "outputs": [],
   "source": [
    "from osgeo import gdal \n",
    "import matplotlib.pyplot as plt \n",
    "  \n",
    "dataset = gdal.Open(r'data\\DSM\\DSM_01.tif')"
   ]
  },
  {
   "cell_type": "code",
   "execution_count": null,
   "id": "removed-hindu",
   "metadata": {},
   "outputs": [],
   "source": [
    "print(dataset.RasterCount)"
   ]
  },
  {
   "cell_type": "code",
   "execution_count": null,
   "id": "corresponding-atlantic",
   "metadata": {},
   "outputs": [],
   "source": [
    "band1 = dataset.GetRasterBand(1)"
   ]
  },
  {
   "cell_type": "code",
   "execution_count": null,
   "id": "graphic-minnesota",
   "metadata": {},
   "outputs": [],
   "source": [
    "b1 = band1.ReadAsArray()"
   ]
  },
  {
   "cell_type": "code",
   "execution_count": null,
   "id": "democratic-rochester",
   "metadata": {},
   "outputs": [],
   "source": [
    "img = np.dstack((b1)) \n",
    "f = plt.figure() \n",
    "\n",
    "img.squeeze()\n",
    "\n",
    "plt.imshow(img)\n",
    "plt.savefig('Tiff.png') \n",
    "plt.show() "
   ]
  },
  {
   "cell_type": "code",
   "execution_count": null,
   "id": "weighted-aspect",
   "metadata": {},
   "outputs": [],
   "source": [
    "# Open the file:\n",
    "dsm = gdal.Open(DSM)\n",
    "gt = dsm.GetGeoTransorm()\n",
    "proj = dsm.GetProjection()\n",
    "band = dsm.GetRasterBand(1)\n",
    "array = band.ReadAsArray\n",
    "\n",
    "# Check type of the variable 'raster'\n",
    "type(raster)"
   ]
  },
  {
   "cell_type": "code",
   "execution_count": null,
   "id": "announced-counter",
   "metadata": {},
   "outputs": [],
   "source": []
  }
 ],
 "metadata": {
  "kernelspec": {
   "display_name": "Python 3",
   "language": "python",
   "name": "python3"
  }
 },
 "nbformat": 4,
 "nbformat_minor": 5
}
