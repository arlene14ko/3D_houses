{
 "cells": [
  {
   "cell_type": "markdown",
   "id": "disciplinary-bahrain",
   "metadata": {},
   "source": [
    "# 3D Houses Project\n",
    "\n",
    "##### A jupyter notebook where you can search for a Belgium address and it will create a 3D House model using Lidar."
   ]
  },
  {
   "cell_type": "markdown",
   "id": "central-station",
   "metadata": {},
   "source": [
    "### Enter Belgium Address"
   ]
  },
  {
   "cell_type": "markdown",
   "id": "falling-rendering",
   "metadata": {},
   "source": [
    "First you need to enter the Belgium address you wanted to search."
   ]
  },
  {
   "cell_type": "code",
   "execution_count": 4,
   "id": "allied-deficit",
   "metadata": {},
   "outputs": [
    {
     "name": "stdout",
     "output_type": "stream",
     "text": [
      "Enter the Belgium address: Sint-Hubertusstraat 89, 2600 Antwerpen\n"
     ]
    }
   ],
   "source": [
    "address = input(\"Enter the Belgium address: \") "
   ]
  },
  {
   "cell_type": "markdown",
   "id": "divided-radio",
   "metadata": {},
   "source": [
    "### Importing The Necessary Libraries"
   ]
  },
  {
   "cell_type": "code",
   "execution_count": 27,
   "id": "everyday-cleanup",
   "metadata": {},
   "outputs": [
    {
     "ename": "ModuleNotFoundError",
     "evalue": "No module named 'plotly'",
     "output_type": "error",
     "traceback": [
      "\u001b[1;31m---------------------------------------------------------------------------\u001b[0m",
      "\u001b[1;31mModuleNotFoundError\u001b[0m                       Traceback (most recent call last)",
      "\u001b[1;32m<ipython-input-27-898862088d61>\u001b[0m in \u001b[0;36m<module>\u001b[1;34m\u001b[0m\n\u001b[0;32m      5\u001b[0m \u001b[1;32mimport\u001b[0m \u001b[0mgeopandas\u001b[0m \u001b[1;32mas\u001b[0m \u001b[0mgpd\u001b[0m\u001b[1;33m\u001b[0m\u001b[1;33m\u001b[0m\u001b[0m\n\u001b[0;32m      6\u001b[0m \u001b[1;32mfrom\u001b[0m \u001b[0mshapely\u001b[0m\u001b[1;33m.\u001b[0m\u001b[0mgeometry\u001b[0m \u001b[1;32mimport\u001b[0m \u001b[0mPolygon\u001b[0m\u001b[1;33m\u001b[0m\u001b[1;33m\u001b[0m\u001b[0m\n\u001b[1;32m----> 7\u001b[1;33m \u001b[1;32mimport\u001b[0m \u001b[0mplotly\u001b[0m\u001b[1;33m.\u001b[0m\u001b[0mgraph_objects\u001b[0m \u001b[1;32mas\u001b[0m \u001b[0mgo\u001b[0m\u001b[1;33m\u001b[0m\u001b[1;33m\u001b[0m\u001b[0m\n\u001b[0m\u001b[0;32m      8\u001b[0m \u001b[1;33m\u001b[0m\u001b[0m\n\u001b[0;32m      9\u001b[0m \u001b[1;32mfrom\u001b[0m \u001b[0mio\u001b[0m \u001b[1;32mimport\u001b[0m \u001b[0mBytesIO\u001b[0m\u001b[1;33m\u001b[0m\u001b[1;33m\u001b[0m\u001b[0m\n",
      "\u001b[1;31mModuleNotFoundError\u001b[0m: No module named 'plotly'"
     ]
    }
   ],
   "source": [
    "import os\n",
    "import pandas as pd\n",
    "import matplotlib.pyplot as plt\n",
    "import numpy as np\n",
    "import geopandas as gpd\n",
    "from shapely.geometry import Polygon\n",
    "import plotly.graph_objects as go\n",
    "\n",
    "from io import BytesIO\n",
    "from urllib.request import urlopen\n",
    "from zipfile import ZipFile\n",
    "import requests\n",
    "import json\n",
    "\n",
    "# set this so the graphs open internally\n",
    "%matplotlib inline\n",
    "\n",
    "import rioxarray as rxr\n",
    "import rasterio as rt\n",
    "from rasterio.plot import show\n",
    "from rasterio.mask import mask\n",
    "from shapely.geometry import box"
   ]
  },
  {
   "cell_type": "markdown",
   "id": "prescribed-optimization",
   "metadata": {},
   "source": [
    "### Getting The Coordinates Of The Address"
   ]
  },
  {
   "cell_type": "markdown",
   "id": "elect-maple",
   "metadata": {},
   "source": [
    "Now that we got the address, we are going to check the address in the www.geopunt.be website to check if the input address is a valid address in Vlaanderen and to get the coordinates. "
   ]
  },
  {
   "cell_type": "code",
   "execution_count": 6,
   "id": "comic-arbor",
   "metadata": {},
   "outputs": [],
   "source": [
    "req = requests.get(f\"https://loc.geopunt.be/v4/Location?q={address}\").json()"
   ]
  },
  {
   "cell_type": "code",
   "execution_count": 23,
   "id": "precise-theology",
   "metadata": {
    "collapsed": true
   },
   "outputs": [
    {
     "data": {
      "text/plain": [
       "{'LowerLeft': {'Lat_WGS84': 51.196053437224585,\n",
       "  'Lon_WGS84': 4.412926976848,\n",
       "  'X_Lambert72': 153087.56,\n",
       "  'Y_Lambert72': 209564.97},\n",
       " 'UpperRight': {'Lat_WGS84': 51.196053437224585,\n",
       "  'Lon_WGS84': 4.412926976848,\n",
       "  'X_Lambert72': 153087.56,\n",
       "  'Y_Lambert72': 209564.97}}"
      ]
     },
     "execution_count": 23,
     "metadata": {},
     "output_type": "execute_result"
    }
   ],
   "source": [
    "req['LocationResult'][0]['BoundingBox']"
   ]
  },
  {
   "cell_type": "code",
   "execution_count": 24,
   "id": "neither-zimbabwe",
   "metadata": {},
   "outputs": [],
   "source": [
    "address_info = {'address' : address, \n",
    "                'x_value' : req['LocationResult'][0]['Location']['X_Lambert72'],\n",
    "                'y_value' : req['LocationResult'][0]['Location']['X_Lambert72'],\n",
    "                'latitude' : req['LocationResult'][0]['Location']['Lat_WGS84'], \n",
    "                'longitude' : req['LocationResult'][0]['Location']['Lon_WGS84'],\n",
    "                'street' : req['LocationResult'][0]['Thoroughfarename'],\n",
    "                'house_number' : req['LocationResult'][0]['Housenumber'], \n",
    "                'postcode': req['LocationResult'][0]['Zipcode'], \n",
    "                'municipality' : req['LocationResult'][0]['Municipality'],\n",
    "                'bbox' : req['LocationResult'][0]['BoundingBox']}"
   ]
  },
  {
   "cell_type": "code",
   "execution_count": 25,
   "id": "everyday-consent",
   "metadata": {
    "collapsed": true
   },
   "outputs": [
    {
     "data": {
      "text/plain": [
       "{'address': 'Sint-Hubertusstraat 89, 2600 Antwerpen',\n",
       " 'x_value': 153087.56,\n",
       " 'y_value': 153087.56,\n",
       " 'latitude': 51.196053437224585,\n",
       " 'longitude': 4.412926976848,\n",
       " 'street': 'Sint-Hubertusstraat',\n",
       " 'house_number': '89',\n",
       " 'postcode': '2600',\n",
       " 'municipality': 'Antwerpen',\n",
       " 'bbox': {'LowerLeft': {'Lat_WGS84': 51.196053437224585,\n",
       "   'Lon_WGS84': 4.412926976848,\n",
       "   'X_Lambert72': 153087.56,\n",
       "   'Y_Lambert72': 209564.97},\n",
       "  'UpperRight': {'Lat_WGS84': 51.196053437224585,\n",
       "   'Lon_WGS84': 4.412926976848,\n",
       "   'X_Lambert72': 153087.56,\n",
       "   'Y_Lambert72': 209564.97}}}"
      ]
     },
     "execution_count": 25,
     "metadata": {},
     "output_type": "execute_result"
    }
   ],
   "source": [
    "address_info"
   ]
  },
  {
   "cell_type": "markdown",
   "id": "serial-correspondence",
   "metadata": {},
   "source": [
    "### Checking the Polygon of the address by using the API"
   ]
  },
  {
   "cell_type": "markdown",
   "id": "global-bachelor",
   "metadata": {},
   "source": [
    "Now, we have to look for the address in the Basisregisters Vlaanderen API and get the polygon of that address."
   ]
  },
  {
   "cell_type": "markdown",
   "id": "renewable-albany",
   "metadata": {},
   "source": [
    "Here is the link to the API: https://docs.basisregisters.dev-vlaanderen.be/docs/api-documentation.html#operation/GetAddress"
   ]
  },
  {
   "cell_type": "code",
   "execution_count": 132,
   "id": "supreme-preliminary",
   "metadata": {
    "collapsed": true
   },
   "outputs": [
    {
     "data": {
      "text/plain": [
       "{'adresMatches': [{'identificator': {'id': 'https://data.vlaanderen.be/id/adres/235907',\n",
       "    'naamruimte': 'https://data.vlaanderen.be/id/adres',\n",
       "    'objectId': '235907',\n",
       "    'versieId': '2014-07-05T05:25:34+02:00'},\n",
       "   'detail': 'https://api.basisregisters.vlaanderen.be/v1/adressen/235907',\n",
       "   'gemeente': {'objectId': '11002',\n",
       "    'detail': 'https://api.basisregisters.vlaanderen.be/v1/gemeenten/11002',\n",
       "    'gemeentenaam': {'geografischeNaam': {'spelling': 'Antwerpen',\n",
       "      'taal': 'nl'}}},\n",
       "   'postinfo': {'objectId': '2600',\n",
       "    'detail': 'https://api.basisregisters.vlaanderen.be/v1/postinfo/2600'},\n",
       "   'straatnaam': {'objectId': '2623',\n",
       "    'detail': 'https://api.basisregisters.vlaanderen.be/v1/straatnamen/2623',\n",
       "    'straatnaam': {'geografischeNaam': {'spelling': 'Sint-Hubertusstraat',\n",
       "      'taal': 'nl'}}},\n",
       "   'huisnummer': '89',\n",
       "   'volledigAdres': {'geografischeNaam': {'spelling': 'Sint-Hubertusstraat 89, 2600 Antwerpen',\n",
       "     'taal': 'nl'}},\n",
       "   'adresPositie': {'point': {'coordinates': [153087.56, 209564.97],\n",
       "     'type': 'Point'}},\n",
       "   'positieSpecificatie': 'gebouweenheid',\n",
       "   'positieGeometrieMethode': 'afgeleidVanObject',\n",
       "   'adresStatus': 'inGebruik',\n",
       "   'officieelToegekend': True,\n",
       "   'adresseerbareObjecten': [{'objectType': 'gebouweenheid',\n",
       "     'objectId': '16269194',\n",
       "     'detail': 'https://api.basisregisters.vlaanderen.be/v1/gebouweenheden/16269194'},\n",
       "    {'objectType': 'perceel',\n",
       "     'objectId': '11303B0421-00P003',\n",
       "     'detail': 'https://api.basisregisters.vlaanderen.be/v1/percelen/11303B0421-00P003'}],\n",
       "   'score': 100.0},\n",
       "  {'identificator': {'id': 'https://data.vlaanderen.be/id/adres/5506447',\n",
       "    'naamruimte': 'https://data.vlaanderen.be/id/adres',\n",
       "    'objectId': '5506447',\n",
       "    'versieId': '2016-06-15T13:42:47+02:00'},\n",
       "   'detail': 'https://api.basisregisters.vlaanderen.be/v1/adressen/5506447',\n",
       "   'gemeente': {'objectId': '11002',\n",
       "    'detail': 'https://api.basisregisters.vlaanderen.be/v1/gemeenten/11002',\n",
       "    'gemeentenaam': {'geografischeNaam': {'spelling': 'Antwerpen',\n",
       "      'taal': 'nl'}}},\n",
       "   'postinfo': {'objectId': '2600',\n",
       "    'detail': 'https://api.basisregisters.vlaanderen.be/v1/postinfo/2600'},\n",
       "   'straatnaam': {'objectId': '2623',\n",
       "    'detail': 'https://api.basisregisters.vlaanderen.be/v1/straatnamen/2623',\n",
       "    'straatnaam': {'geografischeNaam': {'spelling': 'Sint-Hubertusstraat',\n",
       "      'taal': 'nl'}}},\n",
       "   'huisnummer': '89',\n",
       "   'busnummer': '001',\n",
       "   'volledigAdres': {'geografischeNaam': {'spelling': 'Sint-Hubertusstraat 89 bus 001, 2600 Antwerpen',\n",
       "     'taal': 'nl'}},\n",
       "   'adresPositie': {'point': {'coordinates': [153087.56, 209564.97],\n",
       "     'type': 'Point'}},\n",
       "   'positieSpecificatie': 'gebouweenheid',\n",
       "   'positieGeometrieMethode': 'afgeleidVanObject',\n",
       "   'adresStatus': 'inGebruik',\n",
       "   'officieelToegekend': True,\n",
       "   'adresseerbareObjecten': [{'objectType': 'gebouweenheid',\n",
       "     'objectId': '16269198',\n",
       "     'detail': 'https://api.basisregisters.vlaanderen.be/v1/gebouweenheden/16269198'},\n",
       "    {'objectType': 'perceel',\n",
       "     'objectId': '11303B0421-00P003',\n",
       "     'detail': 'https://api.basisregisters.vlaanderen.be/v1/percelen/11303B0421-00P003'}],\n",
       "   'score': 91.40961111267328},\n",
       "  {'identificator': {'id': 'https://data.vlaanderen.be/id/adres/5506448',\n",
       "    'naamruimte': 'https://data.vlaanderen.be/id/adres',\n",
       "    'objectId': '5506448',\n",
       "    'versieId': '2016-06-15T13:42:47+02:00'},\n",
       "   'detail': 'https://api.basisregisters.vlaanderen.be/v1/adressen/5506448',\n",
       "   'gemeente': {'objectId': '11002',\n",
       "    'detail': 'https://api.basisregisters.vlaanderen.be/v1/gemeenten/11002',\n",
       "    'gemeentenaam': {'geografischeNaam': {'spelling': 'Antwerpen',\n",
       "      'taal': 'nl'}}},\n",
       "   'postinfo': {'objectId': '2600',\n",
       "    'detail': 'https://api.basisregisters.vlaanderen.be/v1/postinfo/2600'},\n",
       "   'straatnaam': {'objectId': '2623',\n",
       "    'detail': 'https://api.basisregisters.vlaanderen.be/v1/straatnamen/2623',\n",
       "    'straatnaam': {'geografischeNaam': {'spelling': 'Sint-Hubertusstraat',\n",
       "      'taal': 'nl'}}},\n",
       "   'huisnummer': '89',\n",
       "   'busnummer': '101',\n",
       "   'volledigAdres': {'geografischeNaam': {'spelling': 'Sint-Hubertusstraat 89 bus 101, 2600 Antwerpen',\n",
       "     'taal': 'nl'}},\n",
       "   'adresPositie': {'point': {'coordinates': [153087.56, 209564.97],\n",
       "     'type': 'Point'}},\n",
       "   'positieSpecificatie': 'gebouweenheid',\n",
       "   'positieGeometrieMethode': 'afgeleidVanObject',\n",
       "   'adresStatus': 'inGebruik',\n",
       "   'officieelToegekend': True,\n",
       "   'adresseerbareObjecten': [{'objectType': 'gebouweenheid',\n",
       "     'objectId': '16269197',\n",
       "     'detail': 'https://api.basisregisters.vlaanderen.be/v1/gebouweenheden/16269197'},\n",
       "    {'objectType': 'perceel',\n",
       "     'objectId': '11303B0421-00P003',\n",
       "     'detail': 'https://api.basisregisters.vlaanderen.be/v1/percelen/11303B0421-00P003'}],\n",
       "   'score': 91.40961111267328},\n",
       "  {'identificator': {'id': 'https://data.vlaanderen.be/id/adres/5506449',\n",
       "    'naamruimte': 'https://data.vlaanderen.be/id/adres',\n",
       "    'objectId': '5506449',\n",
       "    'versieId': '2016-06-15T13:42:47+02:00'},\n",
       "   'detail': 'https://api.basisregisters.vlaanderen.be/v1/adressen/5506449',\n",
       "   'gemeente': {'objectId': '11002',\n",
       "    'detail': 'https://api.basisregisters.vlaanderen.be/v1/gemeenten/11002',\n",
       "    'gemeentenaam': {'geografischeNaam': {'spelling': 'Antwerpen',\n",
       "      'taal': 'nl'}}},\n",
       "   'postinfo': {'objectId': '2600',\n",
       "    'detail': 'https://api.basisregisters.vlaanderen.be/v1/postinfo/2600'},\n",
       "   'straatnaam': {'objectId': '2623',\n",
       "    'detail': 'https://api.basisregisters.vlaanderen.be/v1/straatnamen/2623',\n",
       "    'straatnaam': {'geografischeNaam': {'spelling': 'Sint-Hubertusstraat',\n",
       "      'taal': 'nl'}}},\n",
       "   'huisnummer': '89',\n",
       "   'busnummer': '201',\n",
       "   'volledigAdres': {'geografischeNaam': {'spelling': 'Sint-Hubertusstraat 89 bus 201, 2600 Antwerpen',\n",
       "     'taal': 'nl'}},\n",
       "   'adresPositie': {'point': {'coordinates': [153087.56, 209564.97],\n",
       "     'type': 'Point'}},\n",
       "   'positieSpecificatie': 'gebouweenheid',\n",
       "   'positieGeometrieMethode': 'afgeleidVanObject',\n",
       "   'adresStatus': 'inGebruik',\n",
       "   'officieelToegekend': True,\n",
       "   'adresseerbareObjecten': [{'objectType': 'gebouweenheid',\n",
       "     'objectId': '16269196',\n",
       "     'detail': 'https://api.basisregisters.vlaanderen.be/v1/gebouweenheden/16269196'},\n",
       "    {'objectType': 'perceel',\n",
       "     'objectId': '11303B0421-00P003',\n",
       "     'detail': 'https://api.basisregisters.vlaanderen.be/v1/percelen/11303B0421-00P003'}],\n",
       "   'score': 91.40961111267328}],\n",
       " 'warnings': []}"
      ]
     },
     "execution_count": 132,
     "metadata": {},
     "output_type": "execute_result"
    }
   ],
   "source": [
    "r = requests.get(\"https://api.basisregisters.vlaanderen.be/v1/adresmatch\", params={\"postcode\": address_info['postcode'], \"straatnaam\": address_info['street'], \"huisnummer\": address_info['house_number'] })\n",
    "file = json.loads(r.content)\n",
    "file"
   ]
  },
  {
   "cell_type": "code",
   "execution_count": 135,
   "id": "metric-logging",
   "metadata": {
    "collapsed": true
   },
   "outputs": [
    {
     "data": {
      "text/plain": [
       "{'identificator': {'id': 'https://data.vlaanderen.be/id/gebouweenheid/16269194',\n",
       "  'naamruimte': 'https://data.vlaanderen.be/id/gebouweenheid',\n",
       "  'objectId': '16269194',\n",
       "  'versieId': '2017-02-16T17:32:10+01:00'},\n",
       " 'geometriePunt': {'point': {'coordinates': [153087.56, 209564.97],\n",
       "   'type': 'Point'}},\n",
       " 'positieGeometrieMethode': 'afgeleidVanObject',\n",
       " 'gebouweenheidStatus': 'gerealiseerd',\n",
       " 'functie': 'gemeenschappelijkDeel',\n",
       " 'gebouw': {'objectId': '16268382',\n",
       "  'detail': 'https://api.basisregisters.vlaanderen.be/v1/gebouwen/16268382'},\n",
       " 'adressen': [{'objectId': '235907',\n",
       "   'detail': 'https://api.basisregisters.vlaanderen.be/v1/adressen/235907'}]}"
      ]
     },
     "execution_count": 135,
     "metadata": {},
     "output_type": "execute_result"
    }
   ],
   "source": [
    "r = requests.get(file['adresMatches'][0]['adresseerbareObjecten'][0]['detail'])\n",
    "gebouwheden = json.loads(r.content)\n",
    "gebouwheden"
   ]
  },
  {
   "cell_type": "code",
   "execution_count": 137,
   "id": "seventh-kruger",
   "metadata": {
    "collapsed": true
   },
   "outputs": [
    {
     "data": {
      "text/plain": [
       "{'identificator': {'id': 'https://data.vlaanderen.be/id/gebouw/16268382',\n",
       "  'naamruimte': 'https://data.vlaanderen.be/id/gebouw',\n",
       "  'objectId': '16268382',\n",
       "  'versieId': '2017-02-16T17:32:10+01:00'},\n",
       " 'geometriePolygoon': {'polygon': {'coordinates': [[[153093.57102139294,\n",
       "      209554.90101145208],\n",
       "     [153088.04794938862, 209576.96968346462],\n",
       "     [153086.6291333884, 209576.6253634654],\n",
       "     [153086.7168133855, 209576.27758746594],\n",
       "     [153081.55226938426, 209574.8868674636],\n",
       "     [153081.82017338276, 209573.81653146446],\n",
       "     [153086.96302139014, 209553.26702744886],\n",
       "     [153093.57102139294, 209554.90101145208]]],\n",
       "   'type': 'Polygon'}},\n",
       " 'geometrieMethode': 'ingemetenGRB',\n",
       " 'gebouwStatus': 'gerealiseerd',\n",
       " 'gebouweenheden': [{'objectId': '16269194',\n",
       "   'detail': 'https://api.basisregisters.vlaanderen.be/v1/gebouweenheden/16269194'},\n",
       "  {'objectId': '16269195',\n",
       "   'detail': 'https://api.basisregisters.vlaanderen.be/v1/gebouweenheden/16269195'},\n",
       "  {'objectId': '16269196',\n",
       "   'detail': 'https://api.basisregisters.vlaanderen.be/v1/gebouweenheden/16269196'},\n",
       "  {'objectId': '16269197',\n",
       "   'detail': 'https://api.basisregisters.vlaanderen.be/v1/gebouweenheden/16269197'},\n",
       "  {'objectId': '16269198',\n",
       "   'detail': 'https://api.basisregisters.vlaanderen.be/v1/gebouweenheden/16269198'},\n",
       "  {'objectId': '16269199',\n",
       "   'detail': 'https://api.basisregisters.vlaanderen.be/v1/gebouweenheden/16269199'},\n",
       "  {'objectId': '16269200',\n",
       "   'detail': 'https://api.basisregisters.vlaanderen.be/v1/gebouweenheden/16269200'},\n",
       "  {'objectId': '16269201',\n",
       "   'detail': 'https://api.basisregisters.vlaanderen.be/v1/gebouweenheden/16269201'}],\n",
       " 'percelen': [{'objectId': '11303B0421-00P003',\n",
       "   'detail': 'https://api.basisregisters.vlaanderen.be/v1/percelen/11303B0421-00P003'}]}"
      ]
     },
     "execution_count": 137,
     "metadata": {},
     "output_type": "execute_result"
    }
   ],
   "source": [
    "r = requests.get(gebouwheden['gebouw']['detail'])\n",
    "gebouw = json.loads(r.content)\n",
    "gebouw"
   ]
  },
  {
   "cell_type": "code",
   "execution_count": 156,
   "id": "smart-joshua",
   "metadata": {},
   "outputs": [],
   "source": [
    "polygon = gebouw['geometriePolygoon']['polygon']['coordinates'][0]"
   ]
  },
  {
   "cell_type": "code",
   "execution_count": 205,
   "id": "oriental-reach",
   "metadata": {},
   "outputs": [
    {
     "data": {
      "text/plain": [
       "{'coordinates': [[[153093.57102139294, 209554.90101145208],\n",
       "   [153088.04794938862, 209576.96968346462],\n",
       "   [153086.6291333884, 209576.6253634654],\n",
       "   [153086.7168133855, 209576.27758746594],\n",
       "   [153081.55226938426, 209574.8868674636],\n",
       "   [153081.82017338276, 209573.81653146446],\n",
       "   [153086.96302139014, 209553.26702744886],\n",
       "   [153093.57102139294, 209554.90101145208]]],\n",
       " 'type': 'Polygon'}"
      ]
     },
     "execution_count": 205,
     "metadata": {},
     "output_type": "execute_result"
    }
   ],
   "source": [
    "gebouw['geometriePolygoon']['polygon']"
   ]
  },
  {
   "cell_type": "code",
   "execution_count": 157,
   "id": "packed-actress",
   "metadata": {},
   "outputs": [
    {
     "data": {
      "text/plain": [
       "[[153093.57102139294, 209554.90101145208],\n",
       " [153088.04794938862, 209576.96968346462],\n",
       " [153086.6291333884, 209576.6253634654],\n",
       " [153086.7168133855, 209576.27758746594],\n",
       " [153081.55226938426, 209574.8868674636],\n",
       " [153081.82017338276, 209573.81653146446],\n",
       " [153086.96302139014, 209553.26702744886],\n",
       " [153093.57102139294, 209554.90101145208]]"
      ]
     },
     "execution_count": 157,
     "metadata": {},
     "output_type": "execute_result"
    }
   ],
   "source": [
    "polygon"
   ]
  },
  {
   "cell_type": "code",
   "execution_count": 158,
   "id": "killing-legend",
   "metadata": {},
   "outputs": [],
   "source": [
    "address_polygon = Polygon(polygon)"
   ]
  },
  {
   "cell_type": "code",
   "execution_count": 165,
   "id": "executed-wealth",
   "metadata": {},
   "outputs": [
    {
     "data": {
      "image/svg+xml": [
       "<svg xmlns=\"http://www.w3.org/2000/svg\" xmlns:xlink=\"http://www.w3.org/1999/xlink\" width=\"100.0\" height=\"100.0\" viewBox=\"153080.60416314364 209552.31892120824 13.914964489929844 25.59886849700706\" preserveAspectRatio=\"xMinYMin meet\"><g transform=\"matrix(1,0,0,-1,0,419130.2367109135)\"><path fill-rule=\"evenodd\" fill=\"#66cc99\" stroke=\"#555555\" stroke-width=\"0.5119773699401412\" opacity=\"0.6\" d=\"M 153093.57102139294,209554.90101145208 L 153088.04794938862,209576.96968346462 L 153086.6291333884,209576.6253634654 L 153086.7168133855,209576.27758746594 L 153081.55226938426,209574.8868674636 L 153081.82017338276,209573.81653146446 L 153086.96302139014,209553.26702744886 L 153093.57102139294,209554.90101145208 z\" /></g></svg>"
      ],
      "text/plain": [
       "<shapely.geometry.polygon.Polygon at 0x21ad5848b50>"
      ]
     },
     "execution_count": 165,
     "metadata": {},
     "output_type": "execute_result"
    }
   ],
   "source": [
    "address_polygon"
   ]
  },
  {
   "cell_type": "code",
   "execution_count": 166,
   "id": "activated-melbourne",
   "metadata": {},
   "outputs": [],
   "source": [
    "address_info['polygon'] = polygon\n",
    "address_info['address_polygon'] = address_polygon"
   ]
  },
  {
   "cell_type": "code",
   "execution_count": 168,
   "id": "numerous-excuse",
   "metadata": {},
   "outputs": [
    {
     "data": {
      "text/plain": [
       "{'address': 'Sint-Hubertusstraat 89, 2600 Antwerpen',\n",
       " 'x_value': 153087.56,\n",
       " 'y_value': 209564.97,\n",
       " 'latitude': 51.19605343957527,\n",
       " 'longitude': 4.412926986228825,\n",
       " 'street': 'Sint-Hubertusstraat',\n",
       " 'house_number': '89',\n",
       " 'postcode': 2600,\n",
       " 'municipality': 'Antwerpen',\n",
       " 'polygon': [[153093.57102139294, 209554.90101145208],\n",
       "  [153088.04794938862, 209576.96968346462],\n",
       "  [153086.6291333884, 209576.6253634654],\n",
       "  [153086.7168133855, 209576.27758746594],\n",
       "  [153081.55226938426, 209574.8868674636],\n",
       "  [153081.82017338276, 209573.81653146446],\n",
       "  [153086.96302139014, 209553.26702744886],\n",
       "  [153093.57102139294, 209554.90101145208]],\n",
       " 'address_polygon': <shapely.geometry.polygon.Polygon at 0x21ad5848b50>}"
      ]
     },
     "execution_count": 168,
     "metadata": {},
     "output_type": "execute_result"
    }
   ],
   "source": [
    "address_info"
   ]
  },
  {
   "cell_type": "markdown",
   "id": "digital-mumbai",
   "metadata": {},
   "source": [
    "### Figure out which tiff file to open depending on the coordinates"
   ]
  },
  {
   "cell_type": "markdown",
   "id": "innovative-enough",
   "metadata": {},
   "source": [
    "Alright! We are making good progress here! Now we have to figure out which tiff file to open depending on the coordinates."
   ]
  },
  {
   "cell_type": "markdown",
   "id": "critical-officer",
   "metadata": {},
   "source": [
    "To check which tiff file to open, we need to get the boundingbox of the tiff file and then compare if the X and Y of the address is inside the bounding box."
   ]
  },
  {
   "cell_type": "markdown",
   "id": "rising-chester",
   "metadata": {},
   "source": [
    "I was able to create a csv file containing the bounding box for all the DSM files. SO we just need to open it and check which tiff file should we use."
   ]
  },
  {
   "cell_type": "code",
   "execution_count": 169,
   "id": "played-bradford",
   "metadata": {},
   "outputs": [],
   "source": [
    "bbox = pd.read_csv('data/bounding-box.csv')"
   ]
  },
  {
   "cell_type": "code",
   "execution_count": 170,
   "id": "vietnamese-preference",
   "metadata": {},
   "outputs": [
    {
     "data": {
      "text/html": [
       "<div>\n",
       "<style scoped>\n",
       "    .dataframe tbody tr th:only-of-type {\n",
       "        vertical-align: middle;\n",
       "    }\n",
       "\n",
       "    .dataframe tbody tr th {\n",
       "        vertical-align: top;\n",
       "    }\n",
       "\n",
       "    .dataframe thead th {\n",
       "        text-align: right;\n",
       "    }\n",
       "</style>\n",
       "<table border=\"1\" class=\"dataframe\">\n",
       "  <thead>\n",
       "    <tr style=\"text-align: right;\">\n",
       "      <th></th>\n",
       "      <th>DSM Files</th>\n",
       "      <th>Left (X)</th>\n",
       "      <th>Bottom (Y)</th>\n",
       "      <th>Right (X)</th>\n",
       "      <th>Top (Y)</th>\n",
       "    </tr>\n",
       "  </thead>\n",
       "  <tbody>\n",
       "    <tr>\n",
       "      <th>0</th>\n",
       "      <td>DSM_1</td>\n",
       "      <td>145000.0</td>\n",
       "      <td>238000.0</td>\n",
       "      <td>162000.0</td>\n",
       "      <td>247000.0</td>\n",
       "    </tr>\n",
       "    <tr>\n",
       "      <th>1</th>\n",
       "      <td>DSM_2</td>\n",
       "      <td>162000.0</td>\n",
       "      <td>238000.0</td>\n",
       "      <td>194000.0</td>\n",
       "      <td>250000.0</td>\n",
       "    </tr>\n",
       "    <tr>\n",
       "      <th>2</th>\n",
       "      <td>DSM_3</td>\n",
       "      <td>194000.0</td>\n",
       "      <td>238000.0</td>\n",
       "      <td>206000.0</td>\n",
       "      <td>248000.0</td>\n",
       "    </tr>\n",
       "    <tr>\n",
       "      <th>3</th>\n",
       "      <td>DSM_4</td>\n",
       "      <td>53000.0</td>\n",
       "      <td>218000.0</td>\n",
       "      <td>66000.0</td>\n",
       "      <td>225500.0</td>\n",
       "    </tr>\n",
       "    <tr>\n",
       "      <th>4</th>\n",
       "      <td>DSM_5</td>\n",
       "      <td>66000.0</td>\n",
       "      <td>218000.0</td>\n",
       "      <td>98000.0</td>\n",
       "      <td>232000.0</td>\n",
       "    </tr>\n",
       "  </tbody>\n",
       "</table>\n",
       "</div>"
      ],
      "text/plain": [
       "  DSM Files  Left (X)  Bottom (Y)  Right (X)   Top (Y)\n",
       "0     DSM_1  145000.0    238000.0   162000.0  247000.0\n",
       "1     DSM_2  162000.0    238000.0   194000.0  250000.0\n",
       "2     DSM_3  194000.0    238000.0   206000.0  248000.0\n",
       "3     DSM_4   53000.0    218000.0    66000.0  225500.0\n",
       "4     DSM_5   66000.0    218000.0    98000.0  232000.0"
      ]
     },
     "execution_count": 170,
     "metadata": {},
     "output_type": "execute_result"
    }
   ],
   "source": [
    "bbox.head()"
   ]
  },
  {
   "cell_type": "code",
   "execution_count": 172,
   "id": "immediate-incentive",
   "metadata": {},
   "outputs": [],
   "source": [
    "for i in range(bbox.shape[0]):\n",
    "    if bbox['Left (X)'][i] <= address_info['x_value']:\n",
    "        if bbox['Right (X)'][i] >= address_info['x_value']:\n",
    "            if bbox['Bottom (Y)'][i] <= address_info['y_value']:\n",
    "                if bbox['Top (Y)'][i] >= address_info['y_value']:\n",
    "                    num = i\n",
    "                    break"
   ]
  },
  {
   "cell_type": "code",
   "execution_count": 173,
   "id": "solved-married",
   "metadata": {},
   "outputs": [
    {
     "data": {
      "text/plain": [
       "DSM Files       DSM_15\n",
       "Left (X)      130000.0\n",
       "Bottom (Y)    198000.0\n",
       "Right (X)     162000.0\n",
       "Top (Y)       218000.0\n",
       "Name: 14, dtype: object"
      ]
     },
     "execution_count": 173,
     "metadata": {},
     "output_type": "execute_result"
    }
   ],
   "source": [
    "bbox.iloc[num]"
   ]
  },
  {
   "cell_type": "markdown",
   "id": "circular-senate",
   "metadata": {},
   "source": [
    "Now that we're able to locate from which tiff file the coordinates is located, we can now start using only this specific tiff files."
   ]
  },
  {
   "cell_type": "code",
   "execution_count": 174,
   "id": "heavy-receipt",
   "metadata": {},
   "outputs": [],
   "source": [
    "# Getting the DSM link\n",
    "if num < 9:\n",
    "    DSM = f\"https://downloadagiv.blob.core.windows.net/dhm-vlaanderen-ii-dsm-raster-1m/DHMVIIDSMRAS1m_k0{num+1}.zip\"\n",
    "else:\n",
    "    DSM = f\"https://downloadagiv.blob.core.windows.net/dhm-vlaanderen-ii-dsm-raster-1m/DHMVIIDSMRAS1m_k{num+1}.zip\"\n"
   ]
  },
  {
   "cell_type": "code",
   "execution_count": 175,
   "id": "caroline-argument",
   "metadata": {},
   "outputs": [],
   "source": [
    "# Getting the DTM link\n",
    "if num < 9:\n",
    "    DTM = f\"https://downloadagiv.blob.core.windows.net/dhm-vlaanderen-ii-dtm-raster-1m/DHMVIIDTMRAS1m_k0{num+1}.zip\"\n",
    "else:\n",
    "    DTM = f\"https://downloadagiv.blob.core.windows.net/dhm-vlaanderen-ii-dtm-raster-1m/DHMVIIDTMRAS1m_k{num+1}.zip\""
   ]
  },
  {
   "cell_type": "code",
   "execution_count": 176,
   "id": "preceding-possible",
   "metadata": {},
   "outputs": [
    {
     "data": {
      "text/plain": [
       "{'DSM': 'https://downloadagiv.blob.core.windows.net/dhm-vlaanderen-ii-dsm-raster-1m/DHMVIIDSMRAS1m_k15.zip',\n",
       " 'DTM': 'https://downloadagiv.blob.core.windows.net/dhm-vlaanderen-ii-dtm-raster-1m/DHMVIIDTMRAS1m_k15.zip'}"
      ]
     },
     "execution_count": 176,
     "metadata": {},
     "output_type": "execute_result"
    }
   ],
   "source": [
    "files = {'DSM': DSM, 'DTM': DTM}\n",
    "files"
   ]
  },
  {
   "cell_type": "code",
   "execution_count": 22,
   "id": "helpful-election",
   "metadata": {},
   "outputs": [
    {
     "name": "stdout",
     "output_type": "stream",
     "text": [
      "Downloading the DSM zip file......\n",
      "Extracting the DSM zip file .......\n",
      "Done extracting the DSM zip file to raster-files/DSM folder! :)\n",
      "Downloading the DTM zip file......\n",
      "Extracting the DTM zip file .......\n",
      "Done extracting the DTM zip file to raster-files/DTM folder! :)\n"
     ]
    }
   ],
   "source": [
    "for key, value in files.items():\n",
    "    with urlopen(value) as zipresp:\n",
    "        print(f\"Downloading the {key} zip file......\")\n",
    "        with ZipFile(BytesIO(zipresp.read())) as zfile:\n",
    "            print(f\"Extracting the {key} zip file .......\")\n",
    "            zfile.extractall(f'data/raster-files/{key}')\n",
    "            print(f\"Done extracting the {key} zip file to raster-files/{key} folder! :)\")"
   ]
  },
  {
   "cell_type": "markdown",
   "id": "comparative-soviet",
   "metadata": {},
   "source": [
    "### Creating the Canopy Height Model"
   ]
  },
  {
   "cell_type": "markdown",
   "id": "qualified-observation",
   "metadata": {},
   "source": [
    "Alright! Now the DSM and DTM files are already saved and extracted to the `raster-files` folder.\n",
    "We can now proceed in creating the <b>Canopy Height Model<b>."
   ]
  },
  {
   "cell_type": "markdown",
   "id": "sufficient-russell",
   "metadata": {},
   "source": [
    "`Canopy Height Model = DSM - DTM`"
   ]
  },
  {
   "cell_type": "markdown",
   "id": "referenced-alfred",
   "metadata": {},
   "source": [
    "First, we have to open the tiff file from the extracted files and we need to use the mask option to only show the polygon inside the tiff file."
   ]
  },
  {
   "cell_type": "code",
   "execution_count": 177,
   "id": "actual-warren",
   "metadata": {},
   "outputs": [],
   "source": [
    "#Getting the DSM file\n",
    "if num < 9:\n",
    "    DSM_file = f'data/raster-files/DSM/GeoTiff/DHMVIIDSMRAS1m_k0{num+1}.tif'\n",
    "else:\n",
    "    DSM_file = f'data/raster-files/DSM/GeoTiff/DHMVIIDSMRAS1m_k{num+1}.tif'  "
   ]
  },
  {
   "cell_type": "code",
   "execution_count": 178,
   "id": "twenty-oasis",
   "metadata": {},
   "outputs": [],
   "source": [
    "#Getting the DTM file\n",
    "if num < 9:\n",
    "    DTM_file = f'data/raster-files/DTM/GeoTiff/DHMVIIDTMRAS1m_k0{num+1}.tif'\n",
    "else:\n",
    "    DTM_file = f'data/raster-files/DTM/GeoTiff/DHMVIIDTMRAS1m_k{num+1}.tif'"
   ]
  },
  {
   "cell_type": "code",
   "execution_count": 179,
   "id": "animal-mentor",
   "metadata": {},
   "outputs": [
    {
     "data": {
      "text/plain": [
       "'data/raster-files/DSM/GeoTiff/DHMVIIDSMRAS1m_k15.tif'"
      ]
     },
     "execution_count": 179,
     "metadata": {},
     "output_type": "execute_result"
    }
   ],
   "source": [
    "DSM_file"
   ]
  },
  {
   "cell_type": "code",
   "execution_count": 180,
   "id": "broadband-simpson",
   "metadata": {},
   "outputs": [
    {
     "data": {
      "text/plain": [
       "'data/raster-files/DTM/GeoTiff/DHMVIIDTMRAS1m_k15.tif'"
      ]
     },
     "execution_count": 180,
     "metadata": {},
     "output_type": "execute_result"
    }
   ],
   "source": [
    "DTM_file"
   ]
  },
  {
   "cell_type": "code",
   "execution_count": 181,
   "id": "packed-dallas",
   "metadata": {},
   "outputs": [
    {
     "data": {
      "text/plain": [
       "{'address': 'Sint-Hubertusstraat 89, 2600 Antwerpen',\n",
       " 'x_value': 153087.56,\n",
       " 'y_value': 209564.97,\n",
       " 'latitude': 51.19605343957527,\n",
       " 'longitude': 4.412926986228825,\n",
       " 'street': 'Sint-Hubertusstraat',\n",
       " 'house_number': '89',\n",
       " 'postcode': 2600,\n",
       " 'municipality': 'Antwerpen',\n",
       " 'polygon': [[153093.57102139294, 209554.90101145208],\n",
       "  [153088.04794938862, 209576.96968346462],\n",
       "  [153086.6291333884, 209576.6253634654],\n",
       "  [153086.7168133855, 209576.27758746594],\n",
       "  [153081.55226938426, 209574.8868674636],\n",
       "  [153081.82017338276, 209573.81653146446],\n",
       "  [153086.96302139014, 209553.26702744886],\n",
       "  [153093.57102139294, 209554.90101145208]],\n",
       " 'address_polygon': <shapely.geometry.polygon.Polygon at 0x21ad5848b50>}"
      ]
     },
     "execution_count": 181,
     "metadata": {},
     "output_type": "execute_result"
    }
   ],
   "source": [
    "address_info"
   ]
  },
  {
   "cell_type": "code",
   "execution_count": 187,
   "id": "spare-frank",
   "metadata": {
    "scrolled": true
   },
   "outputs": [
    {
     "data": {
      "image/svg+xml": [
       "<svg xmlns=\"http://www.w3.org/2000/svg\" xmlns:xlink=\"http://www.w3.org/1999/xlink\" width=\"100.0\" height=\"100.0\" viewBox=\"153080.60416314364 209552.31892120824 13.914964489929844 25.59886849700706\" preserveAspectRatio=\"xMinYMin meet\"><g transform=\"matrix(1,0,0,-1,0,419130.2367109135)\"><path fill-rule=\"evenodd\" fill=\"#66cc99\" stroke=\"#555555\" stroke-width=\"0.5119773699401412\" opacity=\"0.6\" d=\"M 153093.57102139294,209554.90101145208 L 153088.04794938862,209576.96968346462 L 153086.6291333884,209576.6253634654 L 153086.7168133855,209576.27758746594 L 153081.55226938426,209574.8868674636 L 153081.82017338276,209573.81653146446 L 153086.96302139014,209553.26702744886 L 153093.57102139294,209554.90101145208 z\" /></g></svg>"
      ],
      "text/plain": [
       "<shapely.geometry.polygon.Polygon at 0x21ad5848b50>"
      ]
     },
     "execution_count": 187,
     "metadata": {},
     "output_type": "execute_result"
    }
   ],
   "source": [
    "address_info['address_polygon']"
   ]
  },
  {
   "cell_type": "code",
   "execution_count": 185,
   "id": "related-major",
   "metadata": {
    "collapsed": true
   },
   "outputs": [
    {
     "ename": "AttributeError",
     "evalue": "'list' object has no attribute 'get'",
     "output_type": "error",
     "traceback": [
      "\u001b[1;31m---------------------------------------------------------------------------\u001b[0m",
      "\u001b[1;31mAttributeError\u001b[0m                            Traceback (most recent call last)",
      "\u001b[1;32m<ipython-input-185-5cffb3a498f6>\u001b[0m in \u001b[0;36m<module>\u001b[1;34m\u001b[0m\n\u001b[0;32m      1\u001b[0m \u001b[1;32mwith\u001b[0m \u001b[0mrt\u001b[0m\u001b[1;33m.\u001b[0m\u001b[0mopen\u001b[0m\u001b[1;33m(\u001b[0m\u001b[0mDSM_file\u001b[0m\u001b[1;33m)\u001b[0m \u001b[1;32mas\u001b[0m \u001b[0mf\u001b[0m\u001b[1;33m:\u001b[0m\u001b[1;33m\u001b[0m\u001b[1;33m\u001b[0m\u001b[0m\n\u001b[1;32m----> 2\u001b[1;33m     \u001b[0mdsm_image\u001b[0m\u001b[1;33m,\u001b[0m \u001b[0mdsm_transform\u001b[0m \u001b[1;33m=\u001b[0m \u001b[0mrt\u001b[0m\u001b[1;33m.\u001b[0m\u001b[0mmask\u001b[0m\u001b[1;33m.\u001b[0m\u001b[0mmask\u001b[0m\u001b[1;33m(\u001b[0m\u001b[0mf\u001b[0m\u001b[1;33m,\u001b[0m \u001b[0maddress_info\u001b[0m\u001b[1;33m[\u001b[0m\u001b[1;34m'polygon'\u001b[0m\u001b[1;33m]\u001b[0m\u001b[1;33m,\u001b[0m \u001b[0mcrop\u001b[0m\u001b[1;33m=\u001b[0m\u001b[1;32mTrue\u001b[0m\u001b[1;33m)\u001b[0m\u001b[1;33m\u001b[0m\u001b[1;33m\u001b[0m\u001b[0m\n\u001b[0m\u001b[0;32m      3\u001b[0m     \u001b[0mdsm_extent\u001b[0m \u001b[1;33m=\u001b[0m \u001b[0mrt\u001b[0m\u001b[1;33m.\u001b[0m\u001b[0mplot\u001b[0m\u001b[1;33m.\u001b[0m\u001b[0mplotting_extent\u001b[0m\u001b[1;33m(\u001b[0m\u001b[0mf\u001b[0m\u001b[1;33m)\u001b[0m\u001b[1;33m\u001b[0m\u001b[1;33m\u001b[0m\u001b[0m\n\u001b[0;32m      4\u001b[0m     \u001b[0mdsm_meta\u001b[0m \u001b[1;33m=\u001b[0m \u001b[0mf\u001b[0m\u001b[1;33m.\u001b[0m\u001b[0mmeta\u001b[0m\u001b[1;33m\u001b[0m\u001b[1;33m\u001b[0m\u001b[0m\n",
      "\u001b[1;32m~\\anaconda3\\lib\\site-packages\\rasterio\\mask.py\u001b[0m in \u001b[0;36mmask\u001b[1;34m(dataset, shapes, all_touched, invert, nodata, filled, crop, pad, pad_width, indexes)\u001b[0m\n\u001b[0;32m    180\u001b[0m             \u001b[0mnodata\u001b[0m \u001b[1;33m=\u001b[0m \u001b[1;36m0\u001b[0m\u001b[1;33m\u001b[0m\u001b[1;33m\u001b[0m\u001b[0m\n\u001b[0;32m    181\u001b[0m \u001b[1;33m\u001b[0m\u001b[0m\n\u001b[1;32m--> 182\u001b[1;33m     shape_mask, transform, window = raster_geometry_mask(\n\u001b[0m\u001b[0;32m    183\u001b[0m         \u001b[0mdataset\u001b[0m\u001b[1;33m,\u001b[0m \u001b[0mshapes\u001b[0m\u001b[1;33m,\u001b[0m \u001b[0mall_touched\u001b[0m\u001b[1;33m=\u001b[0m\u001b[0mall_touched\u001b[0m\u001b[1;33m,\u001b[0m \u001b[0minvert\u001b[0m\u001b[1;33m=\u001b[0m\u001b[0minvert\u001b[0m\u001b[1;33m,\u001b[0m \u001b[0mcrop\u001b[0m\u001b[1;33m=\u001b[0m\u001b[0mcrop\u001b[0m\u001b[1;33m,\u001b[0m\u001b[1;33m\u001b[0m\u001b[1;33m\u001b[0m\u001b[0m\n\u001b[0;32m    184\u001b[0m         pad=pad, pad_width=pad_width)\n",
      "\u001b[1;32m~\\anaconda3\\lib\\site-packages\\rasterio\\mask.py\u001b[0m in \u001b[0;36mraster_geometry_mask\u001b[1;34m(dataset, shapes, all_touched, invert, crop, pad, pad_width)\u001b[0m\n\u001b[0;32m     81\u001b[0m \u001b[1;33m\u001b[0m\u001b[0m\n\u001b[0;32m     82\u001b[0m     \u001b[1;32mtry\u001b[0m\u001b[1;33m:\u001b[0m\u001b[1;33m\u001b[0m\u001b[1;33m\u001b[0m\u001b[0m\n\u001b[1;32m---> 83\u001b[1;33m         window = geometry_window(dataset, shapes, north_up=north_up, rotated=rotated,\n\u001b[0m\u001b[0;32m     84\u001b[0m                                  pad_x=pad_x, pad_y=pad_y)\n\u001b[0;32m     85\u001b[0m \u001b[1;33m\u001b[0m\u001b[0m\n",
      "\u001b[1;32m~\\anaconda3\\lib\\site-packages\\rasterio\\features.py\u001b[0m in \u001b[0;36mgeometry_window\u001b[1;34m(dataset, shapes, pad_x, pad_y, north_up, rotated, pixel_precision)\u001b[0m\n\u001b[0;32m    414\u001b[0m \u001b[1;33m\u001b[0m\u001b[0m\n\u001b[0;32m    415\u001b[0m     \u001b[1;32mif\u001b[0m \u001b[1;32mnot\u001b[0m \u001b[0mrotated\u001b[0m\u001b[1;33m:\u001b[0m\u001b[1;33m\u001b[0m\u001b[1;33m\u001b[0m\u001b[0m\n\u001b[1;32m--> 416\u001b[1;33m         \u001b[0mall_bounds\u001b[0m \u001b[1;33m=\u001b[0m \u001b[1;33m[\u001b[0m\u001b[0mbounds\u001b[0m\u001b[1;33m(\u001b[0m\u001b[0mshape\u001b[0m\u001b[1;33m,\u001b[0m \u001b[0mnorth_up\u001b[0m\u001b[1;33m=\u001b[0m\u001b[0mnorth_up\u001b[0m\u001b[1;33m)\u001b[0m \u001b[1;32mfor\u001b[0m \u001b[0mshape\u001b[0m \u001b[1;32min\u001b[0m \u001b[0mshapes\u001b[0m\u001b[1;33m]\u001b[0m\u001b[1;33m\u001b[0m\u001b[1;33m\u001b[0m\u001b[0m\n\u001b[0m\u001b[0;32m    417\u001b[0m         \u001b[0mlefts\u001b[0m\u001b[1;33m,\u001b[0m \u001b[0mbottoms\u001b[0m\u001b[1;33m,\u001b[0m \u001b[0mrights\u001b[0m\u001b[1;33m,\u001b[0m \u001b[0mtops\u001b[0m \u001b[1;33m=\u001b[0m \u001b[0mzip\u001b[0m\u001b[1;33m(\u001b[0m\u001b[1;33m*\u001b[0m\u001b[0mall_bounds\u001b[0m\u001b[1;33m)\u001b[0m\u001b[1;33m\u001b[0m\u001b[1;33m\u001b[0m\u001b[0m\n\u001b[0;32m    418\u001b[0m \u001b[1;33m\u001b[0m\u001b[0m\n",
      "\u001b[1;32m~\\anaconda3\\lib\\site-packages\\rasterio\\features.py\u001b[0m in \u001b[0;36m<listcomp>\u001b[1;34m(.0)\u001b[0m\n\u001b[0;32m    414\u001b[0m \u001b[1;33m\u001b[0m\u001b[0m\n\u001b[0;32m    415\u001b[0m     \u001b[1;32mif\u001b[0m \u001b[1;32mnot\u001b[0m \u001b[0mrotated\u001b[0m\u001b[1;33m:\u001b[0m\u001b[1;33m\u001b[0m\u001b[1;33m\u001b[0m\u001b[0m\n\u001b[1;32m--> 416\u001b[1;33m         \u001b[0mall_bounds\u001b[0m \u001b[1;33m=\u001b[0m \u001b[1;33m[\u001b[0m\u001b[0mbounds\u001b[0m\u001b[1;33m(\u001b[0m\u001b[0mshape\u001b[0m\u001b[1;33m,\u001b[0m \u001b[0mnorth_up\u001b[0m\u001b[1;33m=\u001b[0m\u001b[0mnorth_up\u001b[0m\u001b[1;33m)\u001b[0m \u001b[1;32mfor\u001b[0m \u001b[0mshape\u001b[0m \u001b[1;32min\u001b[0m \u001b[0mshapes\u001b[0m\u001b[1;33m]\u001b[0m\u001b[1;33m\u001b[0m\u001b[1;33m\u001b[0m\u001b[0m\n\u001b[0m\u001b[0;32m    417\u001b[0m         \u001b[0mlefts\u001b[0m\u001b[1;33m,\u001b[0m \u001b[0mbottoms\u001b[0m\u001b[1;33m,\u001b[0m \u001b[0mrights\u001b[0m\u001b[1;33m,\u001b[0m \u001b[0mtops\u001b[0m \u001b[1;33m=\u001b[0m \u001b[0mzip\u001b[0m\u001b[1;33m(\u001b[0m\u001b[1;33m*\u001b[0m\u001b[0mall_bounds\u001b[0m\u001b[1;33m)\u001b[0m\u001b[1;33m\u001b[0m\u001b[1;33m\u001b[0m\u001b[0m\n\u001b[0;32m    418\u001b[0m \u001b[1;33m\u001b[0m\u001b[0m\n",
      "\u001b[1;32m~\\anaconda3\\lib\\site-packages\\rasterio\\features.py\u001b[0m in \u001b[0;36mbounds\u001b[1;34m(geometry, north_up, transform)\u001b[0m\n\u001b[0;32m    368\u001b[0m         \u001b[1;32mreturn\u001b[0m \u001b[0mtuple\u001b[0m\u001b[1;33m(\u001b[0m\u001b[0mgeometry\u001b[0m\u001b[1;33m[\u001b[0m\u001b[1;34m'bbox'\u001b[0m\u001b[1;33m]\u001b[0m\u001b[1;33m)\u001b[0m\u001b[1;33m\u001b[0m\u001b[1;33m\u001b[0m\u001b[0m\n\u001b[0;32m    369\u001b[0m \u001b[1;33m\u001b[0m\u001b[0m\n\u001b[1;32m--> 370\u001b[1;33m     \u001b[0mgeom\u001b[0m \u001b[1;33m=\u001b[0m \u001b[0mgeometry\u001b[0m\u001b[1;33m.\u001b[0m\u001b[0mget\u001b[0m\u001b[1;33m(\u001b[0m\u001b[1;34m'geometry'\u001b[0m\u001b[1;33m)\u001b[0m \u001b[1;32mor\u001b[0m \u001b[0mgeometry\u001b[0m\u001b[1;33m\u001b[0m\u001b[1;33m\u001b[0m\u001b[0m\n\u001b[0m\u001b[0;32m    371\u001b[0m     \u001b[1;32mreturn\u001b[0m \u001b[0m_bounds\u001b[0m\u001b[1;33m(\u001b[0m\u001b[0mgeom\u001b[0m\u001b[1;33m,\u001b[0m \u001b[0mnorth_up\u001b[0m\u001b[1;33m=\u001b[0m\u001b[0mnorth_up\u001b[0m\u001b[1;33m,\u001b[0m \u001b[0mtransform\u001b[0m\u001b[1;33m=\u001b[0m\u001b[0mtransform\u001b[0m\u001b[1;33m)\u001b[0m\u001b[1;33m\u001b[0m\u001b[1;33m\u001b[0m\u001b[0m\n\u001b[0;32m    372\u001b[0m \u001b[1;33m\u001b[0m\u001b[0m\n",
      "\u001b[1;31mAttributeError\u001b[0m: 'list' object has no attribute 'get'"
     ]
    }
   ],
   "source": [
    "with rt.open(DSM_file) as f:\n",
    "    dsm_image, dsm_transform = rt.mask.mask(f, address_info['polygon'], crop=True)\n",
    "    dsm_extent = rt.plot.plotting_extent(f)\n",
    "    dsm_meta = f.meta"
   ]
  },
  {
   "cell_type": "markdown",
   "id": "streaming-enough",
   "metadata": {},
   "source": [
    "# Playground"
   ]
  },
  {
   "cell_type": "code",
   "execution_count": 192,
   "id": "heavy-italic",
   "metadata": {},
   "outputs": [
    {
     "data": {
      "text/plain": [
       "'data/raster-files/DSM/GeoTiff/DHMVIIDSMRAS1m_k15.tif'"
      ]
     },
     "execution_count": 192,
     "metadata": {},
     "output_type": "execute_result"
    }
   ],
   "source": [
    "DSM_file"
   ]
  },
  {
   "cell_type": "code",
   "execution_count": 202,
   "id": "subject-liver",
   "metadata": {},
   "outputs": [
    {
     "data": {
      "image/png": "[encoded data removed]",
      "text/plain": [
       "<Figure size 432x288 with 1 Axes>"
      ]
     },
     "metadata": {
      "needs_background": "light"
     },
     "output_type": "display_data"
    },
    {
     "data": {
      "text/plain": [
       "<AxesSubplot:>"
      ]
     },
     "execution_count": 202,
     "metadata": {},
     "output_type": "execute_result"
    }
   ],
   "source": [
    "\n",
    "# Read the data\n",
    "data = rt.open(DSM_file)\n",
    "\n",
    "# Visualize the NIR band\n",
    "show((data, 1), cmap='terrain')"
   ]
  },
  {
   "cell_type": "code",
   "execution_count": 257,
   "id": "identical-intranet",
   "metadata": {},
   "outputs": [
    {
     "data": {
      "image/png": "[encoded data removed]",
      "text/plain": [
       "<Figure size 432x288 with 1 Axes>"
      ]
     },
     "metadata": {
      "needs_background": "light"
     },
     "output_type": "display_data"
    }
   ],
   "source": [
    "plt.imshow(CHM, cmap='ocean')\n",
    "plt.show()"
   ]
  },
  {
   "cell_type": "code",
   "execution_count": 203,
   "id": "incomplete-front",
   "metadata": {},
   "outputs": [
    {
     "data": {
      "image/svg+xml": [
       "<svg xmlns=\"http://www.w3.org/2000/svg\" xmlns:xlink=\"http://www.w3.org/1999/xlink\" width=\"100.0\" height=\"100.0\" viewBox=\"153080.60416314364 209552.31892120824 13.914964489929844 25.59886849700706\" preserveAspectRatio=\"xMinYMin meet\"><g transform=\"matrix(1,0,0,-1,0,419130.2367109135)\"><path fill-rule=\"evenodd\" fill=\"#66cc99\" stroke=\"#555555\" stroke-width=\"0.5119773699401412\" opacity=\"0.6\" d=\"M 153093.57102139294,209554.90101145208 L 153088.04794938862,209576.96968346462 L 153086.6291333884,209576.6253634654 L 153086.7168133855,209576.27758746594 L 153081.55226938426,209574.8868674636 L 153081.82017338276,209573.81653146446 L 153086.96302139014,209553.26702744886 L 153093.57102139294,209554.90101145208 z\" /></g></svg>"
      ],
      "text/plain": [
       "<shapely.geometry.polygon.Polygon at 0x21ad5848b50>"
      ]
     },
     "execution_count": 203,
     "metadata": {},
     "output_type": "execute_result"
    }
   ],
   "source": [
    "address_info['address_polygon']"
   ]
  },
  {
   "cell_type": "code",
   "execution_count": 209,
   "id": "mysterious-execution",
   "metadata": {},
   "outputs": [],
   "source": [
    "poly = [{'coordinates': [[[153093.57102139294, 209554.90101145208],\n",
    "   [153088.04794938862, 209576.96968346462],\n",
    "   [153086.6291333884, 209576.6253634654],\n",
    "   [153086.7168133855, 209576.27758746594],\n",
    "   [153081.55226938426, 209574.8868674636],\n",
    "   [153081.82017338276, 209573.81653146446],\n",
    "   [153086.96302139014, 209553.26702744886],\n",
    "   [153093.57102139294, 209554.90101145208]]],\n",
    " 'type': 'Polygon'}]"
   ]
  },
  {
   "cell_type": "code",
   "execution_count": 211,
   "id": "mechanical-robert",
   "metadata": {},
   "outputs": [
    {
     "data": {
      "text/plain": [
       "[{'coordinates': [[[153093.57102139294, 209554.90101145208],\n",
       "    [153088.04794938862, 209576.96968346462],\n",
       "    [153086.6291333884, 209576.6253634654],\n",
       "    [153086.7168133855, 209576.27758746594],\n",
       "    [153081.55226938426, 209574.8868674636],\n",
       "    [153081.82017338276, 209573.81653146446],\n",
       "    [153086.96302139014, 209553.26702744886],\n",
       "    [153093.57102139294, 209554.90101145208]]],\n",
       "  'type': 'Polygon'}]"
      ]
     },
     "execution_count": 211,
     "metadata": {},
     "output_type": "execute_result"
    }
   ],
   "source": [
    "poly"
   ]
  },
  {
   "cell_type": "code",
   "execution_count": 212,
   "id": "filled-touch",
   "metadata": {},
   "outputs": [],
   "source": [
    "\n",
    "out_img, out_transform = mask(dataset=data, shapes=poly, crop=True)"
   ]
  },
  {
   "cell_type": "code",
   "execution_count": 213,
   "id": "noticed-atlas",
   "metadata": {},
   "outputs": [
    {
     "name": "stdout",
     "output_type": "stream",
     "text": [
      "{'driver': 'GTiff', 'dtype': 'float32', 'nodata': -9999.0, 'width': 32000, 'height': 20000, 'count': 1, 'crs': CRS.from_epsg(31370), 'transform': Affine(1.0, 0.0, 130000.0,\n",
      "       0.0, -1.0, 218000.0)}\n"
     ]
    }
   ],
   "source": [
    "out_meta = data.meta.copy()\n",
    "print(out_meta)"
   ]
  },
  {
   "cell_type": "code",
   "execution_count": 214,
   "id": "fatal-nerve",
   "metadata": {},
   "outputs": [
    {
     "name": "stdout",
     "output_type": "stream",
     "text": [
      "31370\n"
     ]
    }
   ],
   "source": [
    "epsg_code = int(data.crs.data['init'][5:])\n",
    "print(epsg_code)"
   ]
  },
  {
   "cell_type": "code",
   "execution_count": 218,
   "id": "impressed-morocco",
   "metadata": {},
   "outputs": [],
   "source": [
    "out_meta.update({\"driver\": \"GTiff\",\n",
    "                 \"height\": out_img.shape[1],\n",
    "                 \"width\": out_img.shape[2],\n",
    "                 \"transform\": out_transform,\n",
    "                 \"crs\": epsg_code\n",
    "                })"
   ]
  },
  {
   "cell_type": "code",
   "execution_count": 222,
   "id": "friendly-genealogy",
   "metadata": {},
   "outputs": [],
   "source": [
    "with rt.open(\"data/DSM_masked.tif\", \"w\", **out_meta) as dest:\n",
    "        dest.write(out_img)"
   ]
  },
  {
   "cell_type": "code",
   "execution_count": 246,
   "id": "cardiac-means",
   "metadata": {},
   "outputs": [
    {
     "data": {
      "image/png": "[encoded data removed]",
      "text/plain": [
       "<Figure size 432x288 with 1 Axes>"
      ]
     },
     "metadata": {
      "needs_background": "light"
     },
     "output_type": "display_data"
    },
    {
     "data": {
      "text/plain": [
       "<AxesSubplot:>"
      ]
     },
     "execution_count": 246,
     "metadata": {},
     "output_type": "execute_result"
    }
   ],
   "source": [
    "dsm_tif = rt.open(\"data/DSM_masked.tif\")\n",
    "\n",
    "# Visualize\n",
    "show((dsm_tif, 1), cmap='Blues')"
   ]
  },
  {
   "cell_type": "code",
   "execution_count": 240,
   "id": "assisted-article",
   "metadata": {},
   "outputs": [
    {
     "name": "stdout",
     "output_type": "stream",
     "text": [
      "{'driver': 'GTiff', 'dtype': 'float32', 'nodata': -9999.0, 'width': 32000, 'height': 20000, 'count': 1, 'crs': CRS.from_epsg(31370), 'transform': Affine(1.0, 0.0, 130000.0,\n",
      "       0.0, -1.0, 218000.0)}\n"
     ]
    }
   ],
   "source": [
    "# Read the data\n",
    "data_dtm = rt.open(DTM_file)\n",
    "\n",
    "\n",
    "out_img_dtm, out_transform_dtm = mask(dataset=data_dtm, shapes=poly, crop=True)\n",
    "out_meta_dtm = data_dtm.meta.copy()\n",
    "print(out_meta_dtm)\n",
    "\n",
    "out_meta_dtm.update({\"driver\": \"GTiff\",\n",
    "                 \"height\": out_img_dtm.shape[1],\n",
    "                 \"width\": out_img_dtm.shape[2],\n",
    "                 \"transform\": out_transform_dtm,\n",
    "                 \"crs\": epsg_code\n",
    "                })"
   ]
  },
  {
   "cell_type": "code",
   "execution_count": 241,
   "id": "prostate-equation",
   "metadata": {},
   "outputs": [],
   "source": [
    "with rt.open(\"data/DTM_masked.tif\", \"w\", **out_meta_dtm) as dest:\n",
    "        dest.write(out_img_dtm)"
   ]
  },
  {
   "cell_type": "code",
   "execution_count": 247,
   "id": "official-worship",
   "metadata": {},
   "outputs": [
    {
     "data": {
      "image/png": "[encoded data removed]",
      "text/plain": [
       "<Figure size 432x288 with 1 Axes>"
      ]
     },
     "metadata": {
      "needs_background": "light"
     },
     "output_type": "display_data"
    },
    {
     "data": {
      "text/plain": [
       "<AxesSubplot:>"
      ]
     },
     "execution_count": 247,
     "metadata": {},
     "output_type": "execute_result"
    }
   ],
   "source": [
    "dtm_tif = rt.open(\"data/DTM_masked.tif\")\n",
    "\n",
    "# Visualize\n",
    "show((dtm_tif, 1), cmap='Blues')"
   ]
  },
  {
   "cell_type": "code",
   "execution_count": 248,
   "id": "adverse-cooper",
   "metadata": {},
   "outputs": [
    {
     "ename": "TypeError",
     "evalue": "unsupported operand type(s) for -: 'DatasetReader' and 'DatasetReader'",
     "output_type": "error",
     "traceback": [
      "\u001b[1;31m---------------------------------------------------------------------------\u001b[0m",
      "\u001b[1;31mTypeError\u001b[0m                                 Traceback (most recent call last)",
      "\u001b[1;32m<ipython-input-248-8334c3e6d2b6>\u001b[0m in \u001b[0;36m<module>\u001b[1;34m\u001b[0m\n\u001b[1;32m----> 1\u001b[1;33m \u001b[0mCHM\u001b[0m \u001b[1;33m=\u001b[0m \u001b[0mdsm_tif\u001b[0m \u001b[1;33m-\u001b[0m \u001b[0mdtm_tif\u001b[0m\u001b[1;33m\u001b[0m\u001b[1;33m\u001b[0m\u001b[0m\n\u001b[0m",
      "\u001b[1;31mTypeError\u001b[0m: unsupported operand type(s) for -: 'DatasetReader' and 'DatasetReader'"
     ]
    }
   ],
   "source": [
    "CHM = dsm_tif - dtm_tif"
   ]
  },
  {
   "cell_type": "code",
   "execution_count": 249,
   "id": "accepted-kansas",
   "metadata": {
    "collapsed": true
   },
   "outputs": [
    {
     "data": {
      "text/plain": [
       "array([[-9999.  , -9999.  , -9999.  , -9999.  , -9999.  , -9999.  ,\n",
       "           21.39, -9999.  , -9999.  , -9999.  , -9999.  , -9999.  ,\n",
       "        -9999.  ],\n",
       "       [-9999.  , -9999.  , -9999.  ,    14.68,    13.35,    14.97,\n",
       "           21.38, -9999.  , -9999.  , -9999.  , -9999.  , -9999.  ,\n",
       "        -9999.  ],\n",
       "       [-9999.  ,    14.98,    15.07,    15.21,    15.35,    15.49,\n",
       "           22.07,    22.09, -9999.  , -9999.  , -9999.  , -9999.  ,\n",
       "        -9999.  ],\n",
       "       [-9999.  ,    15.95,    15.92,    15.93,    16.08,    22.02,\n",
       "           22.22,    22.14, -9999.  , -9999.  , -9999.  , -9999.  ,\n",
       "        -9999.  ],\n",
       "       [-9999.  ,    16.04,    15.98,    16.  ,    15.98,    22.03,\n",
       "           22.2 ,    22.28, -9999.  , -9999.  , -9999.  , -9999.  ,\n",
       "        -9999.  ],\n",
       "       [-9999.  ,    21.73,    16.  ,    15.98,    16.04,    18.99,\n",
       "           22.19,    22.09, -9999.  , -9999.  , -9999.  , -9999.  ,\n",
       "        -9999.  ],\n",
       "       [-9999.  , -9999.  ,    16.02,    15.92,    15.9 ,    15.94,\n",
       "           22.  ,    22.06,    22.38, -9999.  , -9999.  , -9999.  ,\n",
       "        -9999.  ],\n",
       "       [-9999.  , -9999.  ,    15.94,    16.04,    16.01,    16.01,\n",
       "           22.35,    22.31,    22.43, -9999.  , -9999.  , -9999.  ,\n",
       "        -9999.  ],\n",
       "       [-9999.  , -9999.  ,    16.14,    15.99,    16.33,    16.08,\n",
       "           22.46,    22.35,    22.36, -9999.  , -9999.  , -9999.  ,\n",
       "        -9999.  ],\n",
       "       [-9999.  , -9999.  ,    20.4 ,    16.08,    16.52,    15.99,\n",
       "           21.12,    22.34,    22.35, -9999.  , -9999.  , -9999.  ,\n",
       "        -9999.  ],\n",
       "       [-9999.  , -9999.  , -9999.  ,    16.08,    16.07,    15.98,\n",
       "           16.17,    22.38,    23.33,    24.95, -9999.  , -9999.  ,\n",
       "        -9999.  ],\n",
       "       [-9999.  , -9999.  , -9999.  ,    16.07,    17.18,    20.28,\n",
       "           24.13,    26.21,    26.34,    26.5 , -9999.  , -9999.  ,\n",
       "        -9999.  ],\n",
       "       [-9999.  , -9999.  , -9999.  ,    26.27,    26.41,    24.77,\n",
       "           26.73,    26.91,    27.05,    27.19, -9999.  , -9999.  ,\n",
       "        -9999.  ],\n",
       "       [-9999.  , -9999.  , -9999.  ,    26.91,    27.07,    27.25,\n",
       "           27.4 ,    27.52,    27.67,    27.88, -9999.  , -9999.  ,\n",
       "        -9999.  ],\n",
       "       [-9999.  , -9999.  , -9999.  , -9999.  ,    27.73,    27.87,\n",
       "           28.02,    28.18,    28.36,    28.54,    28.72, -9999.  ,\n",
       "        -9999.  ],\n",
       "       [-9999.  , -9999.  , -9999.  , -9999.  ,    29.27,    28.51,\n",
       "           28.64,    28.78,    28.97,    29.18,    29.36, -9999.  ,\n",
       "        -9999.  ],\n",
       "       [-9999.  , -9999.  , -9999.  , -9999.  ,    29.06,    29.13,\n",
       "           29.3 ,    29.48,    29.67,    29.83,    30.04, -9999.  ,\n",
       "        -9999.  ],\n",
       "       [-9999.  , -9999.  , -9999.  , -9999.  ,    28.77,    29.84,\n",
       "           29.94,    29.81,    29.66,    29.5 ,    29.36, -9999.  ,\n",
       "        -9999.  ],\n",
       "       [-9999.  , -9999.  , -9999.  , -9999.  , -9999.  ,    29.51,\n",
       "           29.33,    29.16,    28.95,    28.83,    28.69,    28.62,\n",
       "        -9999.  ],\n",
       "       [-9999.  , -9999.  , -9999.  , -9999.  , -9999.  ,    28.84,\n",
       "           28.65,    28.46,    28.29,    28.14,    28.02,    27.93,\n",
       "        -9999.  ],\n",
       "       [-9999.  , -9999.  , -9999.  , -9999.  , -9999.  ,    28.73,\n",
       "           27.97,    27.79,    27.62,    27.48,    27.33,    27.21,\n",
       "        -9999.  ],\n",
       "       [-9999.  , -9999.  , -9999.  , -9999.  , -9999.  ,    29.51,\n",
       "           27.37,    26.64,    26.98,    26.83,    26.69,    26.56,\n",
       "        -9999.  ],\n",
       "       [-9999.  , -9999.  , -9999.  , -9999.  , -9999.  , -9999.  ,\n",
       "           26.7 ,    22.  ,    26.4 ,    23.77,    26.01, -9999.  ,\n",
       "        -9999.  ],\n",
       "       [-9999.  , -9999.  , -9999.  , -9999.  , -9999.  , -9999.  ,\n",
       "           16.99, -9999.  , -9999.  , -9999.  , -9999.  , -9999.  ,\n",
       "        -9999.  ]], dtype=float32)"
      ]
     },
     "execution_count": 249,
     "metadata": {},
     "output_type": "execute_result"
    }
   ],
   "source": [
    "dsm_tiff = rt.open(\"data/DSM_masked.tif\")\n",
    "dsm_array = dsm_tiff.read(1) #reading the 1st band\n",
    "dsm_array"
   ]
  },
  {
   "cell_type": "code",
   "execution_count": 250,
   "id": "elementary-effect",
   "metadata": {
    "collapsed": true
   },
   "outputs": [
    {
     "data": {
      "text/plain": [
       "array([[-9999.       , -9999.       , -9999.       , -9999.       ,\n",
       "        -9999.       , -9999.       ,    11.88     , -9999.       ,\n",
       "        -9999.       , -9999.       , -9999.       , -9999.       ,\n",
       "        -9999.       ],\n",
       "       [-9999.       , -9999.       , -9999.       ,    11.879514 ,\n",
       "           11.875604 ,    11.876141 ,    11.876488 , -9999.       ,\n",
       "        -9999.       , -9999.       , -9999.       , -9999.       ,\n",
       "        -9999.       ],\n",
       "       [-9999.       ,    11.85002  ,    11.860737 ,    11.85795  ,\n",
       "           11.854791 ,    11.855257 ,    11.855593 ,    11.851808 ,\n",
       "        -9999.       , -9999.       , -9999.       , -9999.       ,\n",
       "        -9999.       ],\n",
       "       [-9999.       ,    11.855274 ,    11.8687   ,    11.868029 ,\n",
       "           11.86491  ,    11.862969 ,    11.8616295,    11.856451 ,\n",
       "        -9999.       , -9999.       , -9999.       , -9999.       ,\n",
       "        -9999.       ],\n",
       "       [-9999.       ,    11.839546 ,    11.836151 ,    11.843951 ,\n",
       "           11.848371 ,    11.846012 ,    11.845115 ,    11.8404455,\n",
       "        -9999.       , -9999.       , -9999.       , -9999.       ,\n",
       "        -9999.       ],\n",
       "       [-9999.       ,    11.826072 ,    11.822583 ,    11.828816 ,\n",
       "           11.835694 ,    11.832801 ,    11.831935 ,    11.827438 ,\n",
       "        -9999.       , -9999.       , -9999.       , -9999.       ,\n",
       "        -9999.       ],\n",
       "       [-9999.       , -9999.       ,    11.813075 ,    11.806673 ,\n",
       "           11.8153715,    11.824187 ,    11.822429 ,    11.817804 ,\n",
       "           11.817823 , -9999.       , -9999.       , -9999.       ,\n",
       "        -9999.       ],\n",
       "       [-9999.       , -9999.       ,    11.8047905,    11.798287 ,\n",
       "           11.805704 ,    11.8167305,    11.814159 ,    11.809278 ,\n",
       "           11.736822 , -9999.       , -9999.       , -9999.       ,\n",
       "        -9999.       ],\n",
       "       [-9999.       , -9999.       ,    11.795939 ,    11.789226 ,\n",
       "           11.785303 ,    11.808821 ,    11.7213955,    11.717199 ,\n",
       "           11.717365 , -9999.       , -9999.       , -9999.       ,\n",
       "        -9999.       ],\n",
       "       [-9999.       , -9999.       ,    11.776409 ,    11.779926 ,\n",
       "           11.683436 ,    11.685064 ,    11.702281 ,    11.701509 ,\n",
       "           11.697719 , -9999.       , -9999.       , -9999.       ,\n",
       "        -9999.       ],\n",
       "       [-9999.       , -9999.       , -9999.       ,    11.671196 ,\n",
       "           11.6632595,    11.654747 ,    11.683425 ,    11.682408 ,\n",
       "           11.677958 ,    11.67343  , -9999.       , -9999.       ,\n",
       "        -9999.       ],\n",
       "       [-9999.       , -9999.       , -9999.       ,    11.642185 ,\n",
       "           11.642894 ,    11.63418  ,    11.664497 ,    11.663227 ,\n",
       "           11.6581335,    11.6536   , -9999.       , -9999.       ,\n",
       "        -9999.       ],\n",
       "       [-9999.       , -9999.       , -9999.       ,    11.623226 ,\n",
       "           11.62242  ,    11.613413 ,    11.638243 ,    11.644021 ,\n",
       "           11.6382885,    11.633782 , -9999.       , -9999.       ,\n",
       "        -9999.       ],\n",
       "       [-9999.       , -9999.       , -9999.       ,    11.604172 ,\n",
       "           11.594542 ,    11.592512 ,    11.591666 ,    11.6248455,\n",
       "           11.618456 ,    11.614    , -9999.       , -9999.       ,\n",
       "        -9999.       ],\n",
       "       [-9999.       , -9999.       , -9999.       , -9999.       ,\n",
       "           11.575042 ,    11.571536 ,    11.571222 ,    11.600132 ,\n",
       "           11.59867  ,    11.594274 ,    11.586419 , -9999.       ,\n",
       "        -9999.       ],\n",
       "       [-9999.       , -9999.       , -9999.       , -9999.       ,\n",
       "           11.55553  ,    11.544809 ,    11.550573 ,    11.548778 ,\n",
       "           11.578962 ,    11.574631 ,    11.5673895, -9999.       ,\n",
       "        -9999.       ],\n",
       "       [-9999.       , -9999.       , -9999.       , -9999.       ,\n",
       "           11.529348 ,    11.524733 ,    11.529789 ,    11.527751 ,\n",
       "           11.559368 ,    11.555107 ,    11.548476 , -9999.       ,\n",
       "        -9999.       ],\n",
       "       [-9999.       , -9999.       , -9999.       , -9999.       ,\n",
       "           11.508598 ,    11.504705 ,    11.504637 ,    11.506568 ,\n",
       "           11.539912 ,    11.53575  ,    11.52973  , -9999.       ,\n",
       "        -9999.       ],\n",
       "       [-9999.       , -9999.       , -9999.       , -9999.       ,\n",
       "        -9999.       ,    11.484838 ,    11.484591 ,    11.485274 ,\n",
       "           11.518641 ,    11.516623 ,    11.511244 ,    11.515794 ,\n",
       "        -9999.       ],\n",
       "       [-9999.       , -9999.       , -9999.       , -9999.       ,\n",
       "        -9999.       ,    11.465391 ,    11.464656 ,    11.416853 ,\n",
       "           11.418166 ,    11.458144 ,    11.455568 ,    11.462843 ,\n",
       "        -9999.       ],\n",
       "       [-9999.       , -9999.       , -9999.       , -9999.       ,\n",
       "        -9999.       ,    11.396703 ,    11.401805 ,    11.398952 ,\n",
       "           11.400032 ,    11.440605 ,    11.440627 ,    11.4462185,\n",
       "        -9999.       ],\n",
       "       [-9999.       , -9999.       , -9999.       , -9999.       ,\n",
       "        -9999.       ,    11.393879 ,    11.398068 ,    11.394934 ,\n",
       "           11.39396  ,    11.4344225,    11.439178 ,    11.445439 ,\n",
       "        -9999.       ],\n",
       "       [-9999.       , -9999.       , -9999.       , -9999.       ,\n",
       "        -9999.       , -9999.       ,    11.402511 ,    11.397517 ,\n",
       "           11.396014 ,    11.401911 ,    11.416164 , -9999.       ,\n",
       "        -9999.       ],\n",
       "       [-9999.       , -9999.       , -9999.       , -9999.       ,\n",
       "        -9999.       , -9999.       ,    11.372674 , -9999.       ,\n",
       "        -9999.       , -9999.       , -9999.       , -9999.       ,\n",
       "        -9999.       ]], dtype=float32)"
      ]
     },
     "execution_count": 250,
     "metadata": {},
     "output_type": "execute_result"
    }
   ],
   "source": [
    "dtm_tiff = rt.open(\"data/DTM_masked.tif\")\n",
    "dtm_array = dtm_tiff.read(1) #reading the 1st band\n",
    "dtm_array"
   ]
  },
  {
   "cell_type": "code",
   "execution_count": 253,
   "id": "wired-member",
   "metadata": {
    "collapsed": true
   },
   "outputs": [
    {
     "data": {
      "text/plain": [
       "array([[ 0.       ,  0.       ,  0.       ,  0.       ,  0.       ,\n",
       "         0.       ,  9.509999 ,  0.       ,  0.       ,  0.       ,\n",
       "         0.       ,  0.       ,  0.       ],\n",
       "       [ 0.       ,  0.       ,  0.       ,  2.8004866,  1.4743967,\n",
       "         3.0938597,  9.503511 ,  0.       ,  0.       ,  0.       ,\n",
       "         0.       ,  0.       ,  0.       ],\n",
       "       [ 0.       ,  3.1299791,  3.2092628,  3.3520498,  3.4952097,\n",
       "         3.6347427, 10.214407 , 10.238193 ,  0.       ,  0.       ,\n",
       "         0.       ,  0.       ,  0.       ],\n",
       "       [ 0.       ,  4.0947256,  4.0513   ,  4.0619717,  4.21509  ,\n",
       "        10.157031 , 10.35837  , 10.283548 ,  0.       ,  0.       ,\n",
       "         0.       ,  0.       ,  0.       ],\n",
       "       [ 0.       ,  4.2004547,  4.1438484,  4.156049 ,  4.131629 ,\n",
       "        10.183989 , 10.354886 , 10.439555 ,  0.       ,  0.       ,\n",
       "         0.       ,  0.       ,  0.       ],\n",
       "       [ 0.       ,  9.903928 ,  4.177417 ,  4.151183 ,  4.2043066,\n",
       "         7.157199 , 10.358066 , 10.262562 ,  0.       ,  0.       ,\n",
       "         0.       ,  0.       ,  0.       ],\n",
       "       [ 0.       ,  0.       ,  4.2069254,  4.113327 ,  4.084628 ,\n",
       "         4.1158123, 10.177571 , 10.242195 , 10.562176 ,  0.       ,\n",
       "         0.       ,  0.       ,  0.       ],\n",
       "       [ 0.       ,  0.       ,  4.135209 ,  4.2417135,  4.204296 ,\n",
       "         4.1932697, 10.535841 , 10.500722 , 10.693178 ,  0.       ,\n",
       "         0.       ,  0.       ,  0.       ],\n",
       "       [ 0.       ,  0.       ,  4.34406  ,  4.200774 ,  4.544697 ,\n",
       "         4.271179 , 10.738604 , 10.632801 , 10.642635 ,  0.       ,\n",
       "         0.       ,  0.       ,  0.       ],\n",
       "       [ 0.       ,  0.       ,  8.62359  ,  4.3000736,  4.836564 ,\n",
       "         4.3049355,  9.41772  , 10.638491 , 10.652282 ,  0.       ,\n",
       "         0.       ,  0.       ,  0.       ],\n",
       "       [ 0.       ,  0.       ,  0.       ,  4.408804 ,  4.40674  ,\n",
       "         4.3252525,  4.486575 , 10.697591 , 11.652042 , 13.27657  ,\n",
       "         0.       ,  0.       ,  0.       ],\n",
       "       [ 0.       ,  0.       ,  0.       ,  4.4278145,  5.5371065,\n",
       "         8.645821 , 12.465502 , 14.546772 , 14.681867 , 14.8464   ,\n",
       "         0.       ,  0.       ,  0.       ],\n",
       "       [ 0.       ,  0.       ,  0.       , 14.646774 , 14.78758  ,\n",
       "        13.156588 , 15.091757 , 15.265979 , 15.411711 , 15.556218 ,\n",
       "         0.       ,  0.       ,  0.       ],\n",
       "       [ 0.       ,  0.       ,  0.       , 15.305828 , 15.475458 ,\n",
       "        15.657488 , 15.808333 , 15.895155 , 16.051544 , 16.265999 ,\n",
       "         0.       ,  0.       ,  0.       ],\n",
       "       [ 0.       ,  0.       ,  0.       ,  0.       , 16.154957 ,\n",
       "        16.298466 , 16.448778 , 16.579868 , 16.76133  , 16.945728 ,\n",
       "        17.13358  ,  0.       ,  0.       ],\n",
       "       [ 0.       ,  0.       ,  0.       ,  0.       , 17.71447  ,\n",
       "        16.96519  , 17.089426 , 17.231224 , 17.391037 , 17.60537  ,\n",
       "        17.79261  ,  0.       ,  0.       ],\n",
       "       [ 0.       ,  0.       ,  0.       ,  0.       , 17.530651 ,\n",
       "        17.605267 , 17.77021  , 17.952248 , 18.110632 , 18.274893 ,\n",
       "        18.491524 ,  0.       ,  0.       ],\n",
       "       [ 0.       ,  0.       ,  0.       ,  0.       , 17.261402 ,\n",
       "        18.335295 , 18.435364 , 18.303432 , 18.120087 , 17.964249 ,\n",
       "        17.83027  ,  0.       ,  0.       ],\n",
       "       [ 0.       ,  0.       ,  0.       ,  0.       ,  0.       ,\n",
       "        18.025162 , 17.84541  , 17.674725 , 17.431358 , 17.313377 ,\n",
       "        17.178757 , 17.104206 ,  0.       ],\n",
       "       [ 0.       ,  0.       ,  0.       ,  0.       ,  0.       ,\n",
       "        17.374609 , 17.185345 , 17.043146 , 16.871834 , 16.681854 ,\n",
       "        16.564432 , 16.467157 ,  0.       ],\n",
       "       [ 0.       ,  0.       ,  0.       ,  0.       ,  0.       ,\n",
       "        17.333298 , 16.568195 , 16.391048 , 16.219969 , 16.039394 ,\n",
       "        15.889373 , 15.763781 ,  0.       ],\n",
       "       [ 0.       ,  0.       ,  0.       ,  0.       ,  0.       ,\n",
       "        18.116121 , 15.971932 , 15.245066 , 15.58604  , 15.395577 ,\n",
       "        15.250822 , 15.11456  ,  0.       ],\n",
       "       [ 0.       ,  0.       ,  0.       ,  0.       ,  0.       ,\n",
       "         0.       , 15.29749  , 10.602483 , 15.003985 , 12.36809  ,\n",
       "        14.593836 ,  0.       ,  0.       ],\n",
       "       [ 0.       ,  0.       ,  0.       ,  0.       ,  0.       ,\n",
       "         0.       ,  5.617326 ,  0.       ,  0.       ,  0.       ,\n",
       "         0.       ,  0.       ,  0.       ]], dtype=float32)"
      ]
     },
     "execution_count": 253,
     "metadata": {},
     "output_type": "execute_result"
    }
   ],
   "source": [
    "CHM = dsm_array - dtm_array\n",
    "CHM"
   ]
  },
  {
   "cell_type": "code",
   "execution_count": 256,
   "id": "exotic-wilderness",
   "metadata": {},
   "outputs": [
    {
     "data": {
      "image/png": "[encoded data removed]",
      "text/plain": [
       "<Figure size 432x288 with 1 Axes>"
      ]
     },
     "metadata": {
      "needs_background": "light"
     },
     "output_type": "display_data"
    }
   ],
   "source": [
    "plt.imshow(CHM, cmap='ocean')\n",
    "plt.show()"
   ]
  },
  {
   "cell_type": "code",
   "execution_count": 274,
   "id": "latin-manner",
   "metadata": {
    "collapsed": true
   },
   "outputs": [
    {
     "data": {
      "text/plain": [
       "array([[ 0.       ,  0.       ,  0.       ,  0.       ,  0.       ,\n",
       "         0.       ,  9.509999 ,  0.       ,  0.       ,  0.       ,\n",
       "         0.       ,  0.       ,  0.       ],\n",
       "       [ 0.       ,  0.       ,  0.       ,  2.8004866,  1.4743967,\n",
       "         3.0938597,  9.503511 ,  0.       ,  0.       ,  0.       ,\n",
       "         0.       ,  0.       ,  0.       ],\n",
       "       [ 0.       ,  3.1299791,  3.2092628,  3.3520498,  3.4952097,\n",
       "         3.6347427, 10.214407 , 10.238193 ,  0.       ,  0.       ,\n",
       "         0.       ,  0.       ,  0.       ],\n",
       "       [ 0.       ,  4.0947256,  4.0513   ,  4.0619717,  4.21509  ,\n",
       "        10.157031 , 10.35837  , 10.283548 ,  0.       ,  0.       ,\n",
       "         0.       ,  0.       ,  0.       ],\n",
       "       [ 0.       ,  4.2004547,  4.1438484,  4.156049 ,  4.131629 ,\n",
       "        10.183989 , 10.354886 , 10.439555 ,  0.       ,  0.       ,\n",
       "         0.       ,  0.       ,  0.       ],\n",
       "       [ 0.       ,  9.903928 ,  4.177417 ,  4.151183 ,  4.2043066,\n",
       "         7.157199 , 10.358066 , 10.262562 ,  0.       ,  0.       ,\n",
       "         0.       ,  0.       ,  0.       ],\n",
       "       [ 0.       ,  0.       ,  4.2069254,  4.113327 ,  4.084628 ,\n",
       "         4.1158123, 10.177571 , 10.242195 , 10.562176 ,  0.       ,\n",
       "         0.       ,  0.       ,  0.       ],\n",
       "       [ 0.       ,  0.       ,  4.135209 ,  4.2417135,  4.204296 ,\n",
       "         4.1932697, 10.535841 , 10.500722 , 10.693178 ,  0.       ,\n",
       "         0.       ,  0.       ,  0.       ],\n",
       "       [ 0.       ,  0.       ,  4.34406  ,  4.200774 ,  4.544697 ,\n",
       "         4.271179 , 10.738604 , 10.632801 , 10.642635 ,  0.       ,\n",
       "         0.       ,  0.       ,  0.       ],\n",
       "       [ 0.       ,  0.       ,  8.62359  ,  4.3000736,  4.836564 ,\n",
       "         4.3049355,  9.41772  , 10.638491 , 10.652282 ,  0.       ,\n",
       "         0.       ,  0.       ,  0.       ],\n",
       "       [ 0.       ,  0.       ,  0.       ,  4.408804 ,  4.40674  ,\n",
       "         4.3252525,  4.486575 , 10.697591 , 11.652042 , 13.27657  ,\n",
       "         0.       ,  0.       ,  0.       ],\n",
       "       [ 0.       ,  0.       ,  0.       ,  4.4278145,  5.5371065,\n",
       "         8.645821 , 12.465502 , 14.546772 , 14.681867 , 14.8464   ,\n",
       "         0.       ,  0.       ,  0.       ],\n",
       "       [ 0.       ,  0.       ,  0.       , 14.646774 , 14.78758  ,\n",
       "        13.156588 , 15.091757 , 15.265979 , 15.411711 , 15.556218 ,\n",
       "         0.       ,  0.       ,  0.       ],\n",
       "       [ 0.       ,  0.       ,  0.       , 15.305828 , 15.475458 ,\n",
       "        15.657488 , 15.808333 , 15.895155 , 16.051544 , 16.265999 ,\n",
       "         0.       ,  0.       ,  0.       ],\n",
       "       [ 0.       ,  0.       ,  0.       ,  0.       , 16.154957 ,\n",
       "        16.298466 , 16.448778 , 16.579868 , 16.76133  , 16.945728 ,\n",
       "        17.13358  ,  0.       ,  0.       ],\n",
       "       [ 0.       ,  0.       ,  0.       ,  0.       , 17.71447  ,\n",
       "        16.96519  , 17.089426 , 17.231224 , 17.391037 , 17.60537  ,\n",
       "        17.79261  ,  0.       ,  0.       ],\n",
       "       [ 0.       ,  0.       ,  0.       ,  0.       , 17.530651 ,\n",
       "        17.605267 , 17.77021  , 17.952248 , 18.110632 , 18.274893 ,\n",
       "        18.491524 ,  0.       ,  0.       ],\n",
       "       [ 0.       ,  0.       ,  0.       ,  0.       , 17.261402 ,\n",
       "        18.335295 , 18.435364 , 18.303432 , 18.120087 , 17.964249 ,\n",
       "        17.83027  ,  0.       ,  0.       ],\n",
       "       [ 0.       ,  0.       ,  0.       ,  0.       ,  0.       ,\n",
       "        18.025162 , 17.84541  , 17.674725 , 17.431358 , 17.313377 ,\n",
       "        17.178757 , 17.104206 ,  0.       ],\n",
       "       [ 0.       ,  0.       ,  0.       ,  0.       ,  0.       ,\n",
       "        17.374609 , 17.185345 , 17.043146 , 16.871834 , 16.681854 ,\n",
       "        16.564432 , 16.467157 ,  0.       ],\n",
       "       [ 0.       ,  0.       ,  0.       ,  0.       ,  0.       ,\n",
       "        17.333298 , 16.568195 , 16.391048 , 16.219969 , 16.039394 ,\n",
       "        15.889373 , 15.763781 ,  0.       ],\n",
       "       [ 0.       ,  0.       ,  0.       ,  0.       ,  0.       ,\n",
       "        18.116121 , 15.971932 , 15.245066 , 15.58604  , 15.395577 ,\n",
       "        15.250822 , 15.11456  ,  0.       ],\n",
       "       [ 0.       ,  0.       ,  0.       ,  0.       ,  0.       ,\n",
       "         0.       , 15.29749  , 10.602483 , 15.003985 , 12.36809  ,\n",
       "        14.593836 ,  0.       ,  0.       ],\n",
       "       [ 0.       ,  0.       ,  0.       ,  0.       ,  0.       ,\n",
       "         0.       ,  5.617326 ,  0.       ,  0.       ,  0.       ,\n",
       "         0.       ,  0.       ,  0.       ]], dtype=float32)"
      ]
     },
     "execution_count": 274,
     "metadata": {},
     "output_type": "execute_result"
    }
   ],
   "source": [
    "CHM"
   ]
  },
  {
   "cell_type": "code",
   "execution_count": 272,
   "id": "religious-nudist",
   "metadata": {},
   "outputs": [
    {
     "data": {
      "text/plain": [
       "[[153093.57102139294, 209554.90101145208],\n",
       " [153088.04794938862, 209576.96968346462],\n",
       " [153086.6291333884, 209576.6253634654],\n",
       " [153086.7168133855, 209576.27758746594],\n",
       " [153081.55226938426, 209574.8868674636],\n",
       " [153081.82017338276, 209573.81653146446],\n",
       " [153086.96302139014, 209553.26702744886],\n",
       " [153093.57102139294, 209554.90101145208]]"
      ]
     },
     "execution_count": 272,
     "metadata": {},
     "output_type": "execute_result"
    }
   ],
   "source": [
    "polygon['coordinates']"
   ]
  },
  {
   "cell_type": "markdown",
   "id": "standing-ballot",
   "metadata": {},
   "source": [
    "### Plotting 3D"
   ]
  },
  {
   "cell_type": "code",
   "execution_count": 273,
   "id": "subsequent-wrapping",
   "metadata": {},
   "outputs": [
    {
     "data": {
      "image/png": "[encoded data removed]",
      "text/plain": [
       "<Figure size 432x288 with 1 Axes>"
      ]
     },
     "metadata": {
      "needs_background": "light"
     },
     "output_type": "display_data"
    }
   ],
   "source": [
    "x = (153093.57102139294, 153088.04794938862, 153086.6291333884, 153086.7168133855, 153081.55226938426,\n",
    "    153081.82017338276, 153086.96302139014, 153093.57102139294 )  \n",
    "  \n",
    "y = (209554.90101145208, 209576.96968346462, 209576.6253634654, 209576.27758746594, 209574.8868674636,\n",
    "    209573.81653146446, 209553.26702744886, 209554.90101145208) \n",
    "  \n",
    "plt.scatter(x, y, c =\"blue\") \n",
    "  \n",
    "# To show the plot \n",
    "plt.show() "
   ]
  },
  {
   "cell_type": "code",
   "execution_count": null,
   "id": "single-movement",
   "metadata": {},
   "outputs": [],
   "source": []
  },
  {
   "cell_type": "code",
   "execution_count": null,
   "id": "industrial-briefing",
   "metadata": {},
   "outputs": [],
   "source": []
  },
  {
   "cell_type": "code",
   "execution_count": null,
   "id": "decent-plaza",
   "metadata": {},
   "outputs": [],
   "source": []
  },
  {
   "cell_type": "code",
   "execution_count": null,
   "id": "undefined-brick",
   "metadata": {},
   "outputs": [],
   "source": []
  },
  {
   "cell_type": "code",
   "execution_count": 264,
   "id": "expired-details",
   "metadata": {},
   "outputs": [
    {
     "data": {
      "image/png": "[encoded data removed]",
      "text/plain": [
       "<Figure size 432x288 with 1 Axes>"
      ]
     },
     "metadata": {
      "needs_background": "light"
     },
     "output_type": "display_data"
    }
   ],
   "source": [
    "from mpl_toolkits import mplot3d\n",
    "\n",
    "ax = plt.axes(projection=\"3d\")\n",
    "\n",
    "z = np.linspace(0,30,100)\n",
    "x = np.sin(z)\n",
    "y = np.cos(z)\n",
    "\n",
    "ax.plot3D(x,y,z)\n",
    "\n",
    "plt.show()"
   ]
  },
  {
   "cell_type": "code",
   "execution_count": 267,
   "id": "tracked-joseph",
   "metadata": {},
   "outputs": [
    {
     "data": {
      "image/png": "[encoded data removed]",
      "text/plain": [
       "<Figure size 432x288 with 1 Axes>"
      ]
     },
     "metadata": {
      "needs_background": "light"
     },
     "output_type": "display_data"
    }
   ],
   "source": [
    "ax = plt.axes(projection=\"3d\")\n",
    "\n",
    "def z_function(x,y):\n",
    "     return np.sin(np.sqrt(x ** 2 + y ** 2))\n",
    "\n",
    "x = np.linspace(-5,5,100)\n",
    "y = np.linspace(-5,5,100)\n",
    "\n",
    "X, Y = np.meshgrid(x,y)\n",
    "Z = z_function(X,Y)\n",
    "\n",
    "ax.plot_surface(X,Y,Z)\n",
    "\n",
    "plt.show()"
   ]
  },
  {
   "cell_type": "code",
   "execution_count": 280,
   "id": "personal-spirit",
   "metadata": {},
   "outputs": [
    {
     "ename": "TypeError",
     "evalue": "plot() missing 1 required positional argument: 'ys'",
     "output_type": "error",
     "traceback": [
      "\u001b[1;31m---------------------------------------------------------------------------\u001b[0m",
      "\u001b[1;31mTypeError\u001b[0m                                 Traceback (most recent call last)",
      "\u001b[1;32m<ipython-input-280-572bdbd10f6d>\u001b[0m in \u001b[0;36m<module>\u001b[1;34m\u001b[0m\n\u001b[0;32m      1\u001b[0m \u001b[0max\u001b[0m \u001b[1;33m=\u001b[0m \u001b[0mplt\u001b[0m\u001b[1;33m.\u001b[0m\u001b[0maxes\u001b[0m\u001b[1;33m(\u001b[0m\u001b[0mprojection\u001b[0m\u001b[1;33m=\u001b[0m\u001b[1;34m\"3d\"\u001b[0m\u001b[1;33m)\u001b[0m\u001b[1;33m\u001b[0m\u001b[1;33m\u001b[0m\u001b[0m\n\u001b[0;32m      2\u001b[0m \u001b[1;33m\u001b[0m\u001b[0m\n\u001b[1;32m----> 3\u001b[1;33m \u001b[0max\u001b[0m\u001b[1;33m.\u001b[0m\u001b[0mplot3D\u001b[0m\u001b[1;33m(\u001b[0m\u001b[0mCHM\u001b[0m\u001b[1;33m)\u001b[0m\u001b[1;33m\u001b[0m\u001b[1;33m\u001b[0m\u001b[0m\n\u001b[0m\u001b[0;32m      4\u001b[0m \u001b[1;33m\u001b[0m\u001b[0m\n\u001b[0;32m      5\u001b[0m \u001b[0mplt\u001b[0m\u001b[1;33m.\u001b[0m\u001b[0mshow\u001b[0m\u001b[1;33m(\u001b[0m\u001b[1;33m)\u001b[0m\u001b[1;33m\u001b[0m\u001b[1;33m\u001b[0m\u001b[0m\n",
      "\u001b[1;31mTypeError\u001b[0m: plot() missing 1 required positional argument: 'ys'"
     ]
    },
    {
     "data": {
      "image/png": "[encoded data removed]",
      "text/plain": [
       "<Figure size 432x288 with 1 Axes>"
      ]
     },
     "metadata": {
      "needs_background": "light"
     },
     "output_type": "display_data"
    }
   ],
   "source": [
    "\n",
    "ax = plt.axes(projection=\"3d\")\n",
    "\n",
    "ax.plot3D(CHM)\n",
    "\n",
    "plt.show()"
   ]
  },
  {
   "cell_type": "code",
   "execution_count": 292,
   "id": "deluxe-motel",
   "metadata": {},
   "outputs": [
    {
     "ename": "ModuleNotFoundError",
     "evalue": "No module named 'plotly'",
     "output_type": "error",
     "traceback": [
      "\u001b[1;31m---------------------------------------------------------------------------\u001b[0m",
      "\u001b[1;31mModuleNotFoundError\u001b[0m                       Traceback (most recent call last)",
      "\u001b[1;32m<ipython-input-292-6f81d4723060>\u001b[0m in \u001b[0;36m<module>\u001b[1;34m\u001b[0m\n\u001b[1;32m----> 1\u001b[1;33m \u001b[1;32mimport\u001b[0m \u001b[0mplotly\u001b[0m\u001b[1;33m.\u001b[0m\u001b[0mgraph_objects\u001b[0m \u001b[1;32mas\u001b[0m \u001b[0mgo\u001b[0m\u001b[1;33m\u001b[0m\u001b[1;33m\u001b[0m\u001b[0m\n\u001b[0m",
      "\u001b[1;31mModuleNotFoundError\u001b[0m: No module named 'plotly'"
     ]
    }
   ],
   "source": [
    "import plotly.graph_objects as go"
   ]
  },
  {
   "cell_type": "code",
   "execution_count": 291,
   "id": "electrical-cleaners",
   "metadata": {},
   "outputs": [
    {
     "ename": "NameError",
     "evalue": "name 'go' is not defined",
     "output_type": "error",
     "traceback": [
      "\u001b[1;31m---------------------------------------------------------------------------\u001b[0m",
      "\u001b[1;31mNameError\u001b[0m                                 Traceback (most recent call last)",
      "\u001b[1;32m<ipython-input-291-e4b78c05d21f>\u001b[0m in \u001b[0;36m<module>\u001b[1;34m\u001b[0m\n\u001b[0;32m      1\u001b[0m \u001b[1;31m#3D plot\u001b[0m\u001b[1;33m\u001b[0m\u001b[1;33m\u001b[0m\u001b[1;33m\u001b[0m\u001b[0m\n\u001b[0;32m      2\u001b[0m \u001b[1;31m#fliplr: Reverse the order of elements in 'crop_chm_img' array horizontally\u001b[0m\u001b[1;33m\u001b[0m\u001b[1;33m\u001b[0m\u001b[1;33m\u001b[0m\u001b[0m\n\u001b[1;32m----> 3\u001b[1;33m \u001b[0mfig\u001b[0m \u001b[1;33m=\u001b[0m \u001b[0mgo\u001b[0m\u001b[1;33m.\u001b[0m\u001b[0mFigure\u001b[0m\u001b[1;33m(\u001b[0m\u001b[0mdata\u001b[0m\u001b[1;33m=\u001b[0m\u001b[0mgo\u001b[0m\u001b[1;33m.\u001b[0m\u001b[0mSurface\u001b[0m\u001b[1;33m(\u001b[0m\u001b[0mz\u001b[0m\u001b[1;33m=\u001b[0m\u001b[0mnp\u001b[0m\u001b[1;33m.\u001b[0m\u001b[0mfliplr\u001b[0m\u001b[1;33m(\u001b[0m\u001b[0mCHM\u001b[0m\u001b[1;33m)\u001b[0m\u001b[1;33m,\u001b[0m \u001b[0mcolorscale\u001b[0m\u001b[1;33m=\u001b[0m\u001b[1;34m'plotly3'\u001b[0m\u001b[1;33m)\u001b[0m\u001b[1;33m)\u001b[0m\u001b[1;33m\u001b[0m\u001b[1;33m\u001b[0m\u001b[0m\n\u001b[0m\u001b[0;32m      4\u001b[0m \u001b[0mfig\u001b[0m\u001b[1;33m.\u001b[0m\u001b[0mupdate_layout\u001b[0m\u001b[1;33m(\u001b[0m\u001b[0mscene_aspectmode\u001b[0m\u001b[1;33m=\u001b[0m\u001b[1;34m'manual'\u001b[0m\u001b[1;33m,\u001b[0m \u001b[0mscene_aspectratio\u001b[0m\u001b[1;33m=\u001b[0m\u001b[0mdict\u001b[0m\u001b[1;33m(\u001b[0m\u001b[0mx\u001b[0m\u001b[1;33m=\u001b[0m\u001b[1;36m1\u001b[0m\u001b[1;33m,\u001b[0m \u001b[0my\u001b[0m\u001b[1;33m=\u001b[0m\u001b[1;36m1\u001b[0m\u001b[1;33m,\u001b[0m \u001b[0mz\u001b[0m\u001b[1;33m=\u001b[0m\u001b[1;36m0.5\u001b[0m\u001b[1;33m)\u001b[0m\u001b[1;33m)\u001b[0m\u001b[1;33m\u001b[0m\u001b[1;33m\u001b[0m\u001b[0m\n\u001b[0;32m      5\u001b[0m fig.update_layout(\n",
      "\u001b[1;31mNameError\u001b[0m: name 'go' is not defined"
     ]
    }
   ],
   "source": [
    "\n",
    "\n",
    "#3D plot\n",
    "#fliplr: Reverse the order of elements in 'crop_chm_img' array horizontally\n",
    "fig = go.Figure(data=go.Surface(z=np.fliplr(CHM), colorscale='plotly3'))\n",
    "fig.update_layout(scene_aspectmode='manual', scene_aspectratio=dict(x=1, y=1, z=0.5))\n",
    "fig.update_layout(\n",
    "    title={\n",
    "        'text': \"3D Building at \" + formattedaddress,\n",
    "        'y':0.9,\n",
    "        'x':0.5,\n",
    "        'xanchor': 'center',\n",
    "        'yanchor': 'top'},\n",
    "    title_font_color=\"green\")\n",
    "\n",
    "fig.show()\n"
   ]
  },
  {
   "cell_type": "code",
   "execution_count": null,
   "id": "disabled-development",
   "metadata": {},
   "outputs": [],
   "source": [
    "\n",
    "'''For plotting 3D'''\n",
    "\n",
    "fig = go.Figure(data=go.Surface(z=crop_chm, colorscale='YlOrRd'))\n",
    "\n",
    "fig.update_layout(title='3D Plot', autosize=True)\n",
    "\n",
    "fig.show()"
   ]
  },
  {
   "cell_type": "code",
   "execution_count": null,
   "id": "cheap-sunglasses",
   "metadata": {},
   "outputs": [],
   "source": [
    "\n",
    "fig = go.Figure(data=go.Surface(z=crop_img_chm, colorscale = 'YlGnBu'))\n",
    "fig.show()"
   ]
  },
  {
   "cell_type": "code",
   "execution_count": null,
   "id": "motivated-recognition",
   "metadata": {},
   "outputs": [],
   "source": []
  },
  {
   "cell_type": "code",
   "execution_count": 228,
   "id": "theoretical-active",
   "metadata": {},
   "outputs": [],
   "source": [
    "with rt.open(DSM_file) as f:\n",
    "    dsm_image = rt.mask.mask(f, poly, crop=True)\n",
    "    dsm_extent = rt.plot.plotting_extent(f)\n",
    "    dsm_meta = f.meta"
   ]
  },
  {
   "cell_type": "code",
   "execution_count": 234,
   "id": "dense-monster",
   "metadata": {},
   "outputs": [],
   "source": [
    "with rt.open(DTM_file) as f:\n",
    "    dtm_image = rt.mask.mask(f, poly, crop=True)\n",
    "    dtm_extent = rt.plot.plotting_extent(f)\n",
    "    dtm_meta = f.meta"
   ]
  },
  {
   "cell_type": "code",
   "execution_count": 254,
   "id": "accessory-funeral",
   "metadata": {},
   "outputs": [
    {
     "ename": "TypeError",
     "evalue": "unsupported operand type(s) for -: 'tuple' and 'tuple'",
     "output_type": "error",
     "traceback": [
      "\u001b[1;31m---------------------------------------------------------------------------\u001b[0m",
      "\u001b[1;31mTypeError\u001b[0m                                 Traceback (most recent call last)",
      "\u001b[1;32m<ipython-input-254-e4f5916016ea>\u001b[0m in \u001b[0;36m<module>\u001b[1;34m\u001b[0m\n\u001b[1;32m----> 1\u001b[1;33m \u001b[0mchm\u001b[0m \u001b[1;33m=\u001b[0m \u001b[0mdsm_image\u001b[0m \u001b[1;33m-\u001b[0m \u001b[0mdtm_image\u001b[0m\u001b[1;33m\u001b[0m\u001b[1;33m\u001b[0m\u001b[0m\n\u001b[0m",
      "\u001b[1;31mTypeError\u001b[0m: unsupported operand type(s) for -: 'tuple' and 'tuple'"
     ]
    }
   ],
   "source": [
    "chm = dsm_image - dtm_image"
   ]
  },
  {
   "cell_type": "code",
   "execution_count": null,
   "id": "periodic-apple",
   "metadata": {},
   "outputs": [],
   "source": [
    "plt.imshow(chm, cmap='ocean')\n",
    "plt.show()"
   ]
  },
  {
   "cell_type": "code",
   "execution_count": null,
   "id": "small-browse",
   "metadata": {},
   "outputs": [],
   "source": []
  },
  {
   "cell_type": "markdown",
   "id": "mechanical-climate",
   "metadata": {},
   "source": [
    "Then, we can get the CHM."
   ]
  },
  {
   "cell_type": "code",
   "execution_count": null,
   "id": "satisfied-token",
   "metadata": {},
   "outputs": [],
   "source": []
  },
  {
   "cell_type": "code",
   "execution_count": null,
   "id": "correct-ghana",
   "metadata": {},
   "outputs": [],
   "source": []
  },
  {
   "cell_type": "code",
   "execution_count": null,
   "id": "pressing-hampton",
   "metadata": {},
   "outputs": [],
   "source": []
  },
  {
   "cell_type": "code",
   "execution_count": null,
   "id": "utility-digit",
   "metadata": {},
   "outputs": [],
   "source": []
  },
  {
   "cell_type": "code",
   "execution_count": null,
   "id": "descending-animation",
   "metadata": {},
   "outputs": [],
   "source": []
  },
  {
   "cell_type": "code",
   "execution_count": null,
   "id": "beneficial-rabbit",
   "metadata": {},
   "outputs": [],
   "source": []
  },
  {
   "cell_type": "code",
   "execution_count": null,
   "id": "wanted-deputy",
   "metadata": {},
   "outputs": [],
   "source": []
  },
  {
   "cell_type": "code",
   "execution_count": null,
   "id": "clean-beast",
   "metadata": {},
   "outputs": [],
   "source": []
  },
  {
   "cell_type": "code",
   "execution_count": null,
   "id": "cognitive-intention",
   "metadata": {},
   "outputs": [],
   "source": []
  },
  {
   "cell_type": "code",
   "execution_count": null,
   "id": "nasty-marina",
   "metadata": {},
   "outputs": [],
   "source": []
  },
  {
   "cell_type": "code",
   "execution_count": null,
   "id": "tutorial-essay",
   "metadata": {},
   "outputs": [],
   "source": []
  },
  {
   "cell_type": "code",
   "execution_count": null,
   "id": "behavioral-trigger",
   "metadata": {},
   "outputs": [],
   "source": []
  }
 ],
 "metadata": {
  "kernelspec": {
   "display_name": "Python 3",
   "language": "python",
   "name": "python3"
  },
  "language_info": {
   "codemirror_mode": {
    "name": "ipython",
    "version": 3
   },
   "file_extension": ".py",
   "mimetype": "text/x-python",
   "name": "python",
   "nbconvert_exporter": "python",
   "pygments_lexer": "ipython3",
   "version": "3.8.5"
  }
 },
 "nbformat": 4,
 "nbformat_minor": 5
}
